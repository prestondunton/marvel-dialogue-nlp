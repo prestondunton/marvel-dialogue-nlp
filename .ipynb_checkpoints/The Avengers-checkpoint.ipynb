{
 "cells": [
  {
   "cell_type": "code",
   "execution_count": 23,
   "metadata": {},
   "outputs": [],
   "source": [
    "import pandas as pd\n",
    "pd.set_option('display.max_rows', None)\n",
    "pd.set_option('display.max_colwidth', None)"
   ]
  },
  {
   "cell_type": "markdown",
   "metadata": {},
   "source": [
    "## Script to CSV Process\n",
    "\n",
    "1. Load script `.txt` file.  Use [PDF Extractor](https://pdfextractor.com/) to convert any `.pdf`s to `.txt`s.\n",
    "2. Remove garbage rows\n",
    "3. Inspect rows removed\n",
    "4. Format lines\n",
    "5. Create `uppercase_unique_form.csv`\n",
    "6. Manually fill out `uppercase_unique_form.csv` columns `is_character_name` and `is_dialogue` in Excel or other `.csv` editor.\n",
    "7. Load `uppercase_unique.csv` and filter out rows\n",
    "8. Inspect rows removed\n",
    "9. Merge lines into best guesses for columns \"character\" and \"line\"\n",
    "10. Manually clean the \"line\" column by removing text that is not dialogue.  There will be a lot, so nearly every cell will have to be cleaned!\n",
    "\n",
    "\n",
    "See the Avengers Endgame script at the end of this notebook for an example of this process."
   ]
  },
  {
   "cell_type": "markdown",
   "metadata": {},
   "source": [
    "## Remove Garbage Rows"
   ]
  },
  {
   "cell_type": "code",
   "execution_count": 20,
   "metadata": {},
   "outputs": [],
   "source": [
    "def remove_whitespace_rows(df):\n",
    "    whitespace_rows = df[\"line\"].str.isspace()\n",
    "    print(whitespace_rows.sum(),\"whitespace rows removed\")\n",
    "    return df[~whitespace_rows], df[whitespace_rows]\n",
    "\n",
    "def remove_int_ext_rows(df):\n",
    "    int_rows = df[\"line\"].str.contains(\"^INT\\.\",case=True)\n",
    "    ext_rows = df[\"line\"].str.contains(\"^EXT\\.\",case=True)\n",
    "    \n",
    "    print(int_rows.sum(),\"INT. rows removed\")\n",
    "    print(ext_rows.sum(),\"EXT. rows removed\")\n",
    "    \n",
    "    removed_rows = int_rows | ext_rows\n",
    "    \n",
    "    return df[~removed_rows], df[removed_rows]\n",
    "\n",
    "def remove_movie_text_rows(df):\n",
    "    time_cut_rows = df[\"line\"].str.contains(\"TIME CUT:\",case=True)\n",
    "    intercut_rows = df[\"line\"].str.contains(\"INTERCUT:\",case=True)\n",
    "    title_rows = df[\"line\"].str.contains(\"TITLE:\",case=True)\n",
    "    marvel_rows = df[\"line\"].str.contains(\"MARVEL FLIP\",case=True)\n",
    "    cut_to_rows = df[\"line\"].str.contains(\"CUT TO\",case=True)\n",
    "    slam_to_rows = df[\"line\"].str.contains(\"SLAM TO\",case=True)\n",
    "    dissolve_to_rows = df[\"line\"].str.contains(\"DISSOLVE TO\",case=True)\n",
    "    the_end_rows = df[\"line\"].str.contains(\"^THE END\",case=True)\n",
    "    screenplay_rows = df[\"line\"].str.contains(\"BEST ADAPTED SCREENPLAY\",case=True)\n",
    "    fade_to_black_rows = df[\"line\"].str.contains(\"FADE TO BLACK\",case=True)\n",
    "    cue_music_rows = df[\"line\"].str.contains(\"CUE MUSIC\",case=True)\n",
    "    \n",
    "    print(time_cut_rows.sum(),\"TIME CUT rows removed\")\n",
    "    print(intercut_rows.sum(),\"INTERCUT rows removed\")\n",
    "    print(title_rows.sum(),\"TITILE rows removed\")\n",
    "    print(marvel_rows.sum(),\"MARVEL FLIP rows removed\")\n",
    "    print(cut_to_rows.sum(),\"CUT TO rows removed\")\n",
    "    print(slam_to_rows.sum(),\"SLAM TO rows removed\")\n",
    "    print(dissolve_to_rows.sum(),\"DISSOLVE TO rows removed\")\n",
    "    print(the_end_rows.sum(),\"THE END rows removed\")\n",
    "    print(screenplay_rows.sum(),\"BEST ADAPTED SCREENPLAY rows removed\")\n",
    "    print(fade_to_black_rows.sum(),\"FADE TO BLACK rows removed\")\n",
    "    print(cue_music_rows.sum(),\"CUE MUSIC rows removed\")\n",
    "    \n",
    "    removed_rows = time_cut_rows | title_rows | marvel_rows | cut_to_rows | \\\n",
    "              slam_to_rows | dissolve_to_rows | the_end_rows | intercut_rows | \\\n",
    "            screenplay_rows | fade_to_black_rows | cue_music_rows\n",
    "    \n",
    "    return df[~removed_rows], df[removed_rows]\n",
    "\n",
    "\n",
    "def remove_page_number_rows(df):\n",
    "    page_rows = df[\"line\"].str.isnumeric()\n",
    "    print(page_rows.sum(),\"page number rows removed\")\n",
    "    \n",
    "    return df[~page_rows], df[page_rows]\n",
    "\n",
    "def remove_garbage_rows(df):\n",
    "    df, int_ext_rows = remove_int_ext_rows(df)\n",
    "    df, whitespace_rows = remove_whitespace_rows(df)\n",
    "    df, page_number_rows = remove_page_number_rows(df)\n",
    "    df, movie_text_rows = remove_movie_text_rows(df)\n",
    "    \n",
    "    garbage_rows = pd.concat([int_ext_rows, whitespace_rows, page_number_rows, movie_text_rows], \n",
    "                            keys = [\"int_ext\",\"whitespace\",\"page_numbers\",\"movie_text\"])\n",
    "    \n",
    "    print(\"-----------------------------------------\")\n",
    "    print(garbage_rows.shape[0],\"total rows removed\\n\")\n",
    "    \n",
    "    return df, garbage_rows"
   ]
  },
  {
   "cell_type": "markdown",
   "metadata": {},
   "source": [
    "## Format Character Lines"
   ]
  },
  {
   "cell_type": "code",
   "execution_count": 21,
   "metadata": {},
   "outputs": [],
   "source": [
    "def remove_cont_os(df):\n",
    "    result = df\n",
    "    result[\"line\"] = result[\"line\"].str.replace(\"(CONT'D)\",\"\",case=True,regex=False)\n",
    "    result[\"line\"] = result[\"line\"].str.replace(\"(O.S.)\",\"\",case=True,regex=False)\n",
    "    result[\"line\"] = result[\"line\"].str.replace(\"(O.S)\",\"\",case=True,regex=False)\n",
    "    result[\"line\"] = result[\"line\"].str.replace(\"(ON SCREEN)\",\"\",case=True,regex=False)\n",
    "    return result\n",
    "\n",
    "def remove_coms_holo(df):\n",
    "    result = df\n",
    "    result[\"line\"] = result[\"line\"].str.replace(\"(OVER COM)\",\"\",case=True,regex=False)\n",
    "    result[\"line\"] = result[\"line\"].str.replace(\"(ON COM)\",\"\",case=True,regex=False)\n",
    "    result[\"line\"] = result[\"line\"].str.replace(\"(INTO COM)\",\"\",case=True,regex=False)\n",
    "    result[\"line\"] = result[\"line\"].str.replace(\"(OVER SPEAKER)\",\"\",case=True,regex=False)\n",
    "    result[\"line\"] = result[\"line\"].str.replace(\"(INTO PHONE)\",\"\",case=True,regex=False)\n",
    "    result[\"line\"] = result[\"line\"].str.replace(\"(OVER PHONE)\",\"\",case=True,regex=False)\n",
    "    result[\"line\"] = result[\"line\"].str.replace(\"(HOLO)\",\"\",case=True,regex=False)\n",
    "    return result\n",
    "\n",
    "def remove_leading_trailing_whitespace(df):\n",
    "    result = df\n",
    "    result[\"line\"] = result[\"line\"].str.replace(\"[ \\t]+$\",\"\")\n",
    "    result[\"line\"] = result[\"line\"].str.replace(\"^[ \\t]+\",\"\")\n",
    "    return result\n",
    "\n",
    "def format_lines(df):\n",
    "\n",
    "    df = remove_leading_trailing_whitespace(df)\n",
    "    df = remove_cont_os(df)\n",
    "    df = remove_coms_holo(df)\n",
    "    df = remove_leading_trailing_whitespace(df)\n",
    "    \n",
    "    return df"
   ]
  },
  {
   "cell_type": "markdown",
   "metadata": {},
   "source": [
    "## Remove Non Dialogue Uppercase Rows"
   ]
  },
  {
   "cell_type": "code",
   "execution_count": 22,
   "metadata": {},
   "outputs": [],
   "source": [
    "def uppercase_rows(df):\n",
    "    upper_lines = df[\"line\"].str.isupper()\n",
    "    \n",
    "    #sentences = df[\"line\"].str.split(\" \").str.len() >= min_number_words\n",
    "    \n",
    "    return df[upper_lines]\n",
    "\n",
    "def create_uppercase_unique_csv(df,script_name):\n",
    "    '''\n",
    "    Creates a csv file that is used for inspection of unique\n",
    "    lines that are all uppercase.  These lines are manually labeled\n",
    "    to be character names or dialogue.  The resulting table will be\n",
    "    used to delete rows that are neither character names nor dialogue.\n",
    "    '''\n",
    "    \n",
    "    upper_rows = uppercase_rows(df)\n",
    "    unique_upper_rows = pd.DataFrame(upper_rows.line.unique())\n",
    "\n",
    "    unique_upper_rows[\"words\"] = unique_upper_rows[0].str.split(\" \").str.len()\n",
    "    unique_upper_rows[\"is_character_name\"] = 0\n",
    "    unique_upper_rows[\"is_dialogue\"] = 0\n",
    "    sorted_unique_upper_rows = unique_upper_rows.sort_values(by=[\"words\"])\n",
    "    sorted_unique_upper_rows.to_csv(\"./data/uppercase forms/\" + script_name + \"_uppercase_unique_form.csv\",encoding='utf-8')\n",
    "    \n",
    "def remove_non_dialogue_upper_rows(df,upper_rows):\n",
    "    '''\n",
    "    Removes lines that are in all caps, and that are not dialogue or a character's name.\n",
    "    '''\n",
    "    unique_character_names = upper_rows[upper_rows[\"is_character_name\"]][\"line\"]\n",
    "    unique_dialogues = upper_rows[upper_rows[\"is_dialogue\"]][\"line\"]\n",
    "    \n",
    "    all_character_name_lines = df[df[\"line\"].isin(unique_character_names)]\n",
    "    all_dialogue_lines = df[df[\"line\"].isin(unique_dialogues)]\n",
    "    \n",
    "    print(df[\"line\"].str.isupper().sum(),\"total uppercase lines\")\n",
    "    print(all_character_name_lines.shape[0],\"uppercase character name lines\")\n",
    "    print(all_dialogue_lines.shape[0],\"uppercase dialogue lines\")\n",
    "    \n",
    "    unique_lines_to_remove = upper_rows[~(upper_rows[\"is_character_name\"]|upper_rows[\"is_dialogue\"])][\"line\"]\n",
    "    removed_lines = df[\"line\"].isin(unique_lines_to_remove)\n",
    "    print(removed_lines.sum(),\"uppercase lines removed\")\n",
    "    \n",
    "    return df[~removed_lines], df[removed_lines] "
   ]
  },
  {
   "cell_type": "markdown",
   "metadata": {},
   "source": [
    "## Merge Lines"
   ]
  },
  {
   "cell_type": "code",
   "execution_count": 6,
   "metadata": {},
   "outputs": [],
   "source": [
    "def is_character_name(string,character_names):\n",
    "    return string in character_names[\"line\"].tolist()\n",
    "    \n",
    "\n",
    "def merge_lines(df,character_names):\n",
    "    '''\n",
    "    Starts at a character name and merges all lines until the next character's name.\n",
    "    The result should be the best guess at columns \"character\" and \"line\".\n",
    "    This will merge in some screenplay text that is not dialogue, so the result will \n",
    "    have to be manually cleaned as the final step.\n",
    "    '''\n",
    "    merged_df = pd.DataFrame(columns=[\"character\",\"line\"])\n",
    "    \n",
    "    for i in range(0,df.shape[0]):\n",
    "        \n",
    "        row = df.iloc[i]\n",
    "        \n",
    "        if is_character_name(row[\"line\"],character_names):\n",
    "            character = row[\"line\"]\n",
    "            line = \"\"\n",
    "            \n",
    "            j = i + 1\n",
    "            while(j < len(df) and (not is_character_name(df.iloc[j][\"line\"],character_names))):\n",
    "                line += df.iloc[j][\"line\"] + \" \"\n",
    "                j += 1\n",
    "            \n",
    "            new_row = {\"character\": character,\"line\": line}\n",
    "            \n",
    "            merged_df = merged_df.append(new_row,ignore_index=True)\n",
    "    \n",
    "    return merged_df"
   ]
  },
  {
   "cell_type": "markdown",
   "metadata": {},
   "source": [
    "## The Avengers"
   ]
  },
  {
   "cell_type": "code",
   "execution_count": null,
   "metadata": {},
   "outputs": [],
   "source": [
    "avengers = pd.read_csv(\"./data/script txts/avengers-script-slug.txt\",sep=\"\\n\",header=None,names=[\"line\"])"
   ]
  },
  {
   "cell_type": "code",
   "execution_count": null,
   "metadata": {},
   "outputs": [],
   "source": []
  }
 ],
 "metadata": {
  "kernelspec": {
   "display_name": "Python 3",
   "language": "python",
   "name": "python3"
  },
  "language_info": {
   "codemirror_mode": {
    "name": "ipython",
    "version": 3
   },
   "file_extension": ".py",
   "mimetype": "text/x-python",
   "name": "python",
   "nbconvert_exporter": "python",
   "pygments_lexer": "ipython3",
   "version": "3.8.3"
  }
 },
 "nbformat": 4,
 "nbformat_minor": 4
}
