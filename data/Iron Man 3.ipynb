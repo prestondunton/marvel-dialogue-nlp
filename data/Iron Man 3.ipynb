{
 "cells": [
  {
   "cell_type": "code",
   "execution_count": 1,
   "metadata": {},
   "outputs": [],
   "source": [
    "import pandas as pd\n",
    "pd.set_option('display.max_rows', None)\n",
    "pd.set_option('display.max_colwidth', None)"
   ]
  },
  {
   "cell_type": "markdown",
   "metadata": {},
   "source": [
    "## Script to CSV Process\n",
    "\n",
    "1. Load script `.txt` file.  Use [PDF Extractor](https://pdfextractor.com/) to convert any `.pdf`s to `.txt`s.\n",
    "2. Remove garbage rows\n",
    "3. Inspect rows removed\n",
    "4. Format lines\n",
    "5. Create `uppercase_unique_form.csv`\n",
    "6. Manually fill out `uppercase_unique_form.csv` columns `is_character_name` and `is_dialogue` in Excel or other `.csv` editor.\n",
    "7. Load `uppercase_unique.csv` and filter out rows\n",
    "8. Inspect rows removed\n",
    "9. Merge lines into best guesses for columns \"character\" and \"line\"\n",
    "10. Manually clean the \"line\" column by removing text that is not dialogue.  There will be a lot, so nearly every cell will have to be cleaned!\n",
    "\n",
    "\n",
    "See the Guardians of the Galaxy script at the end of this notebook for an example of this process."
   ]
  },
  {
   "cell_type": "markdown",
   "metadata": {},
   "source": [
    "## Remove Garbage Rows"
   ]
  },
  {
   "cell_type": "code",
   "execution_count": 2,
   "metadata": {},
   "outputs": [],
   "source": [
    "def remove_regex_rows(df,string):\n",
    "    rows_to_remove = df[\"line\"].str.contains(string,case=True,regex=True)\n",
    "    print(\"Removed\",rows_to_remove.sum(),\"rows that match regex \\\"\" + string + \"\\\"\")\n",
    "    \n",
    "    return df[~rows_to_remove], df[rows_to_remove]\n",
    "\n",
    "def remove_whitespace_rows(df):\n",
    "    whitespace_rows = df[\"line\"].str.isspace()\n",
    "    print(whitespace_rows.sum(),\"whitespace rows removed\")\n",
    "    return df[~whitespace_rows], df[whitespace_rows]\n",
    "\n",
    "def remove_movie_text_rows(df):\n",
    "    \n",
    "    regex_strings = [\"^\\[[^\\[\\]]*\\]$\"]\n",
    "    \n",
    "    removed_rows = pd.DataFrame()\n",
    "    \n",
    "    for regex_string in regex_strings:\n",
    "        df, new_rows_to_remove = remove_regex_rows(df,regex_string)\n",
    "        \n",
    "        removed_rows = pd.concat([removed_rows, new_rows_to_remove])\n",
    "    \n",
    "    return df, removed_rows\n",
    "\n",
    "\n",
    "def remove_page_number_rows(df):\n",
    "    page_rows = df[\"line\"].str.isnumeric()\n",
    "    print(page_rows.sum(),\"page number rows removed\")\n",
    "    \n",
    "    return df[~page_rows], df[page_rows]\n",
    "\n",
    "def remove_garbage_rows(df):\n",
    "    df, whitespace_rows = remove_whitespace_rows(df)\n",
    "    df, page_number_rows = remove_page_number_rows(df)\n",
    "    df, movie_text_rows = remove_movie_text_rows(df)\n",
    "    \n",
    "    garbage_rows = pd.concat([whitespace_rows, page_number_rows, movie_text_rows], \n",
    "                            keys = [\"whitespace\",\"page_numbers\",\"movie_text\"])\n",
    "    \n",
    "    print(\"-----------------------------------------\")\n",
    "    print(garbage_rows.shape[0],\"total rows removed\\n\")\n",
    "    \n",
    "    return df, garbage_rows"
   ]
  },
  {
   "cell_type": "markdown",
   "metadata": {},
   "source": [
    "## Format Character Lines"
   ]
  },
  {
   "cell_type": "code",
   "execution_count": 3,
   "metadata": {},
   "outputs": [],
   "source": [
    "def remove_regex(df,string):\n",
    "    print(\"Removed\",df[\"line\"].str.count(string).sum(),\"occurences of regex \\\"\" + string + \"\\\"\")\n",
    "    df[\"line\"] = df[\"line\"].str.replace(string,\"\",case=True,regex=True)\n",
    "\n",
    "def remove_leading_trailing_whitespace(df):\n",
    "    df[\"line\"] = df[\"line\"].str.replace(\"[ \\t]+$\",\"\")\n",
    "    df[\"line\"] = df[\"line\"].str.replace(\"^[ \\t]+\",\"\")\n",
    "\n",
    "def format_lines(df):\n",
    "    remove_leading_trailing_whitespace(df)\n",
    "    \n",
    "    regex_strings = [\"\\[[^\\[\\]]*\\]\",\n",
    "                     \"\\(O\\.S\\)\",\n",
    "                    \"\\(V\\.O\\)\",\n",
    "                     \"\\(V\\.O\\.\\)\",\n",
    "                    \"\\(CONT.D\\)\",\n",
    "                    \"\\(cont.d\\)\",\n",
    "                    \"\\(O\\.S\\.\\)\",\n",
    "                    \"\\(ON.*\\)\",\n",
    "                    \"\\(ON TV\\)\",\n",
    "                    \"\\(OVER.*\\)\",\n",
    "                    \"\\(INTO.*\\)\",\n",
    "                    \"\\(HOLO\\)\",\n",
    "                    \"\\(ADR\\)\",\n",
    "                    \"\\(then\\)\",\n",
    "                    \" \\(RHODEY’S VOICE\\)\",\n",
    "                    \" \\(PRE-LAP\\)\"]\n",
    "    \n",
    "    for regex_string in regex_strings:\n",
    "        remove_regex(df, regex_string)\n",
    "    \n",
    "    print(\"\")\n",
    "    \n",
    "    remove_leading_trailing_whitespace(df)"
   ]
  },
  {
   "cell_type": "markdown",
   "metadata": {},
   "source": [
    "## Create Character / Line Columns"
   ]
  },
  {
   "cell_type": "code",
   "execution_count": 4,
   "metadata": {},
   "outputs": [],
   "source": [
    "def create_character_line_columns(df):\n",
    "    character = df.line.str.extract(r'(^[^:]*:)')[0]\n",
    "    line = df.line.str.extract(r'(:.*$)')[0]\n",
    "    \n",
    "    character = character.str.replace(\":$\",\"\",case=True,regex=True)\n",
    "    line = line.str.replace(\"^[ \\t]*:[ \\t]*\",\"\",case=True,regex=True)\n",
    "    \n",
    "    character = character.str.upper()\n",
    "    \n",
    "    return pd.DataFrame({\"character\": character, \"line\": line})"
   ]
  },
  {
   "cell_type": "markdown",
   "metadata": {},
   "source": [
    "## Iron Man 3"
   ]
  },
  {
   "cell_type": "code",
   "execution_count": 5,
   "metadata": {},
   "outputs": [
    {
     "name": "stdout",
     "output_type": "stream",
     "text": [
      "(1181, 1)\n",
      "0 whitespace rows removed\n",
      "0 page number rows removed\n",
      "Removed 121 rows that match regex \"^\\[[^\\[\\]]*\\]$\"\n",
      "-----------------------------------------\n",
      "121 total rows removed\n",
      "\n",
      "Removed 251 occurences of regex \"\\[[^\\[\\]]*\\]\"\n",
      "Removed 0 occurences of regex \"\\(O\\.S\\)\"\n",
      "Removed 3 occurences of regex \"\\(V\\.O\\)\"\n",
      "Removed 4 occurences of regex \"\\(V\\.O\\.\\)\"\n",
      "Removed 0 occurences of regex \"\\(CONT.D\\)\"\n",
      "Removed 0 occurences of regex \"\\(cont.d\\)\"\n",
      "Removed 0 occurences of regex \"\\(O\\.S\\.\\)\"\n",
      "Removed 0 occurences of regex \"\\(ON.*\\)\"\n",
      "Removed 0 occurences of regex \"\\(ON TV\\)\"\n",
      "Removed 0 occurences of regex \"\\(OVER.*\\)\"\n",
      "Removed 0 occurences of regex \"\\(INTO.*\\)\"\n",
      "Removed 0 occurences of regex \"\\(HOLO\\)\"\n",
      "Removed 0 occurences of regex \"\\(ADR\\)\"\n",
      "Removed 0 occurences of regex \"\\(then\\)\"\n",
      "Removed 0 occurences of regex \" \\(RHODEY’S VOICE\\)\"\n",
      "Removed 0 occurences of regex \" \\(PRE-LAP\\)\"\n",
      "\n"
     ]
    },
    {
     "data": {
      "text/html": [
       "<div>\n",
       "<style scoped>\n",
       "    .dataframe tbody tr th:only-of-type {\n",
       "        vertical-align: middle;\n",
       "    }\n",
       "\n",
       "    .dataframe tbody tr th {\n",
       "        vertical-align: top;\n",
       "    }\n",
       "\n",
       "    .dataframe thead th {\n",
       "        text-align: right;\n",
       "    }\n",
       "</style>\n",
       "<table border=\"1\" class=\"dataframe\">\n",
       "  <thead>\n",
       "    <tr style=\"text-align: right;\">\n",
       "      <th></th>\n",
       "      <th>character</th>\n",
       "      <th>line</th>\n",
       "    </tr>\n",
       "  </thead>\n",
       "  <tbody>\n",
       "    <tr>\n",
       "      <th>0</th>\n",
       "      <td>TONY STARK</td>\n",
       "      <td>We create our own demons. Who said that? What does that even mean? Doesn't matter, I said it cause he said it. So now he was famous and that's basically get said by two well known guys. I don't, uh...</td>\n",
       "    </tr>\n",
       "    <tr>\n",
       "      <th>1</th>\n",
       "      <td>TONY STARK</td>\n",
       "      <td>I'm gonna start again. Let's track this from the beginning.</td>\n",
       "    </tr>\n",
       "    <tr>\n",
       "      <th>2</th>\n",
       "      <td>HAPPY HOGAN</td>\n",
       "      <td>Half hour till the ball drops.</td>\n",
       "    </tr>\n",
       "    <tr>\n",
       "      <th>3</th>\n",
       "      <td>TONY STARK</td>\n",
       "      <td>Hey, do you want...?</td>\n",
       "    </tr>\n",
       "    <tr>\n",
       "      <th>4</th>\n",
       "      <td>PARTY GUEST</td>\n",
       "      <td>Tony Stark? Great speech, man!</td>\n",
       "    </tr>\n",
       "  </tbody>\n",
       "</table>\n",
       "</div>"
      ],
      "text/plain": [
       "     character  \\\n",
       "0   TONY STARK   \n",
       "1   TONY STARK   \n",
       "2  HAPPY HOGAN   \n",
       "3   TONY STARK   \n",
       "4  PARTY GUEST   \n",
       "\n",
       "                                                                                                                                                                                                       line  \n",
       "0  We create our own demons. Who said that? What does that even mean? Doesn't matter, I said it cause he said it. So now he was famous and that's basically get said by two well known guys. I don't, uh...  \n",
       "1                                                                                                                                               I'm gonna start again. Let's track this from the beginning.  \n",
       "2                                                                                                                                                                            Half hour till the ball drops.  \n",
       "3                                                                                                                                                                                      Hey, do you want...?  \n",
       "4                                                                                                                                                                            Tony Stark? Great speech, man!  "
      ]
     },
     "execution_count": 5,
     "metadata": {},
     "output_type": "execute_result"
    }
   ],
   "source": [
    "iron_man_3 = pd.read_csv(\"./script txts/iron_man_3.txt\",sep=\"\\n\",header=None,names=[\"line\"])\n",
    "\n",
    "print(iron_man_3.shape)\n",
    "\n",
    "iron_man_3, garbage_rows = remove_garbage_rows(iron_man_3)\n",
    "format_lines(iron_man_3)\n",
    "\n",
    "iron_man_3 = create_character_line_columns(iron_man_3)\n",
    "\n",
    "iron_man_3.to_csv(\"./uncleaned/iron_man_3_uncleaned.csv\", index=False)\n",
    "\n",
    "iron_man_3 = pd.read_csv(\"./cleaned/iron_man_3.csv\")\n",
    "\n",
    "iron_man_3.head()\n",
    "\n",
    "#iron_man_3[iron_man_3[\"line\"].str.contains(\"[^a-zA-Z\\d\\.,\\?! '’\\\"-…]\", regex=True)]\n",
    "#iron_man_3[iron_man_3[\"line\"].isnull()]"
   ]
  }
 ],
 "metadata": {
  "kernelspec": {
   "display_name": "Python 3",
   "language": "python",
   "name": "python3"
  },
  "language_info": {
   "codemirror_mode": {
    "name": "ipython",
    "version": 3
   },
   "file_extension": ".py",
   "mimetype": "text/x-python",
   "name": "python",
   "nbconvert_exporter": "python",
   "pygments_lexer": "ipython3",
   "version": "3.8.3"
  }
 },
 "nbformat": 4,
 "nbformat_minor": 4
}
