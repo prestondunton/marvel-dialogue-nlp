{
 "cells": [
  {
   "cell_type": "code",
   "execution_count": 1,
   "metadata": {},
   "outputs": [],
   "source": [
    "import pandas as pd\n",
    "pd.set_option('display.max_rows', None)\n",
    "pd.set_option('display.max_colwidth', None)"
   ]
  },
  {
   "cell_type": "markdown",
   "metadata": {},
   "source": [
    "## Script to CSV Process\n",
    "\n",
    "1. Load script `.txt` file.  Use [PDF Extractor](https://pdfextractor.com/) to convert any `.pdf`s to `.txt`s.\n",
    "2. Remove garbage rows\n",
    "3. Inspect rows removed\n",
    "4. Format lines\n",
    "5. Create `uppercase_unique_form.csv`\n",
    "6. Manually fill out `uppercase_unique_form.csv` columns `is_character_name` and `is_dialogue` in Excel or other `.csv` editor.\n",
    "7. Load `uppercase_unique.csv` and filter out rows\n",
    "8. Inspect rows removed\n",
    "9. Merge lines into best guesses for columns \"character\" and \"line\"\n",
    "10. Manually clean the \"line\" column by removing text that is not dialogue.  There will be a lot, so nearly every cell will have to be cleaned!\n",
    "\n",
    "\n",
    "See the Guardians of the Galaxy script at the end of this notebook for an example of this process."
   ]
  },
  {
   "cell_type": "markdown",
   "metadata": {},
   "source": [
    "## Remove Garbage Rows"
   ]
  },
  {
   "cell_type": "code",
   "execution_count": 2,
   "metadata": {},
   "outputs": [],
   "source": [
    "def remove_regex_rows(df,string):\n",
    "    rows_to_remove = df[\"line\"].str.contains(string,case=True,regex=True)\n",
    "    print(\"Removed\",rows_to_remove.sum(),\"rows that match regex \\\"\" + string + \"\\\"\")\n",
    "    \n",
    "    return df[~rows_to_remove], df[rows_to_remove]\n",
    "\n",
    "def remove_whitespace_rows(df):\n",
    "    whitespace_rows = df[\"line\"].str.isspace()\n",
    "    print(whitespace_rows.sum(),\"whitespace rows removed\")\n",
    "    return df[~whitespace_rows], df[whitespace_rows]\n",
    "\n",
    "def remove_movie_text_rows(df):\n",
    "    \n",
    "    regex_strings = [\"^\\[[^\\[\\]]*\\]$\"]\n",
    "    \n",
    "    removed_rows = pd.DataFrame()\n",
    "    \n",
    "    for regex_string in regex_strings:\n",
    "        df, new_rows_to_remove = remove_regex_rows(df,regex_string)\n",
    "        \n",
    "        removed_rows = pd.concat([removed_rows, new_rows_to_remove])\n",
    "    \n",
    "    return df, removed_rows\n",
    "\n",
    "\n",
    "def remove_page_number_rows(df):\n",
    "    page_rows = df[\"line\"].str.isnumeric()\n",
    "    print(page_rows.sum(),\"page number rows removed\")\n",
    "    \n",
    "    return df[~page_rows], df[page_rows]\n",
    "\n",
    "def remove_garbage_rows(df):\n",
    "    df, whitespace_rows = remove_whitespace_rows(df)\n",
    "    df, page_number_rows = remove_page_number_rows(df)\n",
    "    df, movie_text_rows = remove_movie_text_rows(df)\n",
    "    \n",
    "    garbage_rows = pd.concat([whitespace_rows, page_number_rows, movie_text_rows], \n",
    "                            keys = [\"whitespace\",\"page_numbers\",\"movie_text\"])\n",
    "    \n",
    "    print(\"-----------------------------------------\")\n",
    "    print(garbage_rows.shape[0],\"total rows removed\\n\")\n",
    "    \n",
    "    return df, garbage_rows"
   ]
  },
  {
   "cell_type": "markdown",
   "metadata": {},
   "source": [
    "## Format Character Lines"
   ]
  },
  {
   "cell_type": "code",
   "execution_count": 3,
   "metadata": {},
   "outputs": [],
   "source": [
    "def remove_regex(df,string):\n",
    "    print(\"Removed\",df[\"line\"].str.count(string).sum(),\"occurences of regex \\\"\" + string + \"\\\"\")\n",
    "    df[\"line\"] = df[\"line\"].str.replace(string,\"\",case=True,regex=True)\n",
    "\n",
    "def remove_leading_trailing_whitespace(df):\n",
    "    df[\"line\"] = df[\"line\"].str.replace(\"[ \\t]+$\",\"\")\n",
    "    df[\"line\"] = df[\"line\"].str.replace(\"^[ \\t]+\",\"\")\n",
    "\n",
    "def format_lines(df):\n",
    "    remove_leading_trailing_whitespace(df)\n",
    "    \n",
    "    regex_strings = [\"\\[[^\\[\\]]*\\]\",\n",
    "                     \"\\(O\\.S\\)\",\n",
    "                    \"\\(V\\.O\\)\",\n",
    "                     \"\\(V\\.O\\.\\)\",\n",
    "                    \"\\(CONT.D\\)\",\n",
    "                    \"\\(cont.d\\)\",\n",
    "                    \"\\(O\\.S\\.\\)\",\n",
    "                    \"\\(ON.*\\)\",\n",
    "                    \"\\(ON TV\\)\",\n",
    "                    \"\\(OVER.*\\)\",\n",
    "                    \"\\(INTO.*\\)\",\n",
    "                    \"\\(HOLO\\)\",\n",
    "                    \"\\(ADR\\)\",\n",
    "                    \"\\(then\\)\",\n",
    "                    \" \\(RHODEY’S VOICE\\)\",\n",
    "                    \" \\(PRE-LAP\\)\"]\n",
    "    \n",
    "    for regex_string in regex_strings:\n",
    "        remove_regex(df, regex_string)\n",
    "    \n",
    "    print(\"\")\n",
    "    \n",
    "    remove_leading_trailing_whitespace(df)"
   ]
  },
  {
   "cell_type": "markdown",
   "metadata": {},
   "source": [
    "## Create Character / Line Columns"
   ]
  },
  {
   "cell_type": "code",
   "execution_count": 4,
   "metadata": {},
   "outputs": [],
   "source": [
    "def create_character_line_columns(df):\n",
    "    character = df.line.str.extract(r'(^[^:]*:)')[0]\n",
    "    line = df.line.str.extract(r'(:.*$)')[0]\n",
    "    \n",
    "    character = character.str.replace(\":$\",\"\",case=True,regex=True)\n",
    "    line = line.str.replace(\"^[ \\t]*:[ \\t]*\",\"\",case=True,regex=True)\n",
    "    \n",
    "    character = character.str.upper()\n",
    "    \n",
    "    return pd.DataFrame({\"character\": character, \"line\": line})"
   ]
  },
  {
   "cell_type": "markdown",
   "metadata": {},
   "source": [
    "## Ant Man"
   ]
  },
  {
   "cell_type": "code",
   "execution_count": 5,
   "metadata": {},
   "outputs": [
    {
     "name": "stdout",
     "output_type": "stream",
     "text": [
      "(1018, 1)\n",
      "0 whitespace rows removed\n",
      "0 page number rows removed\n",
      "Removed 141 rows that match regex \"^\\[[^\\[\\]]*\\]$\"\n",
      "-----------------------------------------\n",
      "141 total rows removed\n",
      "\n",
      "Removed 266 occurences of regex \"\\[[^\\[\\]]*\\]\"\n",
      "Removed 0 occurences of regex \"\\(O\\.S\\)\"\n",
      "Removed 0 occurences of regex \"\\(V\\.O\\)\"\n",
      "Removed 0 occurences of regex \"\\(V\\.O\\.\\)\"\n",
      "Removed 0 occurences of regex \"\\(CONT.D\\)\"\n",
      "Removed 0 occurences of regex \"\\(cont.d\\)\"\n",
      "Removed 0 occurences of regex \"\\(O\\.S\\.\\)\"\n",
      "Removed 0 occurences of regex \"\\(ON.*\\)\"\n",
      "Removed 0 occurences of regex \"\\(ON TV\\)\"\n",
      "Removed 0 occurences of regex \"\\(OVER.*\\)\"\n",
      "Removed 0 occurences of regex \"\\(INTO.*\\)\"\n",
      "Removed 0 occurences of regex \"\\(HOLO\\)\"\n",
      "Removed 0 occurences of regex \"\\(ADR\\)\"\n",
      "Removed 0 occurences of regex \"\\(then\\)\"\n",
      "Removed 0 occurences of regex \" \\(RHODEY’S VOICE\\)\"\n",
      "Removed 0 occurences of regex \" \\(PRE-LAP\\)\"\n",
      "\n"
     ]
    },
    {
     "data": {
      "text/html": [
       "<div>\n",
       "<style scoped>\n",
       "    .dataframe tbody tr th:only-of-type {\n",
       "        vertical-align: middle;\n",
       "    }\n",
       "\n",
       "    .dataframe tbody tr th {\n",
       "        vertical-align: top;\n",
       "    }\n",
       "\n",
       "    .dataframe thead th {\n",
       "        text-align: right;\n",
       "    }\n",
       "</style>\n",
       "<table border=\"1\" class=\"dataframe\">\n",
       "  <thead>\n",
       "    <tr style=\"text-align: right;\">\n",
       "      <th></th>\n",
       "      <th>character</th>\n",
       "      <th>line</th>\n",
       "    </tr>\n",
       "  </thead>\n",
       "  <tbody>\n",
       "    <tr>\n",
       "      <th>0</th>\n",
       "      <td>DR. HANK PYM</td>\n",
       "      <td>Stark.</td>\n",
       "    </tr>\n",
       "    <tr>\n",
       "      <th>1</th>\n",
       "      <td>MITCHELL CARSON</td>\n",
       "      <td>He doesn’t seem happy.</td>\n",
       "    </tr>\n",
       "    <tr>\n",
       "      <th>2</th>\n",
       "      <td>HOWARD STARK</td>\n",
       "      <td>Hello, Hank. You’re supposed to be in Moscow.</td>\n",
       "    </tr>\n",
       "    <tr>\n",
       "      <th>3</th>\n",
       "      <td>DR. HANK PYM</td>\n",
       "      <td>I took a detour.  Through your defense lab.</td>\n",
       "    </tr>\n",
       "    <tr>\n",
       "      <th>4</th>\n",
       "      <td>PEGGY CARTER</td>\n",
       "      <td>Tell me that isn’t what I think it is.</td>\n",
       "    </tr>\n",
       "  </tbody>\n",
       "</table>\n",
       "</div>"
      ],
      "text/plain": [
       "         character                                           line\n",
       "0     DR. HANK PYM                                         Stark.\n",
       "1  MITCHELL CARSON                         He doesn’t seem happy.\n",
       "2     HOWARD STARK  Hello, Hank. You’re supposed to be in Moscow.\n",
       "3     DR. HANK PYM    I took a detour.  Through your defense lab.\n",
       "4     PEGGY CARTER         Tell me that isn’t what I think it is."
      ]
     },
     "execution_count": 5,
     "metadata": {},
     "output_type": "execute_result"
    }
   ],
   "source": [
    "ant_man = pd.read_csv(\"./script txts/ant_man.txt\",sep=\"\\n\",header=None,names=[\"line\"])\n",
    "\n",
    "print(ant_man.shape)\n",
    "\n",
    "ant_man, garbage_rows = remove_garbage_rows(ant_man)\n",
    "format_lines(ant_man)\n",
    "\n",
    "ant_man = create_character_line_columns(ant_man)\n",
    "\n",
    "ant_man.to_csv(\"./uncleaned/ant_man_uncleaned.csv\", index=False)\n",
    "\n",
    "ant_man = pd.read_csv(\"./cleaned/ant_man.csv\")\n",
    "\n",
    "ant_man.head()\n",
    "\n",
    "#ant_man[ant_man[\"line\"].isnull()]\n",
    "#ant_man[ant_man[\"line\"].str.contains(\"[^a-zA-Z\\d\\.,\\?! '’\\\"-…]\", regex=True)]"
   ]
  }
 ],
 "metadata": {
  "kernelspec": {
   "display_name": "Python 3",
   "language": "python",
   "name": "python3"
  },
  "language_info": {
   "codemirror_mode": {
    "name": "ipython",
    "version": 3
   },
   "file_extension": ".py",
   "mimetype": "text/x-python",
   "name": "python",
   "nbconvert_exporter": "python",
   "pygments_lexer": "ipython3",
   "version": "3.8.3"
  }
 },
 "nbformat": 4,
 "nbformat_minor": 4
}
