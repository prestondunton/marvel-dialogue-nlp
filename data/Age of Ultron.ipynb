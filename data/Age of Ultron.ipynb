{
 "cells": [
  {
   "cell_type": "code",
   "execution_count": 1,
   "metadata": {},
   "outputs": [],
   "source": [
    "import pandas as pd\n",
    "pd.set_option('display.max_rows', None)\n",
    "pd.set_option('display.max_colwidth', None)"
   ]
  },
  {
   "cell_type": "markdown",
   "metadata": {},
   "source": [
    "## Script to CSV Process\n",
    "\n",
    "1. Load script `.txt` file.  Use [PDF Extractor](https://pdfextractor.com/) to convert any `.pdf`s to `.txt`s.\n",
    "2. Remove garbage rows\n",
    "3. Inspect rows removed\n",
    "4. Format lines\n",
    "5. Create `uppercase_unique_form.csv`\n",
    "6. Manually fill out `uppercase_unique_form.csv` columns `is_character_name` and `is_dialogue` in Excel or other `.csv` editor.\n",
    "7. Load `uppercase_unique.csv` and filter out rows\n",
    "8. Inspect rows removed\n",
    "9. Merge lines into best guesses for columns \"character\" and \"line\"\n",
    "10. Manually clean the \"line\" column by removing text that is not dialogue.  There will be a lot, so nearly every cell will have to be cleaned!\n",
    "\n",
    "\n",
    "See the Guardians of the Galaxy script at the end of this notebook for an example of this process."
   ]
  },
  {
   "cell_type": "markdown",
   "metadata": {},
   "source": [
    "## Remove Garbage Rows"
   ]
  },
  {
   "cell_type": "code",
   "execution_count": 2,
   "metadata": {},
   "outputs": [],
   "source": [
    "def remove_regex_rows(df,string):\n",
    "    rows_to_remove = df[\"line\"].str.contains(string,case=True,regex=True)\n",
    "    print(\"Removed\",rows_to_remove.sum(),\"rows that match regex \\\"\" + string + \"\\\"\")\n",
    "    \n",
    "    return df[~rows_to_remove], df[rows_to_remove]\n",
    "\n",
    "def remove_whitespace_rows(df):\n",
    "    whitespace_rows = df[\"line\"].str.isspace()\n",
    "    print(whitespace_rows.sum(),\"whitespace rows removed\")\n",
    "    return df[~whitespace_rows], df[whitespace_rows]\n",
    "\n",
    "def remove_movie_text_rows(df):\n",
    "    \n",
    "    regex_strings = [\"^\\[[^\\[\\]]*\\]$\"]\n",
    "    \n",
    "    removed_rows = pd.DataFrame()\n",
    "    \n",
    "    for regex_string in regex_strings:\n",
    "        df, new_rows_to_remove = remove_regex_rows(df,regex_string)\n",
    "        \n",
    "        removed_rows = pd.concat([removed_rows, new_rows_to_remove])\n",
    "    \n",
    "    return df, removed_rows\n",
    "\n",
    "\n",
    "def remove_page_number_rows(df):\n",
    "    page_rows = df[\"line\"].str.isnumeric()\n",
    "    print(page_rows.sum(),\"page number rows removed\")\n",
    "    \n",
    "    return df[~page_rows], df[page_rows]\n",
    "\n",
    "def remove_garbage_rows(df):\n",
    "    df, whitespace_rows = remove_whitespace_rows(df)\n",
    "    df, page_number_rows = remove_page_number_rows(df)\n",
    "    df, movie_text_rows = remove_movie_text_rows(df)\n",
    "    \n",
    "    garbage_rows = pd.concat([whitespace_rows, page_number_rows, movie_text_rows], \n",
    "                            keys = [\"whitespace\",\"page_numbers\",\"movie_text\"])\n",
    "    \n",
    "    print(\"-----------------------------------------\")\n",
    "    print(garbage_rows.shape[0],\"total rows removed\\n\")\n",
    "    \n",
    "    return df, garbage_rows"
   ]
  },
  {
   "cell_type": "markdown",
   "metadata": {},
   "source": [
    "## Format Character Lines"
   ]
  },
  {
   "cell_type": "code",
   "execution_count": 3,
   "metadata": {},
   "outputs": [],
   "source": [
    "def remove_regex(df,string):\n",
    "    print(\"Removed\",df[\"line\"].str.count(string).sum(),\"occurences of regex \\\"\" + string + \"\\\"\")\n",
    "    df[\"line\"] = df[\"line\"].str.replace(string,\"\",case=True,regex=True)\n",
    "\n",
    "def remove_leading_trailing_whitespace(df):\n",
    "    df[\"line\"] = df[\"line\"].str.replace(\"[ \\t]+$\",\"\")\n",
    "    df[\"line\"] = df[\"line\"].str.replace(\"^[ \\t]+\",\"\")\n",
    "\n",
    "def format_lines(df):\n",
    "    remove_leading_trailing_whitespace(df)\n",
    "    \n",
    "    regex_strings = [\"\\[[^\\[\\]]*\\]\"]\n",
    "    \n",
    "    for regex_string in regex_strings:\n",
    "        remove_regex(df, regex_string)\n",
    "    \n",
    "    print(\"\")\n",
    "    \n",
    "    remove_leading_trailing_whitespace(df)"
   ]
  },
  {
   "cell_type": "markdown",
   "metadata": {},
   "source": [
    "## Create Character / Line Columns"
   ]
  },
  {
   "cell_type": "code",
   "execution_count": 4,
   "metadata": {},
   "outputs": [],
   "source": [
    "def create_character_line_columns(df):\n",
    "    character = df.line.str.extract(r'(^[^:]*:)')[0]\n",
    "    line = df.line.str.extract(r'(:.*$)')[0]\n",
    "    \n",
    "    character = character.str.replace(\":$\",\"\",case=True,regex=True)\n",
    "    line = line.str.replace(\"^[ \\t]*:[ \\t]*\",\"\",case=True,regex=True)\n",
    "    \n",
    "    character = character.str.upper()\n",
    "    \n",
    "    return pd.DataFrame({\"character\": character, \"line\": line})"
   ]
  },
  {
   "cell_type": "markdown",
   "metadata": {},
   "source": [
    "## Avengers: Age of Ultron"
   ]
  },
  {
   "cell_type": "code",
   "execution_count": 5,
   "metadata": {},
   "outputs": [
    {
     "name": "stdout",
     "output_type": "stream",
     "text": [
      "(1032, 1)\n",
      "0 whitespace rows removed\n",
      "0 page number rows removed\n",
      "Removed 51 rows that match regex \"^\\[[^\\[\\]]*\\]$\"\n",
      "-----------------------------------------\n",
      "51 total rows removed\n",
      "\n",
      "Removed 355 occurences of regex \"\\[[^\\[\\]]*\\]\"\n",
      "\n"
     ]
    },
    {
     "data": {
      "text/html": [
       "<div>\n",
       "<style scoped>\n",
       "    .dataframe tbody tr th:only-of-type {\n",
       "        vertical-align: middle;\n",
       "    }\n",
       "\n",
       "    .dataframe tbody tr th {\n",
       "        vertical-align: top;\n",
       "    }\n",
       "\n",
       "    .dataframe thead th {\n",
       "        text-align: right;\n",
       "    }\n",
       "</style>\n",
       "<table border=\"1\" class=\"dataframe\">\n",
       "  <thead>\n",
       "    <tr style=\"text-align: right;\">\n",
       "      <th></th>\n",
       "      <th>character</th>\n",
       "      <th>line</th>\n",
       "    </tr>\n",
       "  </thead>\n",
       "  <tbody>\n",
       "    <tr>\n",
       "      <th>303</th>\n",
       "      <td>ULTRON</td>\n",
       "      <td>That was dramatic! I'm sorry, I know you mean well. You just didn't think it through. You want to protect the world, but you don't want it to change. How is humanity saved if it's not allowed to...evolve?  With these? These puppets? There's only one path to peace: The Avengers' extinction.   I had strings, but now I'm free. There are no strings on me, no strings on me.</td>\n",
       "    </tr>\n",
       "    <tr>\n",
       "      <th>454</th>\n",
       "      <td>TONY STARK</td>\n",
       "      <td>News or footage, keyword: Hulk.  Natasha, I could really use a lullaby.</td>\n",
       "    </tr>\n",
       "    <tr>\n",
       "      <th>488</th>\n",
       "      <td>LAURA BARTON</td>\n",
       "      <td>She's…Nathaniel.</td>\n",
       "    </tr>\n",
       "    <tr>\n",
       "      <th>716</th>\n",
       "      <td>ULTRON</td>\n",
       "      <td>I wasn't sure you'd wake up. I hoped you would, I wanted to show you something. I don't have anyone else. I think a lot about meteors, the purity of them. Boom! The end, start again. The world made clean for the new man to rebuild. I was meant to be new. I was meant to be beautiful. The world would've looked to the sky and seen hope, seen mercy. Instead they'll look up in horror because of you. You've wounded me. I give you full marks for that. But, like the man said, \"What doesn't kill me… \"…just makes me stronger.\"</td>\n",
       "    </tr>\n",
       "    <tr>\n",
       "      <th>796</th>\n",
       "      <td>FRIDAY</td>\n",
       "      <td>There's the rest of the Vibranium. Function: still unclear.</td>\n",
       "    </tr>\n",
       "    <tr>\n",
       "      <th>816</th>\n",
       "      <td>FRIDAY</td>\n",
       "      <td>Right now the impact would kill thousands. Once it gets high enough: Global extinction.  That building's not clear, Tenth floor.</td>\n",
       "    </tr>\n",
       "    <tr>\n",
       "      <th>820</th>\n",
       "      <td>STEVE ROGERS</td>\n",
       "      <td>Incoming already came in. Stark, you worry about bringing the city back down safely. The rest of us have one job: tear these things apart. You get hurt, hurt 'em back. You get killed, walk it off.</td>\n",
       "    </tr>\n",
       "  </tbody>\n",
       "</table>\n",
       "</div>"
      ],
      "text/plain": [
       "        character  \\\n",
       "303        ULTRON   \n",
       "454    TONY STARK   \n",
       "488  LAURA BARTON   \n",
       "716        ULTRON   \n",
       "796        FRIDAY   \n",
       "816        FRIDAY   \n",
       "820  STEVE ROGERS   \n",
       "\n",
       "                                                                                                                                                                                                                                                                                                                                                                                                                                                                                                                                           line  \n",
       "303                                                                                                                                                         That was dramatic! I'm sorry, I know you mean well. You just didn't think it through. You want to protect the world, but you don't want it to change. How is humanity saved if it's not allowed to...evolve?  With these? These puppets? There's only one path to peace: The Avengers' extinction.   I had strings, but now I'm free. There are no strings on me, no strings on me.  \n",
       "454                                                                                                                                                                                                                                                                                                                                                                                                                                                                     News or footage, keyword: Hulk.  Natasha, I could really use a lullaby.  \n",
       "488                                                                                                                                                                                                                                                                                                                                                                                                                                                                                                                            She's…Nathaniel.  \n",
       "716  I wasn't sure you'd wake up. I hoped you would, I wanted to show you something. I don't have anyone else. I think a lot about meteors, the purity of them. Boom! The end, start again. The world made clean for the new man to rebuild. I was meant to be new. I was meant to be beautiful. The world would've looked to the sky and seen hope, seen mercy. Instead they'll look up in horror because of you. You've wounded me. I give you full marks for that. But, like the man said, \"What doesn't kill me… \"…just makes me stronger.\"  \n",
       "796                                                                                                                                                                                                                                                                                                                                                                                                                                                                                 There's the rest of the Vibranium. Function: still unclear.  \n",
       "816                                                                                                                                                                                                                                                                                                                                                                                                            Right now the impact would kill thousands. Once it gets high enough: Global extinction.  That building's not clear, Tenth floor.  \n",
       "820                                                                                                                                                                                                                                                                                                                                        Incoming already came in. Stark, you worry about bringing the city back down safely. The rest of us have one job: tear these things apart. You get hurt, hurt 'em back. You get killed, walk it off.  "
      ]
     },
     "execution_count": 5,
     "metadata": {},
     "output_type": "execute_result"
    }
   ],
   "source": [
    "age_of_ultron = pd.read_csv(\"./script txts/age_of_ultron.txt\",sep=\"\\n\",header=None,names=[\"line\"])\n",
    "\n",
    "print(age_of_ultron.shape)\n",
    "\n",
    "age_of_ultron, garbage_rows = remove_garbage_rows(age_of_ultron)\n",
    "format_lines(age_of_ultron)\n",
    "\n",
    "age_of_ultron = create_character_line_columns(age_of_ultron)\n",
    "\n",
    "age_of_ultron.to_csv(\"./uncleaned/age_of_ultron_uncleaned.csv\", index=False)\n",
    "\n",
    "age_of_ultron = pd.read_csv(\"./cleaned/age_of_ultron.csv\")\n",
    "\n",
    "age_of_ultron.head()\n",
    "\n",
    "age_of_ultron[age_of_ultron[\"line\"].str.contains(\"[^a-zA-Z\\d\\.,\\?! '\\\"-]\", regex=True)]"
   ]
  }
 ],
 "metadata": {
  "kernelspec": {
   "display_name": "Python 3",
   "language": "python",
   "name": "python3"
  },
  "language_info": {
   "codemirror_mode": {
    "name": "ipython",
    "version": 3
   },
   "file_extension": ".py",
   "mimetype": "text/x-python",
   "name": "python",
   "nbconvert_exporter": "python",
   "pygments_lexer": "ipython3",
   "version": "3.8.3"
  }
 },
 "nbformat": 4,
 "nbformat_minor": 4
}
