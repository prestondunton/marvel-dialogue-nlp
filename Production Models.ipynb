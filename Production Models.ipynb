{
 "cells": [
  {
   "cell_type": "markdown",
   "metadata": {},
   "source": [
    "## Imports, Classes, and Constants"
   ]
  },
  {
   "cell_type": "code",
   "execution_count": 1,
   "metadata": {},
   "outputs": [],
   "source": [
    "import pandas as pd\n",
    "import numpy as np\n",
    "import matplotlib.pyplot as plt\n",
    "import seaborn as sns\n",
    "from joblib import dump\n",
    "\n",
    "from sklearn.pipeline import Pipeline\n",
    "\n",
    "from sklearn.model_selection import GridSearchCV\n",
    "from sklearn.model_selection import StratifiedKFold\n",
    "from sklearn.model_selection import cross_val_score\n",
    "from sklearn.model_selection import cross_val_predict\n",
    "from sklearn.model_selection import learning_curve\n",
    "\n",
    "from sklearn.feature_extraction.text import CountVectorizer\n",
    "from sklearn.feature_extraction.text import TfidfTransformer\n",
    "\n",
    "from sklearn.naive_bayes import MultinomialNB\n",
    "\n",
    "from sklearn.utils import shuffle\n",
    "from sklearn import metrics\n",
    "\n",
    "import nltk\n",
    "from nltk.corpus import stopwords\n",
    "from nltk.stem import SnowballStemmer\n",
    "\n",
    "RANDOM_SEED = 42\n",
    "\n",
    "class StemCountVectorizer(CountVectorizer):\n",
    "    def build_analyzer(self):\n",
    "        analyzer = super(StemCountVectorizer, self).build_analyzer()\n",
    "        \n",
    "        return lambda document: ([SnowballStemmer('english', ignore_stopwords=True).stem(word) for word in analyzer(document)])\n",
    "    \n",
    "mcu = pd.read_csv(\"./data/mcu.csv\")"
   ]
  },
  {
   "cell_type": "markdown",
   "metadata": {},
   "source": [
    "## Data Preprocessing"
   ]
  },
  {
   "cell_type": "code",
   "execution_count": 2,
   "metadata": {},
   "outputs": [
    {
     "data": {
      "text/html": [
       "<div>\n",
       "<style scoped>\n",
       "    .dataframe tbody tr th:only-of-type {\n",
       "        vertical-align: middle;\n",
       "    }\n",
       "\n",
       "    .dataframe tbody tr th {\n",
       "        vertical-align: top;\n",
       "    }\n",
       "\n",
       "    .dataframe thead th {\n",
       "        text-align: right;\n",
       "    }\n",
       "</style>\n",
       "<table border=\"1\" class=\"dataframe\">\n",
       "  <thead>\n",
       "    <tr style=\"text-align: right;\">\n",
       "      <th></th>\n",
       "      <th>is main character</th>\n",
       "    </tr>\n",
       "  </thead>\n",
       "  <tbody>\n",
       "    <tr>\n",
       "      <th>TONY STARK</th>\n",
       "      <td>True</td>\n",
       "    </tr>\n",
       "    <tr>\n",
       "      <th>THOR</th>\n",
       "      <td>True</td>\n",
       "    </tr>\n",
       "    <tr>\n",
       "      <th>STEVE ROGERS</th>\n",
       "      <td>True</td>\n",
       "    </tr>\n",
       "    <tr>\n",
       "      <th>BRUCE BANNER</th>\n",
       "      <td>True</td>\n",
       "    </tr>\n",
       "    <tr>\n",
       "      <th>PETER QUILL</th>\n",
       "      <td>True</td>\n",
       "    </tr>\n",
       "    <tr>\n",
       "      <th>ROCKET</th>\n",
       "      <td>True</td>\n",
       "    </tr>\n",
       "    <tr>\n",
       "      <th>NATASHA</th>\n",
       "      <td>True</td>\n",
       "    </tr>\n",
       "    <tr>\n",
       "      <th>PEPPER POTTS</th>\n",
       "      <td>True</td>\n",
       "    </tr>\n",
       "    <tr>\n",
       "      <th>LOKI</th>\n",
       "      <td>True</td>\n",
       "    </tr>\n",
       "  </tbody>\n",
       "</table>\n",
       "</div>"
      ],
      "text/plain": [
       "              is main character\n",
       "TONY STARK                 True\n",
       "THOR                       True\n",
       "STEVE ROGERS               True\n",
       "BRUCE BANNER               True\n",
       "PETER QUILL                True\n",
       "ROCKET                     True\n",
       "NATASHA                    True\n",
       "PEPPER POTTS               True\n",
       "LOKI                       True"
      ]
     },
     "execution_count": 2,
     "metadata": {},
     "output_type": "execute_result"
    }
   ],
   "source": [
    "min_line_count = 150\n",
    "\n",
    "is_main_character = mcu[\"character\"].value_counts() > min_line_count\n",
    "is_main_character = is_main_character.rename(\"is main character\", axis=0)\n",
    "\n",
    "main_character_rows = is_main_character[mcu[\"character\"]]\n",
    "main_character_rows = main_character_rows.reset_index(drop=True)\n",
    "\n",
    "mcu_partial = mcu[main_character_rows]\n",
    "\n",
    "pd.DataFrame(is_main_character)[is_main_character]"
   ]
  },
  {
   "cell_type": "code",
   "execution_count": 3,
   "metadata": {},
   "outputs": [
    {
     "data": {
      "text/plain": [
       "(array(['Got it.', 'And terrifying.', 'What’s the delta rate?',\n",
       "        'This is beyond you, metal man. Loki will face Asgardian justice. ',\n",
       "        'He was kidding.', 'Was he married?',\n",
       "        'Is this about the Avengers?  Which I know nothing about.',\n",
       "        'Oh, sure, okayyyy, Quill.', 'Can I ask a few back?',\n",
       "        'Stark, are you seeing this? '], dtype='<U606'),\n",
       " array(['BRUCE BANNER', 'PEPPER POTTS', 'TONY STARK', 'THOR', 'NATASHA',\n",
       "        'STEVE ROGERS', 'PEPPER POTTS', 'ROCKET', 'TONY STARK',\n",
       "        'STEVE ROGERS'], dtype='<U12'))"
      ]
     },
     "execution_count": 3,
     "metadata": {},
     "output_type": "execute_result"
    }
   ],
   "source": [
    "y = mcu_partial[\"character\"].to_numpy().astype(str)\n",
    "X = mcu_partial[\"line\"].to_numpy().astype(str)\n",
    "\n",
    "X, y = shuffle(X, y, random_state=RANDOM_SEED)\n",
    "\n",
    "X[0:10], y[0:10]"
   ]
  },
  {
   "cell_type": "markdown",
   "metadata": {},
   "source": [
    "## Models"
   ]
  },
  {
   "cell_type": "code",
   "execution_count": 4,
   "metadata": {},
   "outputs": [],
   "source": [
    "cross_validator = StratifiedKFold(n_splits=5, random_state=RANDOM_SEED, shuffle=True)\n",
    "score_method = \"balanced_accuracy\""
   ]
  },
  {
   "cell_type": "code",
   "execution_count": 5,
   "metadata": {},
   "outputs": [],
   "source": [
    "stem_count_vectorizer = StemCountVectorizer(binary=False)\n",
    "tfidf_transformer = TfidfTransformer()\n",
    "nb_classifier = MultinomialNB()"
   ]
  },
  {
   "cell_type": "code",
   "execution_count": 6,
   "metadata": {},
   "outputs": [],
   "source": [
    "count_params = {'vect__stop_words': [None, stopwords.words('english')],\n",
    "              'vect__ngram_range': [(1,1), (1,2)]}\n",
    "\n",
    "tfidf_params = {'tfidf__norm': ['l1', 'l2'],\n",
    "              'tfidf__use_idf': [True, False]}\n",
    "\n",
    "nb_params = {'clf__alpha': [1e-1, 1e-2, 1e-3],\n",
    "             'clf__fit_prior': [True, False]}"
   ]
  },
  {
   "cell_type": "code",
   "execution_count": 7,
   "metadata": {},
   "outputs": [],
   "source": [
    "pipe13 = Pipeline([('vect', stem_count_vectorizer),\n",
    "                  ('tfidf', tfidf_transformer),\n",
    "                  ('clf', nb_classifier)])\n",
    "\n",
    "parameters13 = {**count_params, **tfidf_params, **nb_params}\n",
    "\n",
    "model13 = GridSearchCV(pipe13, parameters13, cv=cross_validator, scoring=score_method, n_jobs=-1, verbose=3)"
   ]
  },
  {
   "cell_type": "markdown",
   "metadata": {},
   "source": [
    "## Nested CV Balanced Accuracy"
   ]
  },
  {
   "cell_type": "code",
   "execution_count": 9,
   "metadata": {},
   "outputs": [
    {
     "name": "stderr",
     "output_type": "stream",
     "text": [
      "[Parallel(n_jobs=-1)]: Using backend LokyBackend with 12 concurrent workers.\n",
      "[Parallel(n_jobs=-1)]: Done   2 out of   5 | elapsed: 77.7min remaining: 116.5min\n",
      "[Parallel(n_jobs=-1)]: Done   5 out of   5 | elapsed: 78.9min finished\n"
     ]
    },
    {
     "data": {
      "text/html": [
       "<div>\n",
       "<style scoped>\n",
       "    .dataframe tbody tr th:only-of-type {\n",
       "        vertical-align: middle;\n",
       "    }\n",
       "\n",
       "    .dataframe tbody tr th {\n",
       "        vertical-align: top;\n",
       "    }\n",
       "\n",
       "    .dataframe thead th {\n",
       "        text-align: right;\n",
       "    }\n",
       "</style>\n",
       "<table border=\"1\" class=\"dataframe\">\n",
       "  <thead>\n",
       "    <tr style=\"text-align: right;\">\n",
       "      <th></th>\n",
       "      <th>model 13</th>\n",
       "    </tr>\n",
       "    <tr>\n",
       "      <th>fold</th>\n",
       "      <th></th>\n",
       "    </tr>\n",
       "  </thead>\n",
       "  <tbody>\n",
       "    <tr>\n",
       "      <th>0</th>\n",
       "      <td>0.261930</td>\n",
       "    </tr>\n",
       "    <tr>\n",
       "      <th>1</th>\n",
       "      <td>0.255685</td>\n",
       "    </tr>\n",
       "    <tr>\n",
       "      <th>2</th>\n",
       "      <td>0.233777</td>\n",
       "    </tr>\n",
       "    <tr>\n",
       "      <th>3</th>\n",
       "      <td>0.273962</td>\n",
       "    </tr>\n",
       "    <tr>\n",
       "      <th>4</th>\n",
       "      <td>0.278764</td>\n",
       "    </tr>\n",
       "    <tr>\n",
       "      <th>mean</th>\n",
       "      <td>0.260824</td>\n",
       "    </tr>\n",
       "    <tr>\n",
       "      <th>std</th>\n",
       "      <td>0.015834</td>\n",
       "    </tr>\n",
       "    <tr>\n",
       "      <th>max</th>\n",
       "      <td>0.278764</td>\n",
       "    </tr>\n",
       "  </tbody>\n",
       "</table>\n",
       "</div>"
      ],
      "text/plain": [
       "      model 13\n",
       "fold          \n",
       "0     0.261930\n",
       "1     0.255685\n",
       "2     0.233777\n",
       "3     0.273962\n",
       "4     0.278764\n",
       "mean  0.260824\n",
       "std   0.015834\n",
       "max   0.278764"
      ]
     },
     "execution_count": 9,
     "metadata": {},
     "output_type": "execute_result"
    }
   ],
   "source": [
    "models = {\"model 13\": model13}\n",
    "\n",
    "cv_score_table = pd.DataFrame()\n",
    "\n",
    "for name, model in models.items():\n",
    "    results = cross_val_score(model, X, y, cv=cross_validator, scoring=score_method, n_jobs=-1, verbose=3)\n",
    "    cv_score_table.insert(len(cv_score_table.columns), name, results, True)\n",
    "\n",
    "cv_score_table.index.name = \"fold\"\n",
    "cv_score_table.loc[\"mean\"] = cv_score_table.mean()\n",
    "cv_score_table.loc[\"std\"] = cv_score_table.std()\n",
    "cv_score_table.loc[\"max\"] = cv_score_table.max()\n",
    "\n",
    "cv_score_table"
   ]
  },
  {
   "cell_type": "markdown",
   "metadata": {},
   "source": [
    "## Confusion Matrix"
   ]
  },
  {
   "cell_type": "code",
   "execution_count": 11,
   "metadata": {},
   "outputs": [
    {
     "name": "stderr",
     "output_type": "stream",
     "text": [
      "[Parallel(n_jobs=-1)]: Using backend LokyBackend with 12 concurrent workers.\n",
      "[Parallel(n_jobs=-1)]: Done   1 tasks      | elapsed: 96.5min\n",
      "/usr/lib/python3.8/site-packages/joblib/externals/loky/process_executor.py:703: UserWarning: A worker stopped while some jobs were given to the executor. This can be caused by a too short worker timeout or by a memory leak.\n",
      "  warnings.warn(\n",
      "[Parallel(n_jobs=-1)]: Done  74 tasks      | elapsed: 668.1min\n",
      "[Parallel(n_jobs=-1)]: Done 164 out of 164 | elapsed: 1330.9min finished\n"
     ]
    },
    {
     "name": "stdout",
     "output_type": "stream",
     "text": [
      "Balanced Accuracy: 0.2699779470318331\n",
      "Balanced Accuracy: 0.2699779470318331\n"
     ]
    },
    {
     "data": {
      "image/png": "[encoded data removed]",
      "text/plain": [
       "<Figure size 432x288 with 2 Axes>"
      ]
     },
     "metadata": {
      "needs_background": "light"
     },
     "output_type": "display_data"
    }
   ],
   "source": [
    "prediction_cross_validator = StratifiedKFold(n_splits=164, random_state=RANDOM_SEED, shuffle=True)\n",
    "yhat = cross_val_predict(model13, X, y, cv=prediction_cross_validator, n_jobs=-1, verbose=4)\n",
    "\n",
    "main_characters = pd.DataFrame(is_main_character)[is_main_character].index.values\n",
    "\n",
    "conf_matrix = pd.DataFrame(metrics.confusion_matrix(y, yhat, labels=main_characters))\n",
    "normalized_conf_matrix = conf_matrix.div(conf_matrix.sum(axis=1), axis=0)\n",
    "normalized_conf_matrix.columns = pd.Series(main_characters, name=\"Predicted Character\")\n",
    "normalized_conf_matrix.index = pd.Series(main_characters, name=\"True Character\")\n",
    "\n",
    "plt.title(\"Proportion of a True Character's Examples\")\n",
    "sns.heatmap(normalized_conf_matrix, annot=True, fmt='.2f', cmap=plt.cm.Reds)\n",
    "\n",
    "# Should be the same\n",
    "print(\"Balanced Accuracy:\", metrics.balanced_accuracy_score(y,yhat))\n",
    "print(\"Balanced Accuracy:\", np.mean(np.diagonal(normalized_conf_matrix)))"
   ]
  },
  {
   "cell_type": "code",
   "execution_count": 12,
   "metadata": {},
   "outputs": [
    {
     "name": "stdout",
     "output_type": "stream",
     "text": [
      "(2583,)\n"
     ]
    },
    {
     "data": {
      "text/plain": [
       "['./model13predictions_164fold.joblib']"
      ]
     },
     "execution_count": 12,
     "metadata": {},
     "output_type": "execute_result"
    }
   ],
   "source": [
    "prediction_table = pd.DataFrame({\"line\": X, \"true character\": y, \"predicted character\": yhat})\n",
    "print(X.shape)\n",
    "\n",
    "#mcu_character_line_movie = pd.DataFrame({\"character\": mcu[\"character\"], \"line\": mcu[\"line\"], \"movie\": mcu[\"movie\"]})\n",
    "\n",
    "#prediction_table.line = prediction_table.line.astype(str)\n",
    "#mcu_character_line_movie.line = mcu_character_line_movie.line.astype(str)\n",
    "\n",
    "#prediction_table = prediction_table.merge(mcu_character_line_movie, left_on=[\"line\", \"true character\"], right_on=['line', 'character'], how=\"left\")\n",
    "\n",
    "prediction_table               \n",
    "\n",
    "dump(prediction_table, \"./model13predictions_164fold.joblib\")\n",
    "                                 \n",
    "#prediction_table.dtypes\n",
    "\n",
    "#prediction_table"
   ]
  },
  {
   "cell_type": "markdown",
   "metadata": {},
   "source": [
    "Above is a table containing the proportion of true examples for each prediction.  The diagonal cells represent the recall for each true label.  The average of our diagonal elements is our balanced accuracy (0.26 from our nested cross validation scoring table, as well as if you calculate it from the matrix)."
   ]
  },
  {
   "cell_type": "markdown",
   "metadata": {},
   "source": [
    "## Learning Curve"
   ]
  },
  {
   "cell_type": "code",
   "execution_count": 42,
   "metadata": {},
   "outputs": [],
   "source": [
    "def plot_learning_curve(estimator, title, X, y, axes=None, cv=None,\n",
    "                        n_jobs=-1, train_sizes=np.linspace(.1, 1.0, 5)):\n",
    "    \n",
    "    plt.title(title)\n",
    "    plt.xlabel(\"Training examples\")\n",
    "    plt.ylabel(\"Score\")\n",
    "\n",
    "    train_sizes, train_scores, test_scores = \\\n",
    "        learning_curve(estimator, X, y, cv=cv, n_jobs=n_jobs,\n",
    "                       train_sizes=train_sizes, verbose=3)\n",
    "    train_scores_mean = np.mean(train_scores, axis=1)\n",
    "    train_scores_std = np.std(train_scores, axis=1)\n",
    "    test_scores_mean = np.mean(test_scores, axis=1)\n",
    "    test_scores_std = np.std(test_scores, axis=1)\n",
    "\n",
    "    # Plot learning curve\n",
    "    plt.grid()\n",
    "    plt.fill_between(train_sizes, train_scores_mean - train_scores_std,\n",
    "                         train_scores_mean + train_scores_std, alpha=0.1,\n",
    "                         color=\"r\")\n",
    "    plt.fill_between(train_sizes, test_scores_mean - test_scores_std,\n",
    "                         test_scores_mean + test_scores_std, alpha=0.1,\n",
    "                         color=\"g\")\n",
    "    plt.plot(train_sizes, train_scores_mean, 'o-', color=\"r\",\n",
    "                 label=\"Training score\")\n",
    "    plt.plot(train_sizes, test_scores_mean, 'o-', color=\"g\",\n",
    "                 label=\"Cross-validation score\")\n",
    "    plt.legend(loc=\"best\")\n",
    "\n",
    "    return"
   ]
  },
  {
   "cell_type": "code",
   "execution_count": 43,
   "metadata": {},
   "outputs": [
    {
     "name": "stdout",
     "output_type": "stream",
     "text": [
      "[learning_curve] Training set sizes: [ 206  671 1136 1601 2066]\n"
     ]
    },
    {
     "name": "stderr",
     "output_type": "stream",
     "text": [
      "[Parallel(n_jobs=-1)]: Using backend LokyBackend with 12 concurrent workers.\n",
      "[Parallel(n_jobs=-1)]: Done   8 out of  25 | elapsed: 89.1min remaining: 189.4min\n",
      "[Parallel(n_jobs=-1)]: Done  17 out of  25 | elapsed: 152.2min remaining: 71.6min\n",
      "[Parallel(n_jobs=-1)]: Done  25 out of  25 | elapsed: 195.9min finished\n"
     ]
    },
    {
     "data": {
      "image/png": "[encoded data removed]",
      "text/plain": [
       "<Figure size 432x288 with 1 Axes>"
      ]
     },
     "metadata": {
      "needs_background": "light"
     },
     "output_type": "display_data"
    }
   ],
   "source": [
    "title = \"Learning Curves (Naive Bayes with Stemming and TFIDF)\"\n",
    "\n",
    "plot_learning_curve(model13, title, X, y, cv=cross_validator)"
   ]
  },
  {
   "cell_type": "markdown",
   "metadata": {},
   "source": [
    "## Export Model"
   ]
  },
  {
   "cell_type": "code",
   "execution_count": 11,
   "metadata": {},
   "outputs": [
    {
     "name": "stdout",
     "output_type": "stream",
     "text": [
      "Fitting 5 folds for each of 96 candidates, totalling 480 fits\n"
     ]
    },
    {
     "name": "stderr",
     "output_type": "stream",
     "text": [
      "[Parallel(n_jobs=-1)]: Using backend LokyBackend with 12 concurrent workers.\n",
      "[Parallel(n_jobs=-1)]: Done   8 tasks      | elapsed:   20.1s\n",
      "[Parallel(n_jobs=-1)]: Done 104 tasks      | elapsed:  3.2min\n",
      "[Parallel(n_jobs=-1)]: Done 264 tasks      | elapsed:  7.9min\n",
      "[Parallel(n_jobs=-1)]: Done 480 out of 480 | elapsed: 14.3min finished\n"
     ]
    },
    {
     "data": {
      "text/plain": [
       "{'clf__alpha': 0.01,\n",
       " 'clf__fit_prior': False,\n",
       " 'tfidf__norm': 'l2',\n",
       " 'tfidf__use_idf': True,\n",
       " 'vect__ngram_range': (1, 2),\n",
       " 'vect__stop_words': None}"
      ]
     },
     "execution_count": 11,
     "metadata": {},
     "output_type": "execute_result"
    }
   ],
   "source": [
    "model13.fit(X,y)\n",
    "model13.best_params_"
   ]
  },
  {
   "cell_type": "code",
   "execution_count": 12,
   "metadata": {},
   "outputs": [],
   "source": [
    "prod_model = Pipeline([('vect', StemCountVectorizer(binary=False, ngram_range=(1,2), stop_words=None)),\n",
    "                  ('tfidf', TfidfTransformer(norm='l2', use_idf=True)),\n",
    "                  ('clf', MultinomialNB(alpha=0.01, fit_prior=False))])"
   ]
  },
  {
   "cell_type": "code",
   "execution_count": 13,
   "metadata": {},
   "outputs": [
    {
     "data": {
      "text/plain": [
       "['./front_end/production_model.joblib']"
      ]
     },
     "execution_count": 13,
     "metadata": {},
     "output_type": "execute_result"
    }
   ],
   "source": [
    "prod_model.fit(X,y)\n",
    "dump(prod_model, './front_end/production_model.joblib')"
   ]
  }
 ],
 "metadata": {
  "kernelspec": {
   "display_name": "Python 3",
   "language": "python",
   "name": "python3"
  },
  "language_info": {
   "codemirror_mode": {
    "name": "ipython",
    "version": 3
   },
   "file_extension": ".py",
   "mimetype": "text/x-python",
   "name": "python",
   "nbconvert_exporter": "python",
   "pygments_lexer": "ipython3",
   "version": "3.8.6"
  }
 },
 "nbformat": 4,
 "nbformat_minor": 4
}
