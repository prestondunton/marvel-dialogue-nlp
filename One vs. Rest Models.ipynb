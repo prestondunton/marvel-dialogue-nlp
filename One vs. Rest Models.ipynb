{
 "cells": [
  {
   "cell_type": "markdown",
   "metadata": {},
   "source": [
    "## Introduction\n",
    "\n",
    "The goal of this notebook is to train models that only have to predict if a line belongs to a certain character or not, binarizing the classes into \"CHARACTER\" and \"NOT CHARACTER\".  This could be used as a measure of uniqueness of the character, as well as be plain interesting.  \n",
    "\n",
    "The first model presented, however, makes predictions for all of the classes.  It trains one of these models for each character, and compares their prediction confidences to make a prediction overall.  I was interested to see if allowing each class to have its own model would increase accuracy.\n",
    "\n",
    "The rest of the models individual to each character, as described firstly."
   ]
  },
  {
   "cell_type": "markdown",
   "metadata": {},
   "source": [
    "## Imports, Classes, and Constants"
   ]
  },
  {
   "cell_type": "code",
   "execution_count": 1,
   "metadata": {},
   "outputs": [],
   "source": [
    "import pandas as pd\n",
    "import numpy as np\n",
    "import matplotlib.pyplot as plt\n",
    "import seaborn as sns\n",
    "from joblib import dump, load\n",
    "\n",
    "import concurrent.futures\n",
    "import time\n",
    "\n",
    "from sklearn.pipeline import Pipeline\n",
    "from sklearn.base import BaseEstimator\n",
    "from sklearn.base import clone\n",
    "\n",
    "from sklearn.model_selection import StratifiedKFold\n",
    "from sklearn.model_selection import cross_val_score\n",
    "from sklearn.model_selection import cross_val_predict\n",
    "from sklearn.model_selection import learning_curve\n",
    "\n",
    "from sklearn.feature_extraction.text import CountVectorizer\n",
    "from sklearn.feature_extraction.text import TfidfTransformer\n",
    "\n",
    "from sklearn.naive_bayes import MultinomialNB\n",
    "\n",
    "from sklearn import metrics\n",
    "\n",
    "import nltk\n",
    "from nltk.corpus import stopwords\n",
    "from nltk.stem import SnowballStemmer\n",
    "\n",
    "pd.set_option('display.max_rows', None)\n",
    "pd.set_option('display.max_colwidth', None)\n",
    "\n",
    "RANDOM_SEED = 42\n",
    "\n",
    "class StemCountVectorizer(CountVectorizer):\n",
    "    def build_analyzer(self):\n",
    "        analyzer = super(StemCountVectorizer, self).build_analyzer()\n",
    "        \n",
    "        return lambda document: ([SnowballStemmer('english', ignore_stopwords=True).stem(word) for word in analyzer(document)])"
   ]
  },
  {
   "cell_type": "markdown",
   "metadata": {},
   "source": [
    "## Dataset Preprocessing"
   ]
  },
  {
   "cell_type": "code",
   "execution_count": 2,
   "metadata": {},
   "outputs": [
    {
     "data": {
      "text/html": [
       "<div>\n",
       "<style scoped>\n",
       "    .dataframe tbody tr th:only-of-type {\n",
       "        vertical-align: middle;\n",
       "    }\n",
       "\n",
       "    .dataframe tbody tr th {\n",
       "        vertical-align: top;\n",
       "    }\n",
       "\n",
       "    .dataframe thead th {\n",
       "        text-align: right;\n",
       "    }\n",
       "</style>\n",
       "<table border=\"1\" class=\"dataframe\">\n",
       "  <thead>\n",
       "    <tr style=\"text-align: right;\">\n",
       "      <th></th>\n",
       "      <th>Unnamed: 0</th>\n",
       "      <th>character</th>\n",
       "      <th>line</th>\n",
       "      <th>movie</th>\n",
       "      <th>year</th>\n",
       "      <th>words</th>\n",
       "      <th>Adam McKay</th>\n",
       "      <th>Anna Boden</th>\n",
       "      <th>Art Marcum</th>\n",
       "      <th>Ashley Edward Miller</th>\n",
       "      <th>...</th>\n",
       "      <th>Joss Whedon</th>\n",
       "      <th>Justin Theroux</th>\n",
       "      <th>Mark Fergus</th>\n",
       "      <th>Matt Holloway</th>\n",
       "      <th>Paul Rudd</th>\n",
       "      <th>Ryan Coogler</th>\n",
       "      <th>Ryan Fleck</th>\n",
       "      <th>Shane Black</th>\n",
       "      <th>Stephen McFeely</th>\n",
       "      <th>Zack Stentz</th>\n",
       "    </tr>\n",
       "  </thead>\n",
       "  <tbody>\n",
       "    <tr>\n",
       "      <th>1263</th>\n",
       "      <td>2218</td>\n",
       "      <td>THOR</td>\n",
       "      <td>Stay here. Once I have Mjolnir, I will return what they stole from you. Deal?</td>\n",
       "      <td>Thor</td>\n",
       "      <td>2011</td>\n",
       "      <td>15</td>\n",
       "      <td>False</td>\n",
       "      <td>False</td>\n",
       "      <td>False</td>\n",
       "      <td>True</td>\n",
       "      <td>...</td>\n",
       "      <td>False</td>\n",
       "      <td>False</td>\n",
       "      <td>False</td>\n",
       "      <td>False</td>\n",
       "      <td>False</td>\n",
       "      <td>False</td>\n",
       "      <td>False</td>\n",
       "      <td>False</td>\n",
       "      <td>False</td>\n",
       "      <td>True</td>\n",
       "    </tr>\n",
       "    <tr>\n",
       "      <th>3951</th>\n",
       "      <td>7527</td>\n",
       "      <td>THOR</td>\n",
       "      <td>They'll try to leave the city.</td>\n",
       "      <td>Avengers: Age of Ultron</td>\n",
       "      <td>2015</td>\n",
       "      <td>6</td>\n",
       "      <td>False</td>\n",
       "      <td>False</td>\n",
       "      <td>False</td>\n",
       "      <td>False</td>\n",
       "      <td>...</td>\n",
       "      <td>True</td>\n",
       "      <td>False</td>\n",
       "      <td>False</td>\n",
       "      <td>False</td>\n",
       "      <td>False</td>\n",
       "      <td>False</td>\n",
       "      <td>False</td>\n",
       "      <td>False</td>\n",
       "      <td>False</td>\n",
       "      <td>False</td>\n",
       "    </tr>\n",
       "    <tr>\n",
       "      <th>4198</th>\n",
       "      <td>8890</td>\n",
       "      <td>TONY STARK</td>\n",
       "      <td>Oh, yeah. It'd be great if we had a Hulk right about now. Any shot?</td>\n",
       "      <td>Captain America: Civil War</td>\n",
       "      <td>2016</td>\n",
       "      <td>15</td>\n",
       "      <td>False</td>\n",
       "      <td>False</td>\n",
       "      <td>False</td>\n",
       "      <td>False</td>\n",
       "      <td>...</td>\n",
       "      <td>False</td>\n",
       "      <td>False</td>\n",
       "      <td>False</td>\n",
       "      <td>False</td>\n",
       "      <td>False</td>\n",
       "      <td>False</td>\n",
       "      <td>False</td>\n",
       "      <td>False</td>\n",
       "      <td>True</td>\n",
       "      <td>False</td>\n",
       "    </tr>\n",
       "    <tr>\n",
       "      <th>6078</th>\n",
       "      <td>14843</td>\n",
       "      <td>BRUCE BANNER</td>\n",
       "      <td>It was worse for me.  Because I lost twice.  First Hulk lost.  Then Banner lost.  Then we all lost.</td>\n",
       "      <td>Avengers: Endgame</td>\n",
       "      <td>2019</td>\n",
       "      <td>23</td>\n",
       "      <td>False</td>\n",
       "      <td>False</td>\n",
       "      <td>False</td>\n",
       "      <td>False</td>\n",
       "      <td>...</td>\n",
       "      <td>False</td>\n",
       "      <td>False</td>\n",
       "      <td>False</td>\n",
       "      <td>False</td>\n",
       "      <td>False</td>\n",
       "      <td>False</td>\n",
       "      <td>False</td>\n",
       "      <td>False</td>\n",
       "      <td>True</td>\n",
       "      <td>False</td>\n",
       "    </tr>\n",
       "    <tr>\n",
       "      <th>96</th>\n",
       "      <td>141</td>\n",
       "      <td>TONY STARK</td>\n",
       "      <td>Okay, here’s what I need... S-Category missiles.  Lot 7043.  The S-30 explosive tritonal.  And a dozen of the S-76.  Mortars: M-Category #1, 4, 8, 20, and 60.  M- 229’s, I need eleven of these.  Mines: the pre-90s AP 5s and AP 16s.</td>\n",
       "      <td>Iron Man</td>\n",
       "      <td>2008</td>\n",
       "      <td>49</td>\n",
       "      <td>False</td>\n",
       "      <td>False</td>\n",
       "      <td>True</td>\n",
       "      <td>False</td>\n",
       "      <td>...</td>\n",
       "      <td>False</td>\n",
       "      <td>False</td>\n",
       "      <td>True</td>\n",
       "      <td>True</td>\n",
       "      <td>False</td>\n",
       "      <td>False</td>\n",
       "      <td>False</td>\n",
       "      <td>False</td>\n",
       "      <td>False</td>\n",
       "      <td>False</td>\n",
       "    </tr>\n",
       "  </tbody>\n",
       "</table>\n",
       "<p>5 rows × 38 columns</p>\n",
       "</div>"
      ],
      "text/plain": [
       "      Unnamed: 0     character  \\\n",
       "1263        2218          THOR   \n",
       "3951        7527          THOR   \n",
       "4198        8890    TONY STARK   \n",
       "6078       14843  BRUCE BANNER   \n",
       "96           141    TONY STARK   \n",
       "\n",
       "                                                                                                                                                                                                                                          line  \\\n",
       "1263                                                                                                                                                             Stay here. Once I have Mjolnir, I will return what they stole from you. Deal?   \n",
       "3951                                                                                                                                                                                                            They'll try to leave the city.   \n",
       "4198                                                                                                                                                                       Oh, yeah. It'd be great if we had a Hulk right about now. Any shot?   \n",
       "6078                                                                                                                                       It was worse for me.  Because I lost twice.  First Hulk lost.  Then Banner lost.  Then we all lost.   \n",
       "96    Okay, here’s what I need... S-Category missiles.  Lot 7043.  The S-30 explosive tritonal.  And a dozen of the S-76.  Mortars: M-Category #1, 4, 8, 20, and 60.  M- 229’s, I need eleven of these.  Mines: the pre-90s AP 5s and AP 16s.    \n",
       "\n",
       "                           movie  year  words  Adam McKay  Anna Boden  \\\n",
       "1263                        Thor  2011     15       False       False   \n",
       "3951     Avengers: Age of Ultron  2015      6       False       False   \n",
       "4198  Captain America: Civil War  2016     15       False       False   \n",
       "6078           Avengers: Endgame  2019     23       False       False   \n",
       "96                      Iron Man  2008     49       False       False   \n",
       "\n",
       "      Art Marcum  Ashley Edward Miller  ...  Joss Whedon  Justin Theroux  \\\n",
       "1263       False                  True  ...        False           False   \n",
       "3951       False                 False  ...         True           False   \n",
       "4198       False                 False  ...        False           False   \n",
       "6078       False                 False  ...        False           False   \n",
       "96          True                 False  ...        False           False   \n",
       "\n",
       "      Mark Fergus  Matt Holloway  Paul Rudd  Ryan Coogler  Ryan Fleck  \\\n",
       "1263        False          False      False         False       False   \n",
       "3951        False          False      False         False       False   \n",
       "4198        False          False      False         False       False   \n",
       "6078        False          False      False         False       False   \n",
       "96           True           True      False         False       False   \n",
       "\n",
       "      Shane Black  Stephen McFeely  Zack Stentz  \n",
       "1263        False            False         True  \n",
       "3951        False            False        False  \n",
       "4198        False             True        False  \n",
       "6078        False             True        False  \n",
       "96          False            False        False  \n",
       "\n",
       "[5 rows x 38 columns]"
      ]
     },
     "execution_count": 2,
     "metadata": {},
     "output_type": "execute_result"
    }
   ],
   "source": [
    "mcu_subset = pd.read_csv(\"./data/mcu_subset.csv\")\n",
    "\n",
    "np.random.seed(RANDOM_SEED)\n",
    "mcu_subset = mcu_subset.reindex(np.random.permutation(mcu_subset.index))\n",
    "\n",
    "mcu_subset.head()"
   ]
  },
  {
   "cell_type": "code",
   "execution_count": 3,
   "metadata": {},
   "outputs": [
    {
     "data": {
      "text/html": [
       "<div>\n",
       "<style scoped>\n",
       "    .dataframe tbody tr th:only-of-type {\n",
       "        vertical-align: middle;\n",
       "    }\n",
       "\n",
       "    .dataframe tbody tr th {\n",
       "        vertical-align: top;\n",
       "    }\n",
       "\n",
       "    .dataframe thead th {\n",
       "        text-align: right;\n",
       "    }\n",
       "</style>\n",
       "<table border=\"1\" class=\"dataframe\">\n",
       "  <thead>\n",
       "    <tr style=\"text-align: right;\">\n",
       "      <th></th>\n",
       "      <th>character</th>\n",
       "    </tr>\n",
       "  </thead>\n",
       "  <tbody>\n",
       "    <tr>\n",
       "      <th>TONY STARK</th>\n",
       "      <td>1788</td>\n",
       "    </tr>\n",
       "    <tr>\n",
       "      <th>STEVE ROGERS</th>\n",
       "      <td>977</td>\n",
       "    </tr>\n",
       "    <tr>\n",
       "      <th>THOR</th>\n",
       "      <td>863</td>\n",
       "    </tr>\n",
       "    <tr>\n",
       "      <th>PETER PARKER</th>\n",
       "      <td>551</td>\n",
       "    </tr>\n",
       "    <tr>\n",
       "      <th>NATASHA ROMANOFF</th>\n",
       "      <td>498</td>\n",
       "    </tr>\n",
       "    <tr>\n",
       "      <th>PEPPER POTTS</th>\n",
       "      <td>442</td>\n",
       "    </tr>\n",
       "    <tr>\n",
       "      <th>BRUCE BANNER</th>\n",
       "      <td>379</td>\n",
       "    </tr>\n",
       "    <tr>\n",
       "      <th>NICK FURY</th>\n",
       "      <td>366</td>\n",
       "    </tr>\n",
       "    <tr>\n",
       "      <th>LOKI</th>\n",
       "      <td>327</td>\n",
       "    </tr>\n",
       "    <tr>\n",
       "      <th>JAMES RHODES</th>\n",
       "      <td>318</td>\n",
       "    </tr>\n",
       "  </tbody>\n",
       "</table>\n",
       "</div>"
      ],
      "text/plain": [
       "                  character\n",
       "TONY STARK             1788\n",
       "STEVE ROGERS            977\n",
       "THOR                    863\n",
       "PETER PARKER            551\n",
       "NATASHA ROMANOFF        498\n",
       "PEPPER POTTS            442\n",
       "BRUCE BANNER            379\n",
       "NICK FURY               366\n",
       "LOKI                    327\n",
       "JAMES RHODES            318"
      ]
     },
     "execution_count": 3,
     "metadata": {},
     "output_type": "execute_result"
    }
   ],
   "source": [
    "pd.DataFrame(mcu_subset['character'].value_counts())"
   ]
  },
  {
   "cell_type": "code",
   "execution_count": 4,
   "metadata": {},
   "outputs": [
    {
     "data": {
      "text/plain": [
       "(array(['Stay here. Once I have Mjolnir, I will return what they stole from you. Deal?',\n",
       "        \"They'll try to leave the city.\",\n",
       "        \"Oh, yeah. It'd be great if we had a Hulk right about now. Any shot?\",\n",
       "        'It was worse for me.  Because I lost twice.  First Hulk lost.  Then Banner lost.  Then we all lost.',\n",
       "        'Okay, here’s what I need... S-Category missiles.  Lot 7043.  The S-30 explosive tritonal.  And a dozen of the S-76.  Mortars: M-Category #1, 4, 8, 20, and 60.  M- 229’s, I need eleven of these.  Mines: the pre-90s AP 5s and AP 16s. ',\n",
       "        'A little.',\n",
       "        \"You really think I'd need one? My wife kicked me out.\",\n",
       "        'Is this is a test?', 'What about Ultron himself?',\n",
       "        'Who put me there? Who put me there?!'], dtype='<U1388'),\n",
       " array(['THOR', 'THOR', 'TONY STARK', 'BRUCE BANNER', 'TONY STARK',\n",
       "        'STEVE ROGERS', 'NICK FURY', 'STEVE ROGERS', 'STEVE ROGERS',\n",
       "        'LOKI'], dtype='<U16'))"
      ]
     },
     "execution_count": 4,
     "metadata": {},
     "output_type": "execute_result"
    }
   ],
   "source": [
    "y = mcu_subset[\"character\"].to_numpy().astype(str)\n",
    "X = mcu_subset[\"line\"].to_numpy().astype(str)\n",
    "\n",
    "X[0:10], y[0:10]"
   ]
  },
  {
   "cell_type": "markdown",
   "metadata": {},
   "source": [
    "## All Classes Model (Model 14)"
   ]
  },
  {
   "cell_type": "code",
   "execution_count": 5,
   "metadata": {},
   "outputs": [],
   "source": [
    "cross_validator = StratifiedKFold(n_splits=10, random_state=RANDOM_SEED, shuffle=True)\n",
    "score_method = \"balanced_accuracy\""
   ]
  },
  {
   "cell_type": "code",
   "execution_count": 6,
   "metadata": {},
   "outputs": [],
   "source": [
    "class OVR_Model(BaseEstimator):\n",
    "    '''\n",
    "    Trains a different model for each label that predits\n",
    "    'LABEL' and 'NOT LABEL'.  Prediction creates probabilities\n",
    "    for each 'LABEL' and returns the label with the highest probability\n",
    "    '''\n",
    "    def __init__(self, base_model):\n",
    "        self.base_model = base_model\n",
    "        self.models = []\n",
    "        self.classes_ = []\n",
    "        \n",
    "    def fit(self, X, y, verbose=False):\n",
    "        \n",
    "        self.classes_ = np.unique(y)\n",
    "        \n",
    "        def train_model(X,y,label):\n",
    "            if verbose:\n",
    "                import warnings\n",
    "                warnings.simplefilter('always')\n",
    "                warnings.warn(\"Training a model model '\" + label + \"'\")\n",
    "                start = time.time()\n",
    "            \n",
    "            binary_y = (y == np.full(y.shape, label))\n",
    "            new_model = clone(self.base_model)\n",
    "            new_model.fit(X, binary_y)\n",
    "            \n",
    "            return new_model\n",
    "            \n",
    "            if verbose:\n",
    "                end = time.time()\n",
    "                warnings.warn(\"Finished training model '\" + label + \"'.  Elapsed time: \" + str(end-start) + \"s\")\n",
    "                \n",
    "        with concurrent.futures.ThreadPoolExecutor(max_workers=12) as executor:\n",
    "            futures = []\n",
    "            for label in self.classes_:\n",
    "                futures.append(executor.submit(train_model, X, y, label))\n",
    "                \n",
    "            for i in range(0,len(futures)):\n",
    "                try:\n",
    "                    new_model = futures[i].result()\n",
    "                    self.models.append(new_model)\n",
    "                except Exception as exc:\n",
    "                    print('Training %r generated an exception: %s' % (self.classes_[i], exc))            \n",
    "        \n",
    "    def predict(self, X):\n",
    "        return self.classes_[np.argmax(self.predict_proba(X), axis=1)]\n",
    "        \n",
    "    def predict_proba(self, X, verbose=False):\n",
    "        probabilities = np.empty(shape=(len(X), 0))\n",
    "                                 \n",
    "        def predict_proba_model(model,x):\n",
    "            if verbose:\n",
    "                import warnings\n",
    "                warnings.simplefilter('always')\n",
    "                warnings.warn(\"Predicting using model '\" + label + \"'\")\n",
    "                start = time.time()\n",
    "                                 \n",
    "            label_probs = model.predict_proba(x)[:, list(model.classes_).index(True)]\n",
    "            \n",
    "            if verbose:\n",
    "                end = time.time()\n",
    "                warnings.warn(\"Finished predicting using model '\" + label + \"'.  Elapsed time: \" + str(end-start) + \"s\")\n",
    "                                 \n",
    "            return label_probs\n",
    "        \n",
    "        with concurrent.futures.ThreadPoolExecutor(max_workers=12) as executor:\n",
    "            futures = []\n",
    "            for model in self.models:\n",
    "                futures.append(executor.submit(predict_proba_model, model, X))\n",
    "                \n",
    "            for i in range(0,len(futures)):\n",
    "                try:\n",
    "                    label_probs = futures[i].result()\n",
    "                except Exception as exc:\n",
    "                    print('Exception Generated: %s' % (exc))\n",
    "                else:\n",
    "                    probabilities = np.concatenate((probabilities, np.expand_dims(label_probs, axis=1)), axis=1)\n",
    "         \n",
    "        return probabilities\n",
    "        "
   ]
  },
  {
   "cell_type": "code",
   "execution_count": 7,
   "metadata": {},
   "outputs": [],
   "source": [
    "base_model = load(\"./front_end/production_model.joblib\")\n",
    "\n",
    "model14 = OVR_Model(base_model)"
   ]
  },
  {
   "cell_type": "markdown",
   "metadata": {},
   "source": [
    "### Nested CV Balanced Accuracy"
   ]
  },
  {
   "cell_type": "code",
   "execution_count": 8,
   "metadata": {},
   "outputs": [
    {
     "name": "stderr",
     "output_type": "stream",
     "text": [
      "[Parallel(n_jobs=-1)]: Using backend LokyBackend with 12 concurrent workers.\n",
      "[Parallel(n_jobs=-1)]: Done   3 out of  10 | elapsed: 15.6min remaining: 36.4min\n",
      "[Parallel(n_jobs=-1)]: Done   5 out of  10 | elapsed: 15.9min remaining: 15.9min\n",
      "[Parallel(n_jobs=-1)]: Done   7 out of  10 | elapsed: 16.1min remaining:  6.9min\n",
      "[Parallel(n_jobs=-1)]: Done  10 out of  10 | elapsed: 16.1min finished\n"
     ]
    },
    {
     "data": {
      "text/html": [
       "<div>\n",
       "<style scoped>\n",
       "    .dataframe tbody tr th:only-of-type {\n",
       "        vertical-align: middle;\n",
       "    }\n",
       "\n",
       "    .dataframe tbody tr th {\n",
       "        vertical-align: top;\n",
       "    }\n",
       "\n",
       "    .dataframe thead th {\n",
       "        text-align: right;\n",
       "    }\n",
       "</style>\n",
       "<table border=\"1\" class=\"dataframe\">\n",
       "  <thead>\n",
       "    <tr style=\"text-align: right;\">\n",
       "      <th></th>\n",
       "      <th>model 14</th>\n",
       "    </tr>\n",
       "    <tr>\n",
       "      <th>fold</th>\n",
       "      <th></th>\n",
       "    </tr>\n",
       "  </thead>\n",
       "  <tbody>\n",
       "    <tr>\n",
       "      <th>0</th>\n",
       "      <td>0.076621</td>\n",
       "    </tr>\n",
       "    <tr>\n",
       "      <th>1</th>\n",
       "      <td>0.326696</td>\n",
       "    </tr>\n",
       "    <tr>\n",
       "      <th>2</th>\n",
       "      <td>0.083218</td>\n",
       "    </tr>\n",
       "    <tr>\n",
       "      <th>3</th>\n",
       "      <td>0.295073</td>\n",
       "    </tr>\n",
       "    <tr>\n",
       "      <th>4</th>\n",
       "      <td>0.316480</td>\n",
       "    </tr>\n",
       "    <tr>\n",
       "      <th>5</th>\n",
       "      <td>0.308278</td>\n",
       "    </tr>\n",
       "    <tr>\n",
       "      <th>6</th>\n",
       "      <td>0.103476</td>\n",
       "    </tr>\n",
       "    <tr>\n",
       "      <th>7</th>\n",
       "      <td>0.074433</td>\n",
       "    </tr>\n",
       "    <tr>\n",
       "      <th>8</th>\n",
       "      <td>0.085160</td>\n",
       "    </tr>\n",
       "    <tr>\n",
       "      <th>9</th>\n",
       "      <td>0.066272</td>\n",
       "    </tr>\n",
       "    <tr>\n",
       "      <th>mean</th>\n",
       "      <td>0.173571</td>\n",
       "    </tr>\n",
       "    <tr>\n",
       "      <th>std</th>\n",
       "      <td>0.113320</td>\n",
       "    </tr>\n",
       "    <tr>\n",
       "      <th>max</th>\n",
       "      <td>0.326696</td>\n",
       "    </tr>\n",
       "  </tbody>\n",
       "</table>\n",
       "</div>"
      ],
      "text/plain": [
       "      model 14\n",
       "fold          \n",
       "0     0.076621\n",
       "1     0.326696\n",
       "2     0.083218\n",
       "3     0.295073\n",
       "4     0.316480\n",
       "5     0.308278\n",
       "6     0.103476\n",
       "7     0.074433\n",
       "8     0.085160\n",
       "9     0.066272\n",
       "mean  0.173571\n",
       "std   0.113320\n",
       "max   0.326696"
      ]
     },
     "execution_count": 8,
     "metadata": {},
     "output_type": "execute_result"
    }
   ],
   "source": [
    "models = {\"model 14\": model14}\n",
    "\n",
    "cv_score_table = pd.DataFrame()\n",
    "\n",
    "for name, model in models.items():\n",
    "    results = cross_val_score(model, X, y, cv=cross_validator, scoring=score_method, n_jobs=-1, verbose=6)\n",
    "    cv_score_table.insert(len(cv_score_table.columns), name, results, True)\n",
    "\n",
    "cv_score_table.index.name = \"fold\"\n",
    "cv_score_table.loc[\"mean\"] = cv_score_table.mean()\n",
    "cv_score_table.loc[\"std\"] = cv_score_table.std()\n",
    "cv_score_table.loc[\"max\"] = cv_score_table.max()\n",
    "\n",
    "cv_score_table"
   ]
  },
  {
   "cell_type": "markdown",
   "metadata": {},
   "source": [
    "### Confusion Matrix"
   ]
  },
  {
   "cell_type": "code",
   "execution_count": 9,
   "metadata": {},
   "outputs": [
    {
     "name": "stderr",
     "output_type": "stream",
     "text": [
      "[Parallel(n_jobs=-1)]: Using backend LokyBackend with 12 concurrent workers.\n",
      "[Parallel(n_jobs=-1)]: Done   3 out of  10 | elapsed: 35.7min remaining: 83.4min\n",
      "[Parallel(n_jobs=-1)]: Done   5 out of  10 | elapsed: 35.7min remaining: 35.7min\n",
      "[Parallel(n_jobs=-1)]: Done   7 out of  10 | elapsed: 35.8min remaining: 15.3min\n",
      "[Parallel(n_jobs=-1)]: Done  10 out of  10 | elapsed: 35.8min finished\n"
     ]
    },
    {
     "name": "stdout",
     "output_type": "stream",
     "text": [
      "Balanced Accuracy: 0.2971799112326868\n",
      "Balanced Accuracy: 0.2971799112326868\n"
     ]
    },
    {
     "data": {
      "image/png": "[encoded data removed]",
      "text/plain": [
       "<Figure size 432x288 with 2 Axes>"
      ]
     },
     "metadata": {
      "needs_background": "light"
     },
     "output_type": "display_data"
    }
   ],
   "source": [
    "yhat = cross_val_predict(model14, X, y, cv=cross_validator, n_jobs=-1, verbose=6)\n",
    "\n",
    "main_characters = mcu_subset['character'].value_counts().index.to_numpy()\n",
    "\n",
    "conf_matrix = pd.DataFrame(metrics.confusion_matrix(y, yhat, labels=main_characters))\n",
    "normalized_conf_matrix = conf_matrix.div(conf_matrix.sum(axis=1), axis=0)\n",
    "normalized_conf_matrix.columns = pd.Series(main_characters, name=\"Predicted Character\")\n",
    "normalized_conf_matrix.index = pd.Series(main_characters, name=\"True Character\")\n",
    "\n",
    "plt.title(\"Model 14 Confusion Matrix\")\n",
    "sns.heatmap(normalized_conf_matrix, annot=True, fmt='.2f', cmap=plt.cm.Reds)\n",
    "\n",
    "# Should be the same\n",
    "print(\"Balanced Accuracy:\", metrics.balanced_accuracy_score(y,yhat))\n",
    "print(\"Balanced Accuracy:\", np.mean(np.diagonal(normalized_conf_matrix)))"
   ]
  },
  {
   "cell_type": "markdown",
   "metadata": {},
   "source": [
    "## Individual Character Models"
   ]
  },
  {
   "cell_type": "code",
   "execution_count": 10,
   "metadata": {},
   "outputs": [],
   "source": [
    "def binarize_labels(y, label):\n",
    "        binarized_y = np.copy(y)\n",
    "        binarized_y = binarized_y.astype('object')\n",
    "        binarized_y[np.argwhere(binarized_y != label)] = 'NOT ' + label\n",
    "        return binarized_y\n",
    "\n",
    "class Individual_Character_Model(BaseEstimator):\n",
    "    '''\n",
    "    Just a wrapper class to hold a label for a given character\n",
    "    and to plot a confusion matrix\n",
    "    '''\n",
    "    def __init__(self, label, base_model):\n",
    "        self.label = label\n",
    "        self.base_model = base_model\n",
    "        self.model = None\n",
    "        self.classes_ = [label, 'NOT ' + label]\n",
    "        self.confusion_matrix = None\n",
    "        self.recalls = None\n",
    "        \n",
    "    def fit(self,X,y):\n",
    "        self.model = clone(self.base_model)\n",
    "        self.model.fit(X, y)\n",
    "        \n",
    "    def predict(self,X):\n",
    "        return self.model.predict(X)\n",
    "    \n",
    "    def plot_confusion_matrix(self):\n",
    "        if self.confusion_matrix is None:\n",
    "            binarized_y = binarize_labels(y, self.label)\n",
    "            yhat = cross_val_predict(self, X, binarized_y, cv=cross_validator, n_jobs=-1, verbose=6)\n",
    "\n",
    "            conf_matrix = pd.DataFrame(metrics.confusion_matrix(binarized_y, yhat, labels=self.classes_))\n",
    "            normalized_conf_matrix = conf_matrix.div(conf_matrix.sum(axis=1), axis=0)\n",
    "            normalized_conf_matrix.columns = pd.Series(self.classes_, name=\"Predicted Character\")\n",
    "            normalized_conf_matrix.index = pd.Series(self.classes_, name=\"True Character\")\n",
    "            \n",
    "            self.confusion_matrix = normalized_conf_matrix\n",
    "            self.recalls = pd.DataFrame(np.diagonal(normalized_conf_matrix.to_numpy()))\n",
    "\n",
    "        plt.title(\"Proportion of a True Character's Examples\")\n",
    "        sns.heatmap(self.confusion_matrix, annot=True, fmt='.2f', cmap=plt.cm.Reds)\n",
    "\n",
    "        print(\"Balanced Accuracy:\", np.mean(np.diagonal(self.confusion_matrix)))\n",
    "        "
   ]
  },
  {
   "cell_type": "code",
   "execution_count": 11,
   "metadata": {},
   "outputs": [],
   "source": [
    "base_model = load(\"./front_end/production_model.joblib\")\n",
    "\n",
    "tony_model = Individual_Character_Model('TONY STARK', base_model)\n",
    "steve_model = Individual_Character_Model('STEVE ROGERS', base_model)\n",
    "thor_model = Individual_Character_Model('THOR', base_model)\n",
    "peter_model = Individual_Character_Model('PETER PARKER', base_model)\n",
    "natasha_model = Individual_Character_Model('NATASHA ROMANOFF', base_model)\n",
    "pepper_model = Individual_Character_Model('PEPPER POTTS', base_model)\n",
    "bruce_model = Individual_Character_Model('BRUCE BANNER', base_model)\n",
    "fury_model = Individual_Character_Model('NICK FURY', base_model)\n",
    "loki_model = Individual_Character_Model('LOKI', base_model)\n",
    "james_model = Individual_Character_Model('JAMES RHODES', base_model)"
   ]
  },
  {
   "cell_type": "markdown",
   "metadata": {},
   "source": [
    "### Nested CV Balanced Accuracy"
   ]
  },
  {
   "cell_type": "code",
   "execution_count": 12,
   "metadata": {},
   "outputs": [
    {
     "name": "stdout",
     "output_type": "stream",
     "text": [
      "Scoring model: tony_model\n"
     ]
    },
    {
     "name": "stderr",
     "output_type": "stream",
     "text": [
      "[Parallel(n_jobs=-1)]: Using backend LokyBackend with 12 concurrent workers.\n",
      "[Parallel(n_jobs=-1)]: Done   3 out of  10 | elapsed: 20.7min remaining: 48.3min\n",
      "[Parallel(n_jobs=-1)]: Done   5 out of  10 | elapsed: 20.7min remaining: 20.7min\n",
      "[Parallel(n_jobs=-1)]: Done   7 out of  10 | elapsed: 20.7min remaining:  8.9min\n",
      "[Parallel(n_jobs=-1)]: Done  10 out of  10 | elapsed: 20.7min finished\n"
     ]
    },
    {
     "name": "stdout",
     "output_type": "stream",
     "text": [
      "Scoring model: steve_model\n"
     ]
    },
    {
     "name": "stderr",
     "output_type": "stream",
     "text": [
      "[Parallel(n_jobs=-1)]: Using backend LokyBackend with 12 concurrent workers.\n",
      "[Parallel(n_jobs=-1)]: Done   3 out of  10 | elapsed: 20.9min remaining: 48.7min\n",
      "[Parallel(n_jobs=-1)]: Done   5 out of  10 | elapsed: 20.9min remaining: 20.9min\n",
      "[Parallel(n_jobs=-1)]: Done   7 out of  10 | elapsed: 20.9min remaining:  8.9min\n",
      "[Parallel(n_jobs=-1)]: Done  10 out of  10 | elapsed: 20.9min finished\n"
     ]
    },
    {
     "name": "stdout",
     "output_type": "stream",
     "text": [
      "Scoring model: thor_model\n"
     ]
    },
    {
     "name": "stderr",
     "output_type": "stream",
     "text": [
      "[Parallel(n_jobs=-1)]: Using backend LokyBackend with 12 concurrent workers.\n",
      "[Parallel(n_jobs=-1)]: Done   3 out of  10 | elapsed: 20.4min remaining: 47.6min\n",
      "[Parallel(n_jobs=-1)]: Done   5 out of  10 | elapsed: 20.4min remaining: 20.4min\n",
      "[Parallel(n_jobs=-1)]: Done   7 out of  10 | elapsed: 20.4min remaining:  8.8min\n",
      "[Parallel(n_jobs=-1)]: Done  10 out of  10 | elapsed: 20.4min finished\n"
     ]
    },
    {
     "name": "stdout",
     "output_type": "stream",
     "text": [
      "Scoring model: peter_model\n"
     ]
    },
    {
     "name": "stderr",
     "output_type": "stream",
     "text": [
      "[Parallel(n_jobs=-1)]: Using backend LokyBackend with 12 concurrent workers.\n",
      "[Parallel(n_jobs=-1)]: Done   3 out of  10 | elapsed: 20.4min remaining: 47.7min\n",
      "[Parallel(n_jobs=-1)]: Done   5 out of  10 | elapsed: 20.4min remaining: 20.4min\n",
      "[Parallel(n_jobs=-1)]: Done   7 out of  10 | elapsed: 20.5min remaining:  8.8min\n",
      "[Parallel(n_jobs=-1)]: Done  10 out of  10 | elapsed: 20.5min finished\n"
     ]
    },
    {
     "name": "stdout",
     "output_type": "stream",
     "text": [
      "Scoring model: natasha_model\n"
     ]
    },
    {
     "name": "stderr",
     "output_type": "stream",
     "text": [
      "[Parallel(n_jobs=-1)]: Using backend LokyBackend with 12 concurrent workers.\n",
      "[Parallel(n_jobs=-1)]: Done   3 out of  10 | elapsed: 20.5min remaining: 47.9min\n",
      "[Parallel(n_jobs=-1)]: Done   5 out of  10 | elapsed: 20.5min remaining: 20.5min\n",
      "[Parallel(n_jobs=-1)]: Done   7 out of  10 | elapsed: 20.6min remaining:  8.8min\n",
      "[Parallel(n_jobs=-1)]: Done  10 out of  10 | elapsed: 20.6min finished\n"
     ]
    },
    {
     "name": "stdout",
     "output_type": "stream",
     "text": [
      "Scoring model: pepper_model\n"
     ]
    },
    {
     "name": "stderr",
     "output_type": "stream",
     "text": [
      "[Parallel(n_jobs=-1)]: Using backend LokyBackend with 12 concurrent workers.\n",
      "[Parallel(n_jobs=-1)]: Done   3 out of  10 | elapsed: 22.3min remaining: 52.0min\n",
      "[Parallel(n_jobs=-1)]: Done   5 out of  10 | elapsed: 22.3min remaining: 22.3min\n",
      "[Parallel(n_jobs=-1)]: Done   7 out of  10 | elapsed: 22.3min remaining:  9.6min\n",
      "[Parallel(n_jobs=-1)]: Done  10 out of  10 | elapsed: 22.4min finished\n"
     ]
    },
    {
     "name": "stdout",
     "output_type": "stream",
     "text": [
      "Scoring model: bruce_model\n"
     ]
    },
    {
     "name": "stderr",
     "output_type": "stream",
     "text": [
      "[Parallel(n_jobs=-1)]: Using backend LokyBackend with 12 concurrent workers.\n",
      "[Parallel(n_jobs=-1)]: Done   3 out of  10 | elapsed: 21.4min remaining: 49.9min\n",
      "[Parallel(n_jobs=-1)]: Done   5 out of  10 | elapsed: 21.4min remaining: 21.4min\n",
      "[Parallel(n_jobs=-1)]: Done   7 out of  10 | elapsed: 21.4min remaining:  9.2min\n",
      "[Parallel(n_jobs=-1)]: Done  10 out of  10 | elapsed: 21.4min finished\n"
     ]
    },
    {
     "name": "stdout",
     "output_type": "stream",
     "text": [
      "Scoring model: fury_model\n"
     ]
    },
    {
     "name": "stderr",
     "output_type": "stream",
     "text": [
      "[Parallel(n_jobs=-1)]: Using backend LokyBackend with 12 concurrent workers.\n",
      "[Parallel(n_jobs=-1)]: Done   3 out of  10 | elapsed: 20.4min remaining: 47.6min\n",
      "[Parallel(n_jobs=-1)]: Done   5 out of  10 | elapsed: 20.4min remaining: 20.4min\n",
      "[Parallel(n_jobs=-1)]: Done   7 out of  10 | elapsed: 20.4min remaining:  8.8min\n",
      "[Parallel(n_jobs=-1)]: Done  10 out of  10 | elapsed: 20.5min finished\n"
     ]
    },
    {
     "name": "stdout",
     "output_type": "stream",
     "text": [
      "Scoring model: loki_model\n"
     ]
    },
    {
     "name": "stderr",
     "output_type": "stream",
     "text": [
      "[Parallel(n_jobs=-1)]: Using backend LokyBackend with 12 concurrent workers.\n",
      "[Parallel(n_jobs=-1)]: Done   3 out of  10 | elapsed: 20.3min remaining: 47.5min\n",
      "[Parallel(n_jobs=-1)]: Done   5 out of  10 | elapsed: 20.4min remaining: 20.4min\n",
      "[Parallel(n_jobs=-1)]: Done   7 out of  10 | elapsed: 20.4min remaining:  8.7min\n",
      "[Parallel(n_jobs=-1)]: Done  10 out of  10 | elapsed: 20.4min finished\n"
     ]
    },
    {
     "name": "stdout",
     "output_type": "stream",
     "text": [
      "Scoring model: james_model\n"
     ]
    },
    {
     "name": "stderr",
     "output_type": "stream",
     "text": [
      "[Parallel(n_jobs=-1)]: Using backend LokyBackend with 12 concurrent workers.\n",
      "[Parallel(n_jobs=-1)]: Done   3 out of  10 | elapsed: 11.8min remaining: 27.6min\n",
      "[Parallel(n_jobs=-1)]: Done   5 out of  10 | elapsed: 11.8min remaining: 11.8min\n",
      "[Parallel(n_jobs=-1)]: Done   7 out of  10 | elapsed: 11.8min remaining:  5.1min\n",
      "[Parallel(n_jobs=-1)]: Done  10 out of  10 | elapsed: 11.8min finished\n"
     ]
    },
    {
     "data": {
      "text/html": [
       "<div>\n",
       "<style scoped>\n",
       "    .dataframe tbody tr th:only-of-type {\n",
       "        vertical-align: middle;\n",
       "    }\n",
       "\n",
       "    .dataframe tbody tr th {\n",
       "        vertical-align: top;\n",
       "    }\n",
       "\n",
       "    .dataframe thead th {\n",
       "        text-align: right;\n",
       "    }\n",
       "</style>\n",
       "<table border=\"1\" class=\"dataframe\">\n",
       "  <thead>\n",
       "    <tr style=\"text-align: right;\">\n",
       "      <th></th>\n",
       "      <th>tony_model</th>\n",
       "      <th>steve_model</th>\n",
       "      <th>thor_model</th>\n",
       "      <th>peter_model</th>\n",
       "      <th>natasha_model</th>\n",
       "      <th>pepper_model</th>\n",
       "      <th>bruce_model</th>\n",
       "      <th>fury_model</th>\n",
       "      <th>loki_model</th>\n",
       "      <th>james_model</th>\n",
       "    </tr>\n",
       "    <tr>\n",
       "      <th>fold</th>\n",
       "      <th></th>\n",
       "      <th></th>\n",
       "      <th></th>\n",
       "      <th></th>\n",
       "      <th></th>\n",
       "      <th></th>\n",
       "      <th></th>\n",
       "      <th></th>\n",
       "      <th></th>\n",
       "      <th></th>\n",
       "    </tr>\n",
       "  </thead>\n",
       "  <tbody>\n",
       "    <tr>\n",
       "      <th>0</th>\n",
       "      <td>0.572226</td>\n",
       "      <td>0.593770</td>\n",
       "      <td>0.603265</td>\n",
       "      <td>0.732047</td>\n",
       "      <td>0.554105</td>\n",
       "      <td>0.603078</td>\n",
       "      <td>0.585902</td>\n",
       "      <td>0.586789</td>\n",
       "      <td>0.681593</td>\n",
       "      <td>0.557258</td>\n",
       "    </tr>\n",
       "    <tr>\n",
       "      <th>1</th>\n",
       "      <td>0.591824</td>\n",
       "      <td>0.594030</td>\n",
       "      <td>0.648325</td>\n",
       "      <td>0.669250</td>\n",
       "      <td>0.592579</td>\n",
       "      <td>0.702879</td>\n",
       "      <td>0.604168</td>\n",
       "      <td>0.591667</td>\n",
       "      <td>0.629064</td>\n",
       "      <td>0.539630</td>\n",
       "    </tr>\n",
       "    <tr>\n",
       "      <th>2</th>\n",
       "      <td>0.619360</td>\n",
       "      <td>0.620641</td>\n",
       "      <td>0.691703</td>\n",
       "      <td>0.761836</td>\n",
       "      <td>0.536755</td>\n",
       "      <td>0.617736</td>\n",
       "      <td>0.621405</td>\n",
       "      <td>0.599864</td>\n",
       "      <td>0.698956</td>\n",
       "      <td>0.568457</td>\n",
       "    </tr>\n",
       "    <tr>\n",
       "      <th>3</th>\n",
       "      <td>0.594321</td>\n",
       "      <td>0.614893</td>\n",
       "      <td>0.690831</td>\n",
       "      <td>0.714841</td>\n",
       "      <td>0.517587</td>\n",
       "      <td>0.577879</td>\n",
       "      <td>0.575191</td>\n",
       "      <td>0.589533</td>\n",
       "      <td>0.603781</td>\n",
       "      <td>0.532083</td>\n",
       "    </tr>\n",
       "    <tr>\n",
       "      <th>4</th>\n",
       "      <td>0.595765</td>\n",
       "      <td>0.611599</td>\n",
       "      <td>0.745308</td>\n",
       "      <td>0.703935</td>\n",
       "      <td>0.528419</td>\n",
       "      <td>0.621031</td>\n",
       "      <td>0.573452</td>\n",
       "      <td>0.623889</td>\n",
       "      <td>0.716314</td>\n",
       "      <td>0.559017</td>\n",
       "    </tr>\n",
       "    <tr>\n",
       "      <th>5</th>\n",
       "      <td>0.573135</td>\n",
       "      <td>0.609532</td>\n",
       "      <td>0.705114</td>\n",
       "      <td>0.755400</td>\n",
       "      <td>0.473428</td>\n",
       "      <td>0.633219</td>\n",
       "      <td>0.578561</td>\n",
       "      <td>0.594419</td>\n",
       "      <td>0.620550</td>\n",
       "      <td>0.528852</td>\n",
       "    </tr>\n",
       "    <tr>\n",
       "      <th>6</th>\n",
       "      <td>0.606459</td>\n",
       "      <td>0.631749</td>\n",
       "      <td>0.667576</td>\n",
       "      <td>0.701556</td>\n",
       "      <td>0.538403</td>\n",
       "      <td>0.617736</td>\n",
       "      <td>0.607324</td>\n",
       "      <td>0.516595</td>\n",
       "      <td>0.731465</td>\n",
       "      <td>0.633103</td>\n",
       "    </tr>\n",
       "    <tr>\n",
       "      <th>7</th>\n",
       "      <td>0.592108</td>\n",
       "      <td>0.598360</td>\n",
       "      <td>0.647860</td>\n",
       "      <td>0.699176</td>\n",
       "      <td>0.525923</td>\n",
       "      <td>0.606821</td>\n",
       "      <td>0.578561</td>\n",
       "      <td>0.596862</td>\n",
       "      <td>0.675713</td>\n",
       "      <td>0.614247</td>\n",
       "    </tr>\n",
       "    <tr>\n",
       "      <th>8</th>\n",
       "      <td>0.575928</td>\n",
       "      <td>0.617605</td>\n",
       "      <td>0.680212</td>\n",
       "      <td>0.798319</td>\n",
       "      <td>0.566772</td>\n",
       "      <td>0.605611</td>\n",
       "      <td>0.511140</td>\n",
       "      <td>0.606634</td>\n",
       "      <td>0.708444</td>\n",
       "      <td>0.604554</td>\n",
       "    </tr>\n",
       "    <tr>\n",
       "      <th>9</th>\n",
       "      <td>0.613026</td>\n",
       "      <td>0.613327</td>\n",
       "      <td>0.704004</td>\n",
       "      <td>0.746753</td>\n",
       "      <td>0.554620</td>\n",
       "      <td>0.601335</td>\n",
       "      <td>0.576760</td>\n",
       "      <td>0.572023</td>\n",
       "      <td>0.661054</td>\n",
       "      <td>0.622518</td>\n",
       "    </tr>\n",
       "    <tr>\n",
       "      <th>mean</th>\n",
       "      <td>0.593415</td>\n",
       "      <td>0.610551</td>\n",
       "      <td>0.678420</td>\n",
       "      <td>0.728311</td>\n",
       "      <td>0.538859</td>\n",
       "      <td>0.618732</td>\n",
       "      <td>0.581246</td>\n",
       "      <td>0.587827</td>\n",
       "      <td>0.672693</td>\n",
       "      <td>0.575972</td>\n",
       "    </tr>\n",
       "    <tr>\n",
       "      <th>std</th>\n",
       "      <td>0.015507</td>\n",
       "      <td>0.011545</td>\n",
       "      <td>0.037122</td>\n",
       "      <td>0.035974</td>\n",
       "      <td>0.030266</td>\n",
       "      <td>0.031351</td>\n",
       "      <td>0.028083</td>\n",
       "      <td>0.026957</td>\n",
       "      <td>0.041134</td>\n",
       "      <td>0.037247</td>\n",
       "    </tr>\n",
       "    <tr>\n",
       "      <th>max</th>\n",
       "      <td>0.619360</td>\n",
       "      <td>0.631749</td>\n",
       "      <td>0.745308</td>\n",
       "      <td>0.798319</td>\n",
       "      <td>0.592579</td>\n",
       "      <td>0.702879</td>\n",
       "      <td>0.621405</td>\n",
       "      <td>0.623889</td>\n",
       "      <td>0.731465</td>\n",
       "      <td>0.633103</td>\n",
       "    </tr>\n",
       "  </tbody>\n",
       "</table>\n",
       "</div>"
      ],
      "text/plain": [
       "      tony_model  steve_model  thor_model  peter_model  natasha_model  \\\n",
       "fold                                                                    \n",
       "0       0.572226     0.593770    0.603265     0.732047       0.554105   \n",
       "1       0.591824     0.594030    0.648325     0.669250       0.592579   \n",
       "2       0.619360     0.620641    0.691703     0.761836       0.536755   \n",
       "3       0.594321     0.614893    0.690831     0.714841       0.517587   \n",
       "4       0.595765     0.611599    0.745308     0.703935       0.528419   \n",
       "5       0.573135     0.609532    0.705114     0.755400       0.473428   \n",
       "6       0.606459     0.631749    0.667576     0.701556       0.538403   \n",
       "7       0.592108     0.598360    0.647860     0.699176       0.525923   \n",
       "8       0.575928     0.617605    0.680212     0.798319       0.566772   \n",
       "9       0.613026     0.613327    0.704004     0.746753       0.554620   \n",
       "mean    0.593415     0.610551    0.678420     0.728311       0.538859   \n",
       "std     0.015507     0.011545    0.037122     0.035974       0.030266   \n",
       "max     0.619360     0.631749    0.745308     0.798319       0.592579   \n",
       "\n",
       "      pepper_model  bruce_model  fury_model  loki_model  james_model  \n",
       "fold                                                                  \n",
       "0         0.603078     0.585902    0.586789    0.681593     0.557258  \n",
       "1         0.702879     0.604168    0.591667    0.629064     0.539630  \n",
       "2         0.617736     0.621405    0.599864    0.698956     0.568457  \n",
       "3         0.577879     0.575191    0.589533    0.603781     0.532083  \n",
       "4         0.621031     0.573452    0.623889    0.716314     0.559017  \n",
       "5         0.633219     0.578561    0.594419    0.620550     0.528852  \n",
       "6         0.617736     0.607324    0.516595    0.731465     0.633103  \n",
       "7         0.606821     0.578561    0.596862    0.675713     0.614247  \n",
       "8         0.605611     0.511140    0.606634    0.708444     0.604554  \n",
       "9         0.601335     0.576760    0.572023    0.661054     0.622518  \n",
       "mean      0.618732     0.581246    0.587827    0.672693     0.575972  \n",
       "std       0.031351     0.028083    0.026957    0.041134     0.037247  \n",
       "max       0.702879     0.621405    0.623889    0.731465     0.633103  "
      ]
     },
     "execution_count": 12,
     "metadata": {},
     "output_type": "execute_result"
    }
   ],
   "source": [
    "models = {\"tony_model\": tony_model, \"steve_model\": steve_model, \"thor_model\": thor_model, \"peter_model\": peter_model,\n",
    "         \"natasha_model\": natasha_model, \"pepper_model\": pepper_model, \"bruce_model\": bruce_model, \n",
    "          \"fury_model\": fury_model, \"loki_model\": loki_model, \"james_model\": james_model}\n",
    "\n",
    "cv_score_table = pd.DataFrame()\n",
    "\n",
    "for name, model in models.items():\n",
    "    print(\"Scoring model:\", name)\n",
    "    \n",
    "    results = cross_val_score(model, X, binarize_labels(y, model.label), cv=cross_validator, scoring=score_method, n_jobs=-1, verbose=6)\n",
    "    cv_score_table.insert(len(cv_score_table.columns), name, results, True)\n",
    "\n",
    "cv_score_table.index.name = \"fold\"\n",
    "cv_score_table.loc[\"mean\"] = cv_score_table.mean()\n",
    "cv_score_table.loc[\"std\"] = cv_score_table.std()\n",
    "cv_score_table.loc[\"max\"] = cv_score_table.max()\n",
    "\n",
    "cv_score_table"
   ]
  },
  {
   "cell_type": "markdown",
   "metadata": {},
   "source": [
    "Peter Parker performs the best, which is more evidence that he is the most unique character.  See the MCU Insights notebook for more on this topic."
   ]
  },
  {
   "cell_type": "markdown",
   "metadata": {},
   "source": [
    "### Confusion Matricies"
   ]
  },
  {
   "cell_type": "markdown",
   "metadata": {},
   "source": [
    "#### Tony Stark"
   ]
  },
  {
   "cell_type": "code",
   "execution_count": 13,
   "metadata": {},
   "outputs": [
    {
     "name": "stderr",
     "output_type": "stream",
     "text": [
      "[Parallel(n_jobs=-1)]: Using backend LokyBackend with 12 concurrent workers.\n",
      "[Parallel(n_jobs=-1)]: Done   3 out of  10 | elapsed:  3.1min remaining:  7.2min\n",
      "[Parallel(n_jobs=-1)]: Done   5 out of  10 | elapsed:  3.1min remaining:  3.1min\n",
      "[Parallel(n_jobs=-1)]: Done   7 out of  10 | elapsed:  3.1min remaining:  1.3min\n",
      "[Parallel(n_jobs=-1)]: Done  10 out of  10 | elapsed:  3.1min finished\n"
     ]
    },
    {
     "name": "stdout",
     "output_type": "stream",
     "text": [
      "Balanced Accuracy: 0.5934149004377129\n"
     ]
    },
    {
     "data": {
      "image/png": "[encoded data removed]",
      "text/plain": [
       "<Figure size 432x288 with 2 Axes>"
      ]
     },
     "metadata": {
      "needs_background": "light"
     },
     "output_type": "display_data"
    }
   ],
   "source": [
    "tony_model.plot_confusion_matrix()"
   ]
  },
  {
   "cell_type": "markdown",
   "metadata": {},
   "source": [
    "#### Steve Rogers"
   ]
  },
  {
   "cell_type": "code",
   "execution_count": 14,
   "metadata": {},
   "outputs": [
    {
     "name": "stderr",
     "output_type": "stream",
     "text": [
      "[Parallel(n_jobs=-1)]: Using backend LokyBackend with 12 concurrent workers.\n",
      "[Parallel(n_jobs=-1)]: Done   3 out of  10 | elapsed:  1.9min remaining:  4.3min\n",
      "[Parallel(n_jobs=-1)]: Done   5 out of  10 | elapsed:  1.9min remaining:  1.9min\n",
      "[Parallel(n_jobs=-1)]: Done   7 out of  10 | elapsed:  1.9min remaining:   47.6s\n",
      "[Parallel(n_jobs=-1)]: Done  10 out of  10 | elapsed:  1.9min finished\n"
     ]
    },
    {
     "name": "stdout",
     "output_type": "stream",
     "text": [
      "Balanced Accuracy: 0.6105691201317949\n"
     ]
    },
    {
     "data": {
      "image/png": "[encoded data removed]",
      "text/plain": [
       "<Figure size 432x288 with 2 Axes>"
      ]
     },
     "metadata": {
      "needs_background": "light"
     },
     "output_type": "display_data"
    }
   ],
   "source": [
    "steve_model.plot_confusion_matrix()"
   ]
  },
  {
   "cell_type": "markdown",
   "metadata": {},
   "source": [
    "#### Thor"
   ]
  },
  {
   "cell_type": "code",
   "execution_count": 15,
   "metadata": {},
   "outputs": [
    {
     "name": "stderr",
     "output_type": "stream",
     "text": [
      "[Parallel(n_jobs=-1)]: Using backend LokyBackend with 12 concurrent workers.\n",
      "[Parallel(n_jobs=-1)]: Done   3 out of  10 | elapsed:  1.5min remaining:  3.4min\n",
      "[Parallel(n_jobs=-1)]: Done   5 out of  10 | elapsed:  1.5min remaining:  1.5min\n",
      "[Parallel(n_jobs=-1)]: Done   7 out of  10 | elapsed:  1.5min remaining:   37.8s\n",
      "[Parallel(n_jobs=-1)]: Done  10 out of  10 | elapsed:  1.5min finished\n"
     ]
    },
    {
     "name": "stdout",
     "output_type": "stream",
     "text": [
      "Balanced Accuracy: 0.6783173641117964\n"
     ]
    },
    {
     "data": {
      "image/png": "[encoded data removed]",
      "text/plain": [
       "<Figure size 432x288 with 2 Axes>"
      ]
     },
     "metadata": {
      "needs_background": "light"
     },
     "output_type": "display_data"
    }
   ],
   "source": [
    "thor_model.plot_confusion_matrix()"
   ]
  },
  {
   "cell_type": "markdown",
   "metadata": {},
   "source": [
    "#### Peter Parker"
   ]
  },
  {
   "cell_type": "code",
   "execution_count": 16,
   "metadata": {},
   "outputs": [
    {
     "name": "stderr",
     "output_type": "stream",
     "text": [
      "[Parallel(n_jobs=-1)]: Using backend LokyBackend with 12 concurrent workers.\n",
      "[Parallel(n_jobs=-1)]: Done   3 out of  10 | elapsed:  1.5min remaining:  3.5min\n",
      "[Parallel(n_jobs=-1)]: Done   5 out of  10 | elapsed:  1.5min remaining:  1.5min\n",
      "[Parallel(n_jobs=-1)]: Done   7 out of  10 | elapsed:  1.5min remaining:   38.3s\n",
      "[Parallel(n_jobs=-1)]: Done  10 out of  10 | elapsed:  1.5min finished\n"
     ]
    },
    {
     "name": "stdout",
     "output_type": "stream",
     "text": [
      "Balanced Accuracy: 0.7284319029333587\n"
     ]
    },
    {
     "data": {
      "image/png": "[encoded data removed]",
      "text/plain": [
       "<Figure size 432x288 with 2 Axes>"
      ]
     },
     "metadata": {
      "needs_background": "light"
     },
     "output_type": "display_data"
    }
   ],
   "source": [
    "peter_model.plot_confusion_matrix()"
   ]
  },
  {
   "cell_type": "markdown",
   "metadata": {},
   "source": [
    "#### Natasha Romanoff"
   ]
  },
  {
   "cell_type": "code",
   "execution_count": 17,
   "metadata": {},
   "outputs": [
    {
     "name": "stderr",
     "output_type": "stream",
     "text": [
      "[Parallel(n_jobs=-1)]: Using backend LokyBackend with 12 concurrent workers.\n",
      "[Parallel(n_jobs=-1)]: Done   3 out of  10 | elapsed:  1.5min remaining:  3.4min\n",
      "[Parallel(n_jobs=-1)]: Done   5 out of  10 | elapsed:  1.5min remaining:  1.5min\n",
      "[Parallel(n_jobs=-1)]: Done   7 out of  10 | elapsed:  1.5min remaining:   37.9s\n",
      "[Parallel(n_jobs=-1)]: Done  10 out of  10 | elapsed:  1.5min finished\n"
     ]
    },
    {
     "name": "stdout",
     "output_type": "stream",
     "text": [
      "Balanced Accuracy: 0.5387951740417\n"
     ]
    },
    {
     "data": {
      "image/png": "[encoded data removed]",
      "text/plain": [
       "<Figure size 432x288 with 2 Axes>"
      ]
     },
     "metadata": {
      "needs_background": "light"
     },
     "output_type": "display_data"
    }
   ],
   "source": [
    "natasha_model.plot_confusion_matrix()"
   ]
  },
  {
   "cell_type": "markdown",
   "metadata": {},
   "source": [
    "#### Pepper Potts"
   ]
  },
  {
   "cell_type": "code",
   "execution_count": 18,
   "metadata": {},
   "outputs": [
    {
     "name": "stderr",
     "output_type": "stream",
     "text": [
      "[Parallel(n_jobs=-1)]: Using backend LokyBackend with 12 concurrent workers.\n",
      "[Parallel(n_jobs=-1)]: Done   3 out of  10 | elapsed:  1.5min remaining:  3.5min\n",
      "[Parallel(n_jobs=-1)]: Done   5 out of  10 | elapsed:  1.5min remaining:  1.5min\n",
      "[Parallel(n_jobs=-1)]: Done   7 out of  10 | elapsed:  1.5min remaining:   38.0s\n",
      "[Parallel(n_jobs=-1)]: Done  10 out of  10 | elapsed:  1.5min finished\n"
     ]
    },
    {
     "name": "stdout",
     "output_type": "stream",
     "text": [
      "Balanced Accuracy: 0.6187215982613457\n"
     ]
    },
    {
     "data": {
      "image/png": "[encoded data removed]",
      "text/plain": [
       "<Figure size 432x288 with 2 Axes>"
      ]
     },
     "metadata": {
      "needs_background": "light"
     },
     "output_type": "display_data"
    }
   ],
   "source": [
    "pepper_model.plot_confusion_matrix()"
   ]
  },
  {
   "cell_type": "markdown",
   "metadata": {},
   "source": [
    "#### Bruce Banner"
   ]
  },
  {
   "cell_type": "code",
   "execution_count": 19,
   "metadata": {},
   "outputs": [
    {
     "name": "stderr",
     "output_type": "stream",
     "text": [
      "[Parallel(n_jobs=-1)]: Using backend LokyBackend with 12 concurrent workers.\n",
      "[Parallel(n_jobs=-1)]: Done   3 out of  10 | elapsed:  1.5min remaining:  3.4min\n",
      "[Parallel(n_jobs=-1)]: Done   5 out of  10 | elapsed:  1.5min remaining:  1.5min\n",
      "[Parallel(n_jobs=-1)]: Done   7 out of  10 | elapsed:  1.5min remaining:   37.8s\n",
      "[Parallel(n_jobs=-1)]: Done  10 out of  10 | elapsed:  1.5min finished\n"
     ]
    },
    {
     "name": "stdout",
     "output_type": "stream",
     "text": [
      "Balanced Accuracy: 0.5812735928239077\n"
     ]
    },
    {
     "data": {
      "image/png": "[encoded data removed]",
      "text/plain": [
       "<Figure size 432x288 with 2 Axes>"
      ]
     },
     "metadata": {
      "needs_background": "light"
     },
     "output_type": "display_data"
    }
   ],
   "source": [
    "bruce_model.plot_confusion_matrix()"
   ]
  },
  {
   "cell_type": "markdown",
   "metadata": {},
   "source": [
    "#### Nick Fury"
   ]
  },
  {
   "cell_type": "code",
   "execution_count": 20,
   "metadata": {},
   "outputs": [
    {
     "name": "stderr",
     "output_type": "stream",
     "text": [
      "[Parallel(n_jobs=-1)]: Using backend LokyBackend with 12 concurrent workers.\n",
      "[Parallel(n_jobs=-1)]: Done   3 out of  10 | elapsed:  1.5min remaining:  3.5min\n",
      "[Parallel(n_jobs=-1)]: Done   5 out of  10 | elapsed:  1.5min remaining:  1.5min\n",
      "[Parallel(n_jobs=-1)]: Done   7 out of  10 | elapsed:  1.5min remaining:   38.2s\n",
      "[Parallel(n_jobs=-1)]: Done  10 out of  10 | elapsed:  1.5min finished\n"
     ]
    },
    {
     "name": "stdout",
     "output_type": "stream",
     "text": [
      "Balanced Accuracy: 0.5878351030850344\n"
     ]
    },
    {
     "data": {
      "image/png": "[encoded data removed]",
      "text/plain": [
       "<Figure size 432x288 with 2 Axes>"
      ]
     },
     "metadata": {
      "needs_background": "light"
     },
     "output_type": "display_data"
    }
   ],
   "source": [
    "fury_model.plot_confusion_matrix()"
   ]
  },
  {
   "cell_type": "markdown",
   "metadata": {},
   "source": [
    "#### Loki"
   ]
  },
  {
   "cell_type": "code",
   "execution_count": 21,
   "metadata": {},
   "outputs": [
    {
     "name": "stderr",
     "output_type": "stream",
     "text": [
      "[Parallel(n_jobs=-1)]: Using backend LokyBackend with 12 concurrent workers.\n",
      "[Parallel(n_jobs=-1)]: Done   3 out of  10 | elapsed:  1.5min remaining:  3.4min\n",
      "[Parallel(n_jobs=-1)]: Done   5 out of  10 | elapsed:  1.5min remaining:  1.5min\n",
      "[Parallel(n_jobs=-1)]: Done   7 out of  10 | elapsed:  1.5min remaining:   37.8s\n",
      "[Parallel(n_jobs=-1)]: Done  10 out of  10 | elapsed:  1.5min finished\n"
     ]
    },
    {
     "name": "stdout",
     "output_type": "stream",
     "text": [
      "Balanced Accuracy: 0.6728261590075557\n"
     ]
    },
    {
     "data": {
      "image/png": "[encoded data removed]",
      "text/plain": [
       "<Figure size 432x288 with 2 Axes>"
      ]
     },
     "metadata": {
      "needs_background": "light"
     },
     "output_type": "display_data"
    }
   ],
   "source": [
    "loki_model.plot_confusion_matrix()"
   ]
  },
  {
   "cell_type": "markdown",
   "metadata": {},
   "source": [
    "#### James Rhodes"
   ]
  },
  {
   "cell_type": "code",
   "execution_count": 22,
   "metadata": {},
   "outputs": [
    {
     "name": "stderr",
     "output_type": "stream",
     "text": [
      "[Parallel(n_jobs=-1)]: Using backend LokyBackend with 12 concurrent workers.\n",
      "[Parallel(n_jobs=-1)]: Done   3 out of  10 | elapsed:  1.5min remaining:  3.4min\n",
      "[Parallel(n_jobs=-1)]: Done   5 out of  10 | elapsed:  1.5min remaining:  1.5min\n",
      "[Parallel(n_jobs=-1)]: Done   7 out of  10 | elapsed:  1.5min remaining:   37.7s\n",
      "[Parallel(n_jobs=-1)]: Done  10 out of  10 | elapsed:  1.5min finished\n"
     ]
    },
    {
     "name": "stdout",
     "output_type": "stream",
     "text": [
      "Balanced Accuracy: 0.5759230024513166\n"
     ]
    },
    {
     "data": {
      "image/png": "[encoded data removed]",
      "text/plain": [
       "<Figure size 432x288 with 2 Axes>"
      ]
     },
     "metadata": {
      "needs_background": "light"
     },
     "output_type": "display_data"
    }
   ],
   "source": [
    "james_model.plot_confusion_matrix()"
   ]
  },
  {
   "cell_type": "markdown",
   "metadata": {},
   "source": [
    "### Recalls"
   ]
  },
  {
   "cell_type": "code",
   "execution_count": 23,
   "metadata": {},
   "outputs": [
    {
     "data": {
      "text/html": [
       "<div>\n",
       "<style scoped>\n",
       "    .dataframe tbody tr th:only-of-type {\n",
       "        vertical-align: middle;\n",
       "    }\n",
       "\n",
       "    .dataframe tbody tr th {\n",
       "        vertical-align: top;\n",
       "    }\n",
       "\n",
       "    .dataframe thead th {\n",
       "        text-align: right;\n",
       "    }\n",
       "</style>\n",
       "<table border=\"1\" class=\"dataframe\">\n",
       "  <thead>\n",
       "    <tr style=\"text-align: right;\">\n",
       "      <th></th>\n",
       "      <th>recall</th>\n",
       "    </tr>\n",
       "  </thead>\n",
       "  <tbody>\n",
       "    <tr>\n",
       "      <th>NOT NICK FURY</th>\n",
       "      <td>0.924304</td>\n",
       "    </tr>\n",
       "    <tr>\n",
       "      <th>NOT LOKI</th>\n",
       "      <td>0.920576</td>\n",
       "    </tr>\n",
       "    <tr>\n",
       "      <th>NOT JAMES RHODES</th>\n",
       "      <td>0.909708</td>\n",
       "    </tr>\n",
       "    <tr>\n",
       "      <th>NOT BRUCE BANNER</th>\n",
       "      <td>0.898695</td>\n",
       "    </tr>\n",
       "    <tr>\n",
       "      <th>NOT NATASHA ROMANOFF</th>\n",
       "      <td>0.894859</td>\n",
       "    </tr>\n",
       "    <tr>\n",
       "      <th>NOT PEPPER POTTS</th>\n",
       "      <td>0.886764</td>\n",
       "    </tr>\n",
       "    <tr>\n",
       "      <th>NOT PETER PARKER</th>\n",
       "      <td>0.874287</td>\n",
       "    </tr>\n",
       "    <tr>\n",
       "      <th>NOT THOR</th>\n",
       "      <td>0.861849</td>\n",
       "    </tr>\n",
       "    <tr>\n",
       "      <th>NOT STEVE ROGERS</th>\n",
       "      <td>0.837310</td>\n",
       "    </tr>\n",
       "    <tr>\n",
       "      <th>NOT TONY STARK</th>\n",
       "      <td>0.740521</td>\n",
       "    </tr>\n",
       "    <tr>\n",
       "      <th>PETER PARKER</th>\n",
       "      <td>0.582577</td>\n",
       "    </tr>\n",
       "    <tr>\n",
       "      <th>THOR</th>\n",
       "      <td>0.494786</td>\n",
       "    </tr>\n",
       "    <tr>\n",
       "      <th>TONY STARK</th>\n",
       "      <td>0.446309</td>\n",
       "    </tr>\n",
       "    <tr>\n",
       "      <th>LOKI</th>\n",
       "      <td>0.425076</td>\n",
       "    </tr>\n",
       "    <tr>\n",
       "      <th>STEVE ROGERS</th>\n",
       "      <td>0.383828</td>\n",
       "    </tr>\n",
       "    <tr>\n",
       "      <th>PEPPER POTTS</th>\n",
       "      <td>0.350679</td>\n",
       "    </tr>\n",
       "    <tr>\n",
       "      <th>BRUCE BANNER</th>\n",
       "      <td>0.263852</td>\n",
       "    </tr>\n",
       "    <tr>\n",
       "      <th>NICK FURY</th>\n",
       "      <td>0.251366</td>\n",
       "    </tr>\n",
       "    <tr>\n",
       "      <th>JAMES RHODES</th>\n",
       "      <td>0.242138</td>\n",
       "    </tr>\n",
       "    <tr>\n",
       "      <th>NATASHA ROMANOFF</th>\n",
       "      <td>0.182731</td>\n",
       "    </tr>\n",
       "    <tr>\n",
       "      <th>mean</th>\n",
       "      <td>0.618611</td>\n",
       "    </tr>\n",
       "  </tbody>\n",
       "</table>\n",
       "</div>"
      ],
      "text/plain": [
       "                        recall\n",
       "NOT NICK FURY         0.924304\n",
       "NOT LOKI              0.920576\n",
       "NOT JAMES RHODES      0.909708\n",
       "NOT BRUCE BANNER      0.898695\n",
       "NOT NATASHA ROMANOFF  0.894859\n",
       "NOT PEPPER POTTS      0.886764\n",
       "NOT PETER PARKER      0.874287\n",
       "NOT THOR              0.861849\n",
       "NOT STEVE ROGERS      0.837310\n",
       "NOT TONY STARK        0.740521\n",
       "PETER PARKER          0.582577\n",
       "THOR                  0.494786\n",
       "TONY STARK            0.446309\n",
       "LOKI                  0.425076\n",
       "STEVE ROGERS          0.383828\n",
       "PEPPER POTTS          0.350679\n",
       "BRUCE BANNER          0.263852\n",
       "NICK FURY             0.251366\n",
       "JAMES RHODES          0.242138\n",
       "NATASHA ROMANOFF      0.182731\n",
       "mean                  0.618611"
      ]
     },
     "execution_count": 23,
     "metadata": {},
     "output_type": "execute_result"
    }
   ],
   "source": [
    "recalls = pd.DataFrame(columns=[\"recall\"])\n",
    "\n",
    "for name, model in models.items():\n",
    "    new_rows = model.recalls\n",
    "    new_rows.index = model.classes_\n",
    "    new_rows.columns = ['recall']\n",
    "    recalls = recalls.append(new_rows)\n",
    "\n",
    "recalls.sort_values(by=\"recall\", ascending=False, inplace=True)\n",
    "recalls.loc['mean'] = recalls.mean()\n",
    "\n",
    "recalls"
   ]
  },
  {
   "cell_type": "markdown",
   "metadata": {},
   "source": [
    "## Conclusion\n",
    "\n",
    "Model 14 did perform better than the production model, but only by less than a percent.  As cross validation only gives an estimate of our models performance, the models are likely equal in performance.  The  current production model will be used because it is faster / simpler.  The equal performance is likely because no additional information is available in prediction.  In fact, this model might have a disadvantage because the underlying models don't have the ability to share information about the distinctions between classes.\n",
    "\n",
    "As for the individual character models, they're interesting to look at.  The recalls of the characters match the rankings we see in the production model, which is expected. What is interesting is the rankings of the `NOT CHARACTER` classes.  It provides a little more information about a character's uniqueness compared to the others.  These recalls are higher than the `CHARACTER` recalls because they are trained / predicted with more examples."
   ]
  }
 ],
 "metadata": {
  "kernelspec": {
   "display_name": "Python 3",
   "language": "python",
   "name": "python3"
  },
  "language_info": {
   "codemirror_mode": {
    "name": "ipython",
    "version": 3
   },
   "file_extension": ".py",
   "mimetype": "text/x-python",
   "name": "python",
   "nbconvert_exporter": "python",
   "pygments_lexer": "ipython3",
   "version": "3.8.3"
  }
 },
 "nbformat": 4,
 "nbformat_minor": 4
}
