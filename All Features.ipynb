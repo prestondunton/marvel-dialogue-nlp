{
 "cells": [
  {
   "cell_type": "markdown",
   "metadata": {},
   "source": [
    "## Introduction"
   ]
  },
  {
   "cell_type": "markdown",
   "metadata": {},
   "source": [
    "In this notebook, a model is trained to make use of the author and movie information provided with each line of dialogue.  Hopefully, by using these features, we can increase the accuracy of our model."
   ]
  },
  {
   "cell_type": "markdown",
   "metadata": {},
   "source": [
    "## Imports, Classes, and Constants"
   ]
  },
  {
   "cell_type": "code",
   "execution_count": 1,
   "metadata": {},
   "outputs": [],
   "source": [
    "import pandas as pd\n",
    "import numpy as np\n",
    "import matplotlib.pyplot as plt\n",
    "import seaborn as sns\n",
    "from joblib import dump, load\n",
    "\n",
    "from sklearn.pipeline import Pipeline\n",
    "\n",
    "from sklearn.model_selection import GridSearchCV\n",
    "from sklearn.model_selection import StratifiedKFold\n",
    "from sklearn.model_selection import cross_val_score\n",
    "from sklearn.model_selection import cross_val_predict\n",
    "from sklearn.model_selection import learning_curve\n",
    "\n",
    "from sklearn.feature_extraction.text import CountVectorizer\n",
    "from sklearn.feature_extraction.text import TfidfTransformer\n",
    "\n",
    "from sklearn.naive_bayes import MultinomialNB\n",
    "\n",
    "from sklearn import metrics\n",
    "\n",
    "import nltk\n",
    "from nltk.corpus import stopwords\n",
    "from nltk.stem import SnowballStemmer\n",
    "\n",
    "from scipy import stats\n",
    "import statsmodels.api as sm\n",
    "import statsmodels.formula.api as smf\n",
    "\n",
    "pd.set_option('display.max_rows', None)\n",
    "pd.set_option('display.max_colwidth', None)\n",
    "\n",
    "RANDOM_SEED = 42\n",
    "\n",
    "class StemCountVectorizer(CountVectorizer):\n",
    "    def build_analyzer(self):\n",
    "        analyzer = super(StemCountVectorizer, self).build_analyzer()\n",
    "        \n",
    "        return lambda document: ([SnowballStemmer('english', ignore_stopwords=True).stem(word) for word in analyzer(document)])"
   ]
  },
  {
   "cell_type": "markdown",
   "metadata": {},
   "source": [
    "## Data Preprocessing"
   ]
  },
  {
   "cell_type": "markdown",
   "metadata": {},
   "source": [
    "To make use of the `movie` and `author` features available in the dataset, we can convert them to distinct words and just append them to the end of the `line` feature."
   ]
  },
  {
   "cell_type": "code",
   "execution_count": 2,
   "metadata": {},
   "outputs": [
    {
     "data": {
      "text/html": [
       "<div>\n",
       "<style scoped>\n",
       "    .dataframe tbody tr th:only-of-type {\n",
       "        vertical-align: middle;\n",
       "    }\n",
       "\n",
       "    .dataframe tbody tr th {\n",
       "        vertical-align: top;\n",
       "    }\n",
       "\n",
       "    .dataframe thead th {\n",
       "        text-align: right;\n",
       "    }\n",
       "</style>\n",
       "<table border=\"1\" class=\"dataframe\">\n",
       "  <thead>\n",
       "    <tr style=\"text-align: right;\">\n",
       "      <th></th>\n",
       "      <th>Unnamed: 0</th>\n",
       "      <th>character</th>\n",
       "      <th>line</th>\n",
       "      <th>movie</th>\n",
       "      <th>year</th>\n",
       "      <th>words</th>\n",
       "      <th>Adam McKay</th>\n",
       "      <th>Anna Boden</th>\n",
       "      <th>Art Marcum</th>\n",
       "      <th>Ashley Edward Miller</th>\n",
       "      <th>...</th>\n",
       "      <th>Joss Whedon</th>\n",
       "      <th>Justin Theroux</th>\n",
       "      <th>Mark Fergus</th>\n",
       "      <th>Matt Holloway</th>\n",
       "      <th>Paul Rudd</th>\n",
       "      <th>Ryan Coogler</th>\n",
       "      <th>Ryan Fleck</th>\n",
       "      <th>Shane Black</th>\n",
       "      <th>Stephen McFeely</th>\n",
       "      <th>Zack Stentz</th>\n",
       "    </tr>\n",
       "  </thead>\n",
       "  <tbody>\n",
       "    <tr>\n",
       "      <th>1263</th>\n",
       "      <td>2218</td>\n",
       "      <td>THOR</td>\n",
       "      <td>Stay here. Once I have Mjolnir, I will return what they stole from you. Deal? THOR  ASHLEYEDWARDMILLER  DONPAYNE  ZACKSTENTZ</td>\n",
       "      <td>Thor</td>\n",
       "      <td>2011</td>\n",
       "      <td>15</td>\n",
       "      <td>False</td>\n",
       "      <td>False</td>\n",
       "      <td>False</td>\n",
       "      <td>True</td>\n",
       "      <td>...</td>\n",
       "      <td>False</td>\n",
       "      <td>False</td>\n",
       "      <td>False</td>\n",
       "      <td>False</td>\n",
       "      <td>False</td>\n",
       "      <td>False</td>\n",
       "      <td>False</td>\n",
       "      <td>False</td>\n",
       "      <td>False</td>\n",
       "      <td>True</td>\n",
       "    </tr>\n",
       "    <tr>\n",
       "      <th>3951</th>\n",
       "      <td>7527</td>\n",
       "      <td>THOR</td>\n",
       "      <td>They'll try to leave the city. AVENGERSAGEOFULTRON  JOSSWHEDON</td>\n",
       "      <td>Avengers: Age of Ultron</td>\n",
       "      <td>2015</td>\n",
       "      <td>6</td>\n",
       "      <td>False</td>\n",
       "      <td>False</td>\n",
       "      <td>False</td>\n",
       "      <td>False</td>\n",
       "      <td>...</td>\n",
       "      <td>True</td>\n",
       "      <td>False</td>\n",
       "      <td>False</td>\n",
       "      <td>False</td>\n",
       "      <td>False</td>\n",
       "      <td>False</td>\n",
       "      <td>False</td>\n",
       "      <td>False</td>\n",
       "      <td>False</td>\n",
       "      <td>False</td>\n",
       "    </tr>\n",
       "    <tr>\n",
       "      <th>4198</th>\n",
       "      <td>8890</td>\n",
       "      <td>TONY STARK</td>\n",
       "      <td>Oh, yeah. It'd be great if we had a Hulk right about now. Any shot? CAPTAINAMERICACIVILWAR  CHRISTOPHERMARKUS  STEPHENMCFEELY</td>\n",
       "      <td>Captain America: Civil War</td>\n",
       "      <td>2016</td>\n",
       "      <td>15</td>\n",
       "      <td>False</td>\n",
       "      <td>False</td>\n",
       "      <td>False</td>\n",
       "      <td>False</td>\n",
       "      <td>...</td>\n",
       "      <td>False</td>\n",
       "      <td>False</td>\n",
       "      <td>False</td>\n",
       "      <td>False</td>\n",
       "      <td>False</td>\n",
       "      <td>False</td>\n",
       "      <td>False</td>\n",
       "      <td>False</td>\n",
       "      <td>True</td>\n",
       "      <td>False</td>\n",
       "    </tr>\n",
       "    <tr>\n",
       "      <th>6078</th>\n",
       "      <td>14843</td>\n",
       "      <td>BRUCE BANNER</td>\n",
       "      <td>It was worse for me.  Because I lost twice.  First Hulk lost.  Then Banner lost.  Then we all lost. AVENGERSENDGAME  CHRISTOPHERMARKUS  STEPHENMCFEELY</td>\n",
       "      <td>Avengers: Endgame</td>\n",
       "      <td>2019</td>\n",
       "      <td>23</td>\n",
       "      <td>False</td>\n",
       "      <td>False</td>\n",
       "      <td>False</td>\n",
       "      <td>False</td>\n",
       "      <td>...</td>\n",
       "      <td>False</td>\n",
       "      <td>False</td>\n",
       "      <td>False</td>\n",
       "      <td>False</td>\n",
       "      <td>False</td>\n",
       "      <td>False</td>\n",
       "      <td>False</td>\n",
       "      <td>False</td>\n",
       "      <td>True</td>\n",
       "      <td>False</td>\n",
       "    </tr>\n",
       "    <tr>\n",
       "      <th>96</th>\n",
       "      <td>141</td>\n",
       "      <td>TONY STARK</td>\n",
       "      <td>Okay, here’s what I need... S-Category missiles.  Lot 7043.  The S-30 explosive tritonal.  And a dozen of the S-76.  Mortars: M-Category #1, 4, 8, 20, and 60.  M- 229’s, I need eleven of these.  Mines: the pre-90s AP 5s and AP 16s.  IRONMAN  ARTMARCUM  HAWKOSTBY  MARKFERGUS  MATTHOLLOWAY</td>\n",
       "      <td>Iron Man</td>\n",
       "      <td>2008</td>\n",
       "      <td>49</td>\n",
       "      <td>False</td>\n",
       "      <td>False</td>\n",
       "      <td>True</td>\n",
       "      <td>False</td>\n",
       "      <td>...</td>\n",
       "      <td>False</td>\n",
       "      <td>False</td>\n",
       "      <td>True</td>\n",
       "      <td>True</td>\n",
       "      <td>False</td>\n",
       "      <td>False</td>\n",
       "      <td>False</td>\n",
       "      <td>False</td>\n",
       "      <td>False</td>\n",
       "      <td>False</td>\n",
       "    </tr>\n",
       "  </tbody>\n",
       "</table>\n",
       "<p>5 rows × 38 columns</p>\n",
       "</div>"
      ],
      "text/plain": [
       "      Unnamed: 0     character  \\\n",
       "1263        2218          THOR   \n",
       "3951        7527          THOR   \n",
       "4198        8890    TONY STARK   \n",
       "6078       14843  BRUCE BANNER   \n",
       "96           141    TONY STARK   \n",
       "\n",
       "                                                                                                                                                                                                                                                                                                   line  \\\n",
       "1263                                                                                                                                                                      Stay here. Once I have Mjolnir, I will return what they stole from you. Deal? THOR  ASHLEYEDWARDMILLER  DONPAYNE  ZACKSTENTZ    \n",
       "3951                                                                                                                                                                                                                                    They'll try to leave the city. AVENGERSAGEOFULTRON  JOSSWHEDON    \n",
       "4198                                                                                                                                                                     Oh, yeah. It'd be great if we had a Hulk right about now. Any shot? CAPTAINAMERICACIVILWAR  CHRISTOPHERMARKUS  STEPHENMCFEELY    \n",
       "6078                                                                                                                                            It was worse for me.  Because I lost twice.  First Hulk lost.  Then Banner lost.  Then we all lost. AVENGERSENDGAME  CHRISTOPHERMARKUS  STEPHENMCFEELY    \n",
       "96    Okay, here’s what I need... S-Category missiles.  Lot 7043.  The S-30 explosive tritonal.  And a dozen of the S-76.  Mortars: M-Category #1, 4, 8, 20, and 60.  M- 229’s, I need eleven of these.  Mines: the pre-90s AP 5s and AP 16s.  IRONMAN  ARTMARCUM  HAWKOSTBY  MARKFERGUS  MATTHOLLOWAY    \n",
       "\n",
       "                           movie  year  words  Adam McKay  Anna Boden  \\\n",
       "1263                        Thor  2011     15       False       False   \n",
       "3951     Avengers: Age of Ultron  2015      6       False       False   \n",
       "4198  Captain America: Civil War  2016     15       False       False   \n",
       "6078           Avengers: Endgame  2019     23       False       False   \n",
       "96                      Iron Man  2008     49       False       False   \n",
       "\n",
       "      Art Marcum  Ashley Edward Miller  ...  Joss Whedon  Justin Theroux  \\\n",
       "1263       False                  True  ...        False           False   \n",
       "3951       False                 False  ...         True           False   \n",
       "4198       False                 False  ...        False           False   \n",
       "6078       False                 False  ...        False           False   \n",
       "96          True                 False  ...        False           False   \n",
       "\n",
       "      Mark Fergus  Matt Holloway  Paul Rudd  Ryan Coogler  Ryan Fleck  \\\n",
       "1263        False          False      False         False       False   \n",
       "3951        False          False      False         False       False   \n",
       "4198        False          False      False         False       False   \n",
       "6078        False          False      False         False       False   \n",
       "96           True           True      False         False       False   \n",
       "\n",
       "      Shane Black  Stephen McFeely  Zack Stentz  \n",
       "1263        False            False         True  \n",
       "3951        False            False        False  \n",
       "4198        False             True        False  \n",
       "6078        False             True        False  \n",
       "96          False            False        False  \n",
       "\n",
       "[5 rows x 38 columns]"
      ]
     },
     "execution_count": 2,
     "metadata": {},
     "output_type": "execute_result"
    }
   ],
   "source": [
    "mcu_subset = pd.read_csv(\"./data/mcu_subset.csv\")\n",
    "\n",
    "np.random.seed(RANDOM_SEED)\n",
    "mcu_subset = mcu_subset.reindex(np.random.permutation(mcu_subset.index))\n",
    "\n",
    "mcu_subset['line'] = mcu_subset['line'] + ' ' + mcu_subset['movie'].apply(lambda s: s.upper().replace(\" \",\"\").replace(\":\", \"\").replace(\"-\",\"\").replace(\".\",\"\"))\n",
    "mcu_subset['line'] = mcu_subset['line'] + ' ' + mcu_subset.apply(lambda row: row[row == True].index, axis=1).apply(lambda index: index.to_numpy()).astype(str).apply(lambda s: s.upper().replace(\" \", \"\").replace(\"-\", \"\").replace(\"[\", \"\").replace(\"]\",\"\").replace(\"'\", \" \").replace(\"\\n\", \"\").replace(\"WORDS\", \"\"))\n",
    "\n",
    "mcu_subset.head()\n",
    "\n"
   ]
  },
  {
   "cell_type": "code",
   "execution_count": 3,
   "metadata": {},
   "outputs": [
    {
     "data": {
      "text/html": [
       "<div>\n",
       "<style scoped>\n",
       "    .dataframe tbody tr th:only-of-type {\n",
       "        vertical-align: middle;\n",
       "    }\n",
       "\n",
       "    .dataframe tbody tr th {\n",
       "        vertical-align: top;\n",
       "    }\n",
       "\n",
       "    .dataframe thead th {\n",
       "        text-align: right;\n",
       "    }\n",
       "</style>\n",
       "<table border=\"1\" class=\"dataframe\">\n",
       "  <thead>\n",
       "    <tr style=\"text-align: right;\">\n",
       "      <th></th>\n",
       "      <th>character</th>\n",
       "    </tr>\n",
       "  </thead>\n",
       "  <tbody>\n",
       "    <tr>\n",
       "      <th>TONY STARK</th>\n",
       "      <td>1788</td>\n",
       "    </tr>\n",
       "    <tr>\n",
       "      <th>STEVE ROGERS</th>\n",
       "      <td>977</td>\n",
       "    </tr>\n",
       "    <tr>\n",
       "      <th>THOR</th>\n",
       "      <td>863</td>\n",
       "    </tr>\n",
       "    <tr>\n",
       "      <th>PETER PARKER</th>\n",
       "      <td>551</td>\n",
       "    </tr>\n",
       "    <tr>\n",
       "      <th>NATASHA ROMANOFF</th>\n",
       "      <td>498</td>\n",
       "    </tr>\n",
       "    <tr>\n",
       "      <th>PEPPER POTTS</th>\n",
       "      <td>442</td>\n",
       "    </tr>\n",
       "    <tr>\n",
       "      <th>BRUCE BANNER</th>\n",
       "      <td>379</td>\n",
       "    </tr>\n",
       "    <tr>\n",
       "      <th>NICK FURY</th>\n",
       "      <td>366</td>\n",
       "    </tr>\n",
       "    <tr>\n",
       "      <th>LOKI</th>\n",
       "      <td>327</td>\n",
       "    </tr>\n",
       "    <tr>\n",
       "      <th>JAMES RHODES</th>\n",
       "      <td>318</td>\n",
       "    </tr>\n",
       "  </tbody>\n",
       "</table>\n",
       "</div>"
      ],
      "text/plain": [
       "                  character\n",
       "TONY STARK             1788\n",
       "STEVE ROGERS            977\n",
       "THOR                    863\n",
       "PETER PARKER            551\n",
       "NATASHA ROMANOFF        498\n",
       "PEPPER POTTS            442\n",
       "BRUCE BANNER            379\n",
       "NICK FURY               366\n",
       "LOKI                    327\n",
       "JAMES RHODES            318"
      ]
     },
     "execution_count": 3,
     "metadata": {},
     "output_type": "execute_result"
    }
   ],
   "source": [
    "pd.DataFrame(mcu_subset['character'].value_counts())"
   ]
  },
  {
   "cell_type": "code",
   "execution_count": 4,
   "metadata": {},
   "outputs": [
    {
     "data": {
      "text/plain": [
       "(array(['Stay here. Once I have Mjolnir, I will return what they stole from you. Deal? THOR  ASHLEYEDWARDMILLER  DONPAYNE  ZACKSTENTZ ',\n",
       "        \"They'll try to leave the city. AVENGERSAGEOFULTRON  JOSSWHEDON \",\n",
       "        \"Oh, yeah. It'd be great if we had a Hulk right about now. Any shot? CAPTAINAMERICACIVILWAR  CHRISTOPHERMARKUS  STEPHENMCFEELY \",\n",
       "        'It was worse for me.  Because I lost twice.  First Hulk lost.  Then Banner lost.  Then we all lost. AVENGERSENDGAME  CHRISTOPHERMARKUS  STEPHENMCFEELY ',\n",
       "        'Okay, here’s what I need... S-Category missiles.  Lot 7043.  The S-30 explosive tritonal.  And a dozen of the S-76.  Mortars: M-Category #1, 4, 8, 20, and 60.  M- 229’s, I need eleven of these.  Mines: the pre-90s AP 5s and AP 16s.  IRONMAN  ARTMARCUM  HAWKOSTBY  MARKFERGUS  MATTHOLLOWAY ',\n",
       "        'A little. CAPTAINAMERICATHEFIRSTAVENGER  CHRISTOPHERMARKUS  STEPHENMCFEELY ',\n",
       "        \"You really think I'd need one? My wife kicked me out. CAPTAINAMERICATHEWINTERSOLDIER  CHRISTOPHERMARKUS  STEPHENMCFEELY \",\n",
       "        'Is this is a test? CAPTAINAMERICATHEFIRSTAVENGER  CHRISTOPHERMARKUS  STEPHENMCFEELY ',\n",
       "        'What about Ultron himself? AVENGERSAGEOFULTRON  JOSSWHEDON ',\n",
       "        'Who put me there? Who put me there?! THORTHEDARKWORLD  CHRISTOPHERMARKUS  CHRISTOPHERYOST  STEPHENMCFEELY '],\n",
       "       dtype='<U1440'),\n",
       " array(['THOR', 'THOR', 'TONY STARK', 'BRUCE BANNER', 'TONY STARK',\n",
       "        'STEVE ROGERS', 'NICK FURY', 'STEVE ROGERS', 'STEVE ROGERS',\n",
       "        'LOKI'], dtype='<U16'))"
      ]
     },
     "execution_count": 4,
     "metadata": {},
     "output_type": "execute_result"
    }
   ],
   "source": [
    "y = mcu_subset[\"character\"].to_numpy().astype(str)\n",
    "X = mcu_subset[\"line\"].to_numpy().astype(str)\n",
    "\n",
    "X[0:10], y[0:10]"
   ]
  },
  {
   "cell_type": "markdown",
   "metadata": {},
   "source": [
    "## Models"
   ]
  },
  {
   "cell_type": "code",
   "execution_count": 5,
   "metadata": {},
   "outputs": [],
   "source": [
    "cross_validator = StratifiedKFold(n_splits=100, random_state=RANDOM_SEED, shuffle=True)\n",
    "hyperparameter_cross_validator = StratifiedKFold(n_splits=5, random_state=RANDOM_SEED, shuffle=True)\n",
    "score_method = \"balanced_accuracy\""
   ]
  },
  {
   "cell_type": "code",
   "execution_count": 6,
   "metadata": {},
   "outputs": [],
   "source": [
    "stem_count_vectorizer = StemCountVectorizer(binary=False)\n",
    "tfidf_transformer = TfidfTransformer()\n",
    "nb_classifier = MultinomialNB(alpha=0.01)"
   ]
  },
  {
   "cell_type": "code",
   "execution_count": 7,
   "metadata": {},
   "outputs": [],
   "source": [
    "count_params = {'vect__stop_words': [None, stopwords.words('english')],\n",
    "              'vect__ngram_range': [(1,1), (1,2)]}\n",
    "\n",
    "tfidf_params = {'tfidf__use_idf': [True, False]}\n",
    "\n",
    "nb_params = {'clf__fit_prior': [True, False]}"
   ]
  },
  {
   "cell_type": "code",
   "execution_count": 8,
   "metadata": {},
   "outputs": [],
   "source": [
    "pipe15 = Pipeline([('vect', stem_count_vectorizer),\n",
    "                  ('tfidf', tfidf_transformer),\n",
    "                  ('clf', nb_classifier)])\n",
    "\n",
    "parameters15 = {**count_params, **tfidf_params, **nb_params}\n",
    "\n",
    "model15 = GridSearchCV(pipe15, parameters15, cv=hyperparameter_cross_validator, scoring=score_method, n_jobs=-1, verbose=6)"
   ]
  },
  {
   "cell_type": "markdown",
   "metadata": {},
   "source": [
    "## Nested CV Balanced Accuracy"
   ]
  },
  {
   "cell_type": "code",
   "execution_count": 9,
   "metadata": {},
   "outputs": [
    {
     "name": "stderr",
     "output_type": "stream",
     "text": [
      "[Parallel(n_jobs=-1)]: Using backend LokyBackend with 12 concurrent workers.\n",
      "[Parallel(n_jobs=-1)]: Done   2 out of   5 | elapsed: 46.1min remaining: 69.1min\n",
      "[Parallel(n_jobs=-1)]: Done   3 out of   5 | elapsed: 46.2min remaining: 30.8min\n",
      "[Parallel(n_jobs=-1)]: Done   5 out of   5 | elapsed: 46.3min remaining:    0.0s\n",
      "[Parallel(n_jobs=-1)]: Done   5 out of   5 | elapsed: 46.3min finished\n"
     ]
    },
    {
     "data": {
      "text/html": [
       "<div>\n",
       "<style scoped>\n",
       "    .dataframe tbody tr th:only-of-type {\n",
       "        vertical-align: middle;\n",
       "    }\n",
       "\n",
       "    .dataframe tbody tr th {\n",
       "        vertical-align: top;\n",
       "    }\n",
       "\n",
       "    .dataframe thead th {\n",
       "        text-align: right;\n",
       "    }\n",
       "</style>\n",
       "<table border=\"1\" class=\"dataframe\">\n",
       "  <thead>\n",
       "    <tr style=\"text-align: right;\">\n",
       "      <th></th>\n",
       "      <th>model 13</th>\n",
       "    </tr>\n",
       "    <tr>\n",
       "      <th>fold</th>\n",
       "      <th></th>\n",
       "    </tr>\n",
       "  </thead>\n",
       "  <tbody>\n",
       "    <tr>\n",
       "      <th>0</th>\n",
       "      <td>0.451719</td>\n",
       "    </tr>\n",
       "    <tr>\n",
       "      <th>1</th>\n",
       "      <td>0.445008</td>\n",
       "    </tr>\n",
       "    <tr>\n",
       "      <th>2</th>\n",
       "      <td>0.458610</td>\n",
       "    </tr>\n",
       "    <tr>\n",
       "      <th>3</th>\n",
       "      <td>0.465199</td>\n",
       "    </tr>\n",
       "    <tr>\n",
       "      <th>4</th>\n",
       "      <td>0.458258</td>\n",
       "    </tr>\n",
       "    <tr>\n",
       "      <th>mean</th>\n",
       "      <td>0.455759</td>\n",
       "    </tr>\n",
       "    <tr>\n",
       "      <th>std</th>\n",
       "      <td>0.006861</td>\n",
       "    </tr>\n",
       "    <tr>\n",
       "      <th>max</th>\n",
       "      <td>0.465199</td>\n",
       "    </tr>\n",
       "  </tbody>\n",
       "</table>\n",
       "</div>"
      ],
      "text/plain": [
       "      model 13\n",
       "fold          \n",
       "0     0.451719\n",
       "1     0.445008\n",
       "2     0.458610\n",
       "3     0.465199\n",
       "4     0.458258\n",
       "mean  0.455759\n",
       "std   0.006861\n",
       "max   0.465199"
      ]
     },
     "execution_count": 9,
     "metadata": {},
     "output_type": "execute_result"
    }
   ],
   "source": [
    "models = {\"model 15\": model15}\n",
    "\n",
    "cv_score_table = pd.DataFrame()\n",
    "\n",
    "for name, model in models.items():\n",
    "    results = cross_val_score(model, X, y, cv=cross_validator, scoring=score_method, n_jobs=-1, verbose=6)\n",
    "    cv_score_table.insert(len(cv_score_table.columns), name, results, True)\n",
    "\n",
    "cv_score_table.index.name = \"fold\"\n",
    "cv_score_table.loc[\"mean\"] = cv_score_table.mean()\n",
    "cv_score_table.loc[\"std\"] = cv_score_table.std()\n",
    "cv_score_table.loc[\"max\"] = cv_score_table.max()\n",
    "\n",
    "cv_score_table"
   ]
  },
  {
   "cell_type": "markdown",
   "metadata": {},
   "source": [
    "## Confusion Matrix"
   ]
  },
  {
   "cell_type": "code",
   "execution_count": 10,
   "metadata": {},
   "outputs": [
    {
     "name": "stderr",
     "output_type": "stream",
     "text": [
      "[Parallel(n_jobs=-1)]: Using backend LokyBackend with 12 concurrent workers.\n",
      "[Parallel(n_jobs=-1)]: Done   2 out of   5 | elapsed: 47.2min remaining: 70.8min\n",
      "[Parallel(n_jobs=-1)]: Done   3 out of   5 | elapsed: 47.2min remaining: 31.5min\n",
      "[Parallel(n_jobs=-1)]: Done   5 out of   5 | elapsed: 47.3min remaining:    0.0s\n",
      "[Parallel(n_jobs=-1)]: Done   5 out of   5 | elapsed: 47.3min finished\n"
     ]
    },
    {
     "name": "stdout",
     "output_type": "stream",
     "text": [
      "Balanced Accuracy: 0.45575437070785146\n",
      "Balanced Accuracy: 0.45575437070785146\n"
     ]
    },
    {
     "data": {
      "image/png": "[encoded data removed]",
      "text/plain": [
       "<Figure size 432x288 with 2 Axes>"
      ]
     },
     "metadata": {
      "needs_background": "light"
     },
     "output_type": "display_data"
    }
   ],
   "source": [
    "yhat = cross_val_predict(model15, X, y, cv=cross_validator, n_jobs=-1, verbose=6)\n",
    "\n",
    "main_characters = mcu_subset['character'].value_counts().index.to_numpy()\n",
    "\n",
    "conf_matrix = pd.DataFrame(metrics.confusion_matrix(y, yhat, labels=main_characters))\n",
    "normalized_conf_matrix = conf_matrix.div(conf_matrix.sum(axis=1), axis=0)\n",
    "normalized_conf_matrix.columns = pd.Series(main_characters, name=\"Predicted Character\")\n",
    "normalized_conf_matrix.index = pd.Series(main_characters, name=\"True Character\")\n",
    "\n",
    "plt.title(\"Proportion of a True Character's Examples\")\n",
    "sns.heatmap(normalized_conf_matrix, annot=True, fmt='.2f', cmap=plt.cm.Reds)\n",
    "\n",
    "# Should be the same\n",
    "print(\"Balanced Accuracy:\", metrics.balanced_accuracy_score(y,yhat))\n",
    "print(\"Balanced Accuracy:\", np.mean(np.diagonal(normalized_conf_matrix)))"
   ]
  },
  {
   "cell_type": "markdown",
   "metadata": {},
   "source": [
    "## Recalls"
   ]
  },
  {
   "cell_type": "code",
   "execution_count": 11,
   "metadata": {},
   "outputs": [
    {
     "data": {
      "text/html": [
       "<div>\n",
       "<style scoped>\n",
       "    .dataframe tbody tr th:only-of-type {\n",
       "        vertical-align: middle;\n",
       "    }\n",
       "\n",
       "    .dataframe tbody tr th {\n",
       "        vertical-align: top;\n",
       "    }\n",
       "\n",
       "    .dataframe thead th {\n",
       "        text-align: right;\n",
       "    }\n",
       "</style>\n",
       "<table border=\"1\" class=\"dataframe\">\n",
       "  <thead>\n",
       "    <tr style=\"text-align: right;\">\n",
       "      <th></th>\n",
       "      <th>recall</th>\n",
       "    </tr>\n",
       "  </thead>\n",
       "  <tbody>\n",
       "    <tr>\n",
       "      <th>PETER PARKER</th>\n",
       "      <td>0.825771</td>\n",
       "    </tr>\n",
       "    <tr>\n",
       "      <th>STEVE ROGERS</th>\n",
       "      <td>0.610031</td>\n",
       "    </tr>\n",
       "    <tr>\n",
       "      <th>THOR</th>\n",
       "      <td>0.570104</td>\n",
       "    </tr>\n",
       "    <tr>\n",
       "      <th>PEPPER POTTS</th>\n",
       "      <td>0.518100</td>\n",
       "    </tr>\n",
       "    <tr>\n",
       "      <th>NICK FURY</th>\n",
       "      <td>0.478142</td>\n",
       "    </tr>\n",
       "    <tr>\n",
       "      <th>LOKI</th>\n",
       "      <td>0.464832</td>\n",
       "    </tr>\n",
       "    <tr>\n",
       "      <th>TONY STARK</th>\n",
       "      <td>0.341163</td>\n",
       "    </tr>\n",
       "    <tr>\n",
       "      <th>BRUCE BANNER</th>\n",
       "      <td>0.274406</td>\n",
       "    </tr>\n",
       "    <tr>\n",
       "      <th>JAMES RHODES</th>\n",
       "      <td>0.264151</td>\n",
       "    </tr>\n",
       "    <tr>\n",
       "      <th>NATASHA ROMANOFF</th>\n",
       "      <td>0.210843</td>\n",
       "    </tr>\n",
       "    <tr>\n",
       "      <th>mean</th>\n",
       "      <td>0.455754</td>\n",
       "    </tr>\n",
       "  </tbody>\n",
       "</table>\n",
       "</div>"
      ],
      "text/plain": [
       "                    recall\n",
       "PETER PARKER      0.825771\n",
       "STEVE ROGERS      0.610031\n",
       "THOR              0.570104\n",
       "PEPPER POTTS      0.518100\n",
       "NICK FURY         0.478142\n",
       "LOKI              0.464832\n",
       "TONY STARK        0.341163\n",
       "BRUCE BANNER      0.274406\n",
       "JAMES RHODES      0.264151\n",
       "NATASHA ROMANOFF  0.210843\n",
       "mean              0.455754"
      ]
     },
     "execution_count": 11,
     "metadata": {},
     "output_type": "execute_result"
    }
   ],
   "source": [
    "recalls = pd.DataFrame(np.diagonal(normalized_conf_matrix.to_numpy()), index=main_characters, columns=[\"recall\"])\n",
    "recalls.sort_values(by=\"recall\", ascending=False, inplace=True)\n",
    "recalls.loc['mean'] = recalls.mean()\n",
    "\n",
    "recalls"
   ]
  },
  {
   "cell_type": "markdown",
   "metadata": {},
   "source": [
    "## Conclusion"
   ]
  },
  {
   "cell_type": "markdown",
   "metadata": {},
   "source": [
    "It seems that by including movie and author indicators as features, we can have much better performance!  Compared to the current production model, including these features allows us to increase balanced accuracy from 29% to 45%!\n",
    "\n",
    "This won't be used on the front end because it has less to do with the goal of the project, which was to predict a character given dialogue only."
   ]
  }
 ],
 "metadata": {
  "kernelspec": {
   "display_name": "Python 3",
   "language": "python",
   "name": "python3"
  },
  "language_info": {
   "codemirror_mode": {
    "name": "ipython",
    "version": 3
   },
   "file_extension": ".py",
   "mimetype": "text/x-python",
   "name": "python",
   "nbconvert_exporter": "python",
   "pygments_lexer": "ipython3",
   "version": "3.8.3"
  }
 },
 "nbformat": 4,
 "nbformat_minor": 4
}
