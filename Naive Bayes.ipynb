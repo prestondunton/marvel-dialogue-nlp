{
 "cells": [
  {
   "cell_type": "code",
   "execution_count": 1,
   "metadata": {},
   "outputs": [],
   "source": [
    "import pandas as pd\n",
    "import numpy as np\n",
    "pd.set_option('display.max_rows', None)\n",
    "pd.set_option('display.max_colwidth', None)\n",
    "\n",
    "RANDOM_SEED = 42"
   ]
  },
  {
   "cell_type": "markdown",
   "metadata": {},
   "source": [
    "## Import Data"
   ]
  },
  {
   "cell_type": "code",
   "execution_count": 2,
   "metadata": {},
   "outputs": [
    {
     "data": {
      "text/plain": [
       "(array(['Got it.', 'And terrifying.', 'What’s the delta rate?', ...,\n",
       "        'I’m sorry. He seemed like a good man.', 'Heimdall, come on.',\n",
       "        'I am a king!'], dtype='<U606'),\n",
       " array(['BRUCE BANNER', 'PEPPER POTTS', 'TONY STARK', ..., 'STEVE ROGERS',\n",
       "        'THOR', 'LOKI'], dtype='<U12'))"
      ]
     },
     "execution_count": 2,
     "metadata": {},
     "output_type": "execute_result"
    }
   ],
   "source": [
    "from sklearn.utils import shuffle\n",
    "\n",
    "mcu = pd.read_csv(\"./data/mcu.csv\")\n",
    "\n",
    "min_line_count = 150\n",
    "\n",
    "is_main_character = mcu[\"character\"].value_counts() > min_line_count\n",
    "is_main_character = is_main_character.rename(\"is main character\", axis=0)\n",
    "\n",
    "main_character_rows = is_main_character[mcu[\"character\"]]\n",
    "main_character_rows = main_character_rows.reset_index(drop=True)\n",
    "\n",
    "mcu = mcu[main_character_rows]\n",
    "\n",
    "y = mcu[\"character\"].to_numpy().astype(str)\n",
    "X = mcu[\"line\"].to_numpy().astype(str)\n",
    "\n",
    "X, y = shuffle(X, y, random_state=RANDOM_SEED)\n",
    "\n",
    "X, y"
   ]
  },
  {
   "cell_type": "markdown",
   "metadata": {},
   "source": [
    "## Models"
   ]
  },
  {
   "cell_type": "code",
   "execution_count": 3,
   "metadata": {},
   "outputs": [],
   "source": [
    "from sklearn.pipeline import Pipeline\n",
    "\n",
    "from sklearn.model_selection import GridSearchCV\n",
    "from sklearn.model_selection import cross_validate\n",
    "from sklearn.model_selection import cross_val_score\n",
    "from sklearn.model_selection import StratifiedKFold\n",
    "\n",
    "from sklearn.feature_extraction.text import CountVectorizer\n",
    "from sklearn.feature_extraction.text import TfidfTransformer\n",
    "\n",
    "from sklearn.naive_bayes import MultinomialNB\n",
    "from sklearn.naive_bayes import BernoulliNB\n",
    "\n",
    "from sklearn import metrics\n",
    "\n",
    "import matplotlib.pyplot as plt"
   ]
  },
  {
   "cell_type": "code",
   "execution_count": 4,
   "metadata": {},
   "outputs": [],
   "source": [
    "cross_validator = StratifiedKFold(n_splits=5, random_state=RANDOM_SEED, shuffle=True)\n",
    "score_method = \"balanced_accuracy\""
   ]
  },
  {
   "cell_type": "markdown",
   "metadata": {},
   "source": [
    "Let's create two models: one that uses a TFIDF transformer and one that does not. "
   ]
  },
  {
   "cell_type": "markdown",
   "metadata": {},
   "source": [
    "### Model 1 (without TDIDF)"
   ]
  },
  {
   "cell_type": "code",
   "execution_count": 5,
   "metadata": {},
   "outputs": [
    {
     "name": "stdout",
     "output_type": "stream",
     "text": [
      "Fitting 5 folds for each of 144 candidates, totalling 720 fits\n"
     ]
    },
    {
     "name": "stderr",
     "output_type": "stream",
     "text": [
      "[Parallel(n_jobs=-1)]: Using backend LokyBackend with 12 concurrent workers.\n",
      "[Parallel(n_jobs=-1)]: Done   8 tasks      | elapsed:    1.7s\n",
      "[Parallel(n_jobs=-1)]: Done 104 tasks      | elapsed:    3.2s\n",
      "[Parallel(n_jobs=-1)]: Done 264 tasks      | elapsed:    5.3s\n",
      "[Parallel(n_jobs=-1)]: Done 488 tasks      | elapsed:    8.1s\n",
      "[Parallel(n_jobs=-1)]: Done 720 out of 720 | elapsed:   11.2s finished\n"
     ]
    },
    {
     "data": {
      "text/plain": [
       "{'clf__alpha': 0.1,\n",
       " 'clf__fit_prior': False,\n",
       " 'vect__binary': False,\n",
       " 'vect__ngram_range': (1, 3),\n",
       " 'vect__stop_words': None}"
      ]
     },
     "execution_count": 5,
     "metadata": {},
     "output_type": "execute_result"
    }
   ],
   "source": [
    "pipe1 = Pipeline([('vect', CountVectorizer()), \n",
    "                  ('clf', MultinomialNB())])\n",
    "\n",
    "parameters1 = {'vect__binary': [True, False],\n",
    "              'vect__stop_words': [None, 'english'],\n",
    "              'vect__ngram_range': [(1,1), (1,2), (1,3)],\n",
    "              'clf__alpha': [10, 1, 1e-1, 1e-2, 1e-3, 1e-4],\n",
    "              'clf__fit_prior': [True, False]}\n",
    "\n",
    "grid1 = GridSearchCV(pipe1, parameters1, cv=cross_validator, scoring=score_method, n_jobs=-1, verbose=3)\n",
    "\n",
    "grid1.fit(X,y)\n",
    "\n",
    "grid1.best_params_"
   ]
  },
  {
   "cell_type": "code",
   "execution_count": 19,
   "metadata": {},
   "outputs": [],
   "source": [
    "model1 = Pipeline([('vect', CountVectorizer(binary=False, ngram_range=(1,3), stop_words=None)), \n",
    "                  ('clf', MultinomialNB(alpha=0.1, fit_prior=False))])"
   ]
  },
  {
   "cell_type": "markdown",
   "metadata": {},
   "source": [
    "### Model 2 (with TDIDF)"
   ]
  },
  {
   "cell_type": "code",
   "execution_count": 7,
   "metadata": {},
   "outputs": [
    {
     "name": "stdout",
     "output_type": "stream",
     "text": [
      "Fitting 5 folds for each of 2304 candidates, totalling 11520 fits\n"
     ]
    },
    {
     "name": "stderr",
     "output_type": "stream",
     "text": [
      "[Parallel(n_jobs=-1)]: Using backend LokyBackend with 12 concurrent workers.\n",
      "[Parallel(n_jobs=-1)]: Done   8 tasks      | elapsed:    0.0s\n",
      "[Parallel(n_jobs=-1)]: Done 184 tasks      | elapsed:    3.7s\n",
      "[Parallel(n_jobs=-1)]: Done 504 tasks      | elapsed:    8.9s\n",
      "[Parallel(n_jobs=-1)]: Done 952 tasks      | elapsed:   14.9s\n",
      "[Parallel(n_jobs=-1)]: Done 1528 tasks      | elapsed:   22.6s\n",
      "[Parallel(n_jobs=-1)]: Done 2232 tasks      | elapsed:   31.9s\n",
      "[Parallel(n_jobs=-1)]: Done 3064 tasks      | elapsed:   43.0s\n",
      "[Parallel(n_jobs=-1)]: Done 4024 tasks      | elapsed:   56.3s\n",
      "[Parallel(n_jobs=-1)]: Done 5112 tasks      | elapsed:  1.2min\n",
      "[Parallel(n_jobs=-1)]: Done 6328 tasks      | elapsed:  1.5min\n",
      "[Parallel(n_jobs=-1)]: Done 7672 tasks      | elapsed:  1.8min\n",
      "[Parallel(n_jobs=-1)]: Done 9144 tasks      | elapsed:  2.1min\n",
      "[Parallel(n_jobs=-1)]: Done 10744 tasks      | elapsed:  2.5min\n",
      "[Parallel(n_jobs=-1)]: Done 11520 out of 11520 | elapsed:  2.7min finished\n"
     ]
    },
    {
     "data": {
      "text/plain": [
       "{'clf__alpha': 0.01,\n",
       " 'clf__fit_prior': False,\n",
       " 'tfidf__norm': 'l2',\n",
       " 'tfidf__smooth_idf': True,\n",
       " 'tfidf__sublinear_tf': True,\n",
       " 'tfidf__use_idf': False,\n",
       " 'vect__binary': False,\n",
       " 'vect__ngram_range': (1, 2),\n",
       " 'vect__stop_words': None}"
      ]
     },
     "execution_count": 7,
     "metadata": {},
     "output_type": "execute_result"
    }
   ],
   "source": [
    "pipe2 = Pipeline([('vect', CountVectorizer()),\n",
    "                  ('tfidf', TfidfTransformer()),\n",
    "                  ('clf', MultinomialNB())])\n",
    "\n",
    "parameters2 = {'vect__binary': [True, False],\n",
    "              'vect__stop_words': [None, 'english'],\n",
    "              'vect__ngram_range': [(1,1), (1,2), (1,3)],\n",
    "              'tfidf__norm': ['l1', 'l2'],\n",
    "              'tfidf__use_idf': [True, False],\n",
    "              'tfidf__smooth_idf': [True, False],\n",
    "              'tfidf__sublinear_tf': [True, False],\n",
    "              'clf__alpha': [10, 1, 1e-1, 1e-2, 1e-3, 1e-4],\n",
    "              'clf__fit_prior': [True, False]}\n",
    "\n",
    "grid2 = GridSearchCV(pipe2, parameters2, cv=cross_validator, scoring=score_method, n_jobs=-1, verbose=3)\n",
    "\n",
    "grid2.fit(X,y)\n",
    "\n",
    "grid2.best_params_"
   ]
  },
  {
   "cell_type": "code",
   "execution_count": 20,
   "metadata": {},
   "outputs": [],
   "source": [
    "model2 = Pipeline([('vect', CountVectorizer(binary=False, ngram_range=(1,2), stop_words=None)),\n",
    "                  ('tfidf', TfidfTransformer(norm='l2', smooth_idf=True, sublinear_tf=True, use_idf=False)),\n",
    "                  ('clf', MultinomialNB(alpha=0.01, fit_prior=False))])"
   ]
  },
  {
   "cell_type": "markdown",
   "metadata": {},
   "source": [
    "### Model 3 (Stemming, better stop words, no TFIDF)"
   ]
  },
  {
   "cell_type": "code",
   "execution_count": 18,
   "metadata": {},
   "outputs": [
    {
     "name": "stdout",
     "output_type": "stream",
     "text": [
      "['04', '07', '100', '11', '119', '12', '14', '16s', '1825', '19', '1943', '20', '22', '229', '2300', '30', '3000', '39th', '48', '49', '50', '5000', '5484', '5s', '60', '64', '70', '7043', '76', '800', '80th', '90s', 'aaand', 'aaarrrgh', 'aah', 'aakonian', 'aaskvarian', 'abandon', 'abduct', 'abil', 'abl', 'aboard', 'about', 'above', 'absolut', 'abu', 'abyss', 'accept', 'access', 'accid', 'account', 'accur', 'acetelyen', 'achiev', 'acm', 'acquir', 'across', 'act', 'activ', 'actor', 'actress', 'actual', 'add', 'admir', 'admit', 'adopt', 'adrift', 'adult', 'advanc', 'adventur', 'aero', 'aether', 'afford', 'afield', 'afraid', 'after', 'again', 'against', 'age', 'agent', 'ago', 'agre', 'agreement', 'ah', 'ahead', 'ahh', 'aim', 'ain', 'air', 'alarm', 'alcohol', 'ale', 'algorithm', 'alibi', 'alien', 'alik', 'aliv', 'all', 'alley', 'alli', 'allow', 'alloy', 'almost', 'alon', 'along', 'alreadi', 'alright', 'also', 'altern', 'altitud', 'altruism', 'alway', 'am', 'amaz', 'amen', 'america', 'american', 'ammo', 'among', 'amount', 'an', 'and', 'angel', 'anger', 'angri', 'anim', 'anniversari', 'anoth', 'answer', 'ant', 'antenna', 'anti', 'antiqu', 'antler', 'anulax', 'anus', 'any', 'anybodi', 'anymor', 'anyon', 'anyth', 'anytim', 'anyway', 'anywher', 'ap', 'apart', 'apolog', 'appar', 'appeal', 'appear', 'appoint', 'appreci', 'approach', 'approv', 'arc', 'are', 'area', 'aren', 'argument', 'ark', 'arm', 'armi', 'armor', 'armori', 'around', 'arrang', 'arrest', 'arriv', 'arrow', 'art', 'as', 'asgard', 'asgardian', 'ash', 'ask', 'askavaria', 'asleep', 'ass', 'assassin', 'assembl', 'assign', 'assist', 'assum', 'assur', 'astonish', 'astrophysicist', 'at', 'atom', 'attack', 'attempt', 'attent', 'attract', 'audienc', 'avail', 'avalon', 'aveng', 'avenu', 'avoid', 'aw', 'awar', 'award', 'away', 'awesom', 'axe', 'ayesha', 'babe', 'babi', 'back', 'backgammon', 'background', 'bad', 'bag', 'bakar', 'balanc', 'baldi', 'ball', 'balm', 'banana', 'band', 'bank', 'banner', 'bargain', 'barn', 'barrel', 'barrier', 'barton', 'base', 'basement', 'basest', 'basic', 'bastard', 'bat', 'bathrob', 'batteri', 'battl', 'be', 'beacon', 'beam', 'bear', 'beard', 'beast', 'beat', 'beatabl', 'beauti', 'because', 'becom', 'bed', 'bee', 'been', 'beer', 'befal', 'before', 'beg', 'begin', 'behalf', 'behind', 'being', 'believ', 'belong', 'belov', 'below', 'belt', 'beneath', 'benefit', 'berkeley', 'best', 'bet', 'beth', 'betray', 'better', 'between', 'beyond', 'bi', 'bid', 'bifrost', 'big', 'bigger', 'biggest', 'bildschneip', 'bill', 'billion', 'billionair', 'bird', 'birthday', 'bit', 'bitch', 'bite', 'black', 'blame', 'blast', 'blaster', 'bleecker', 'blew', 'block', 'blood', 'blow', 'blown', 'blue', 'blueberri', 'board', 'bodi', 'bold', 'bomb', 'bongo', 'bonus', 'boo', 'book', 'boom', 'boost', 'boot', 'bore', 'born', 'borrow', 'boss', 'both', 'bottl', 'bottleneck', 'bottom', 'bought', 'bounti', 'bouquet', 'bout', 'bowl', 'box', 'boy', 'brain', 'brake', 'branch', 'brave', 'brawn', 'breach', 'break', 'breaker', 'breakthrough', 'breath', 'brick', 'bridg', 'bright', 'bring', 'bro', 'broad', 'broadsword', 'broke', 'broken', 'bros', 'brother', 'brought', 'brown', 'bruce', 'brush', 'bubbl', 'buck', 'budapest', 'buddi', 'bug', 'build', 'built', 'bullet', 'bulli', 'bunch', 'bunk', 'burden', 'burger', 'burn', 'burrow', 'busi', 'bust', 'but', 'butt', 'butter', 'button', 'buy', 'buyer', 'buzz', 'by', 'bye', 'bypass', 'cab', 'cabl', 'cage', 'calcul', 'calcutta', 'calibr', 'calisthen', 'call', 'calm', 'cambridg', 'came', 'camp', 'campaign', 'can', 'cancel', 'cancer', 'candi', 'cannot', 'cap', 'captain', 'captiv', 'captur', 'car', 'carbon', 'card', 'cardiac', 'care', 'carol', 'case', 'cast', 'casual', 'cat', 'catastroph', 'catch', 'categori', 'caught', 'caus', 'caution', 'cave', 'celebr', 'celesti', 'cell', 'cellar', 'cellist', 'census', 'center', 'central', 'centuri', 'ceram', 'ceremoni', 'certain', 'chai', 'chain', 'chair', 'champ', 'champion', 'chanc', 'chang', 'channel', 'chao', 'chaotic', 'chaperon', 'charg', 'charm', 'chase', 'chat', 'cheat', 'check', 'checkpoint', 'cheer', 'cheeseburg', 'chemic', 'chest', 'chick', 'chiffon', 'child', 'children', 'chitauri', 'choic', 'choos', 'chop', 'chose', 'chow', 'christma', 'chronolog', 'chronoshift', 'cia', 'cinemax', 'circl', 'citi', 'claim', 'classic', 'clean', 'cleaner', 'clear', 'clench', 'clever', 'climb', 'clint', 'clip', 'clock', 'clone', 'close', 'closer', 'closest', 'cloth', 'club', 'clue', 'cluster', 'clutter', 'code', 'cognit', 'coil', 'coin', 'coincid', 'collaps', 'collect', 'collis', 'color', 'com', 'come', 'comfort', 'command', 'commenc', 'comment', 'commodor', 'communic', 'compani', 'complet', 'complic', 'compon', 'compost', 'compound', 'compress', 'compromis', 'comput', 'conceit', 'concert', 'conclus', 'concoct', 'condit', 'conduct', 'confer', 'configur', 'conflict', 'confus', 'congratul', 'conjur', 'connect', 'conquer', 'conscienc', 'consider', 'consist', 'construct', 'consult', 'contain', 'contempl', 'contin', 'control', 'convers', 'convert', 'cook', 'cool', 'cooper', 'coordin', 'copi', 'core', 'correct', 'corros', 'cosmic', 'cosmos', 'cost', 'could', 'couldn', 'coulomb', 'coulson', 'count', 'countri', 'coupl', 'cours', 'court', 'cover', 'coward', 'crack', 'crap', 'crappi', 'crater', 'crave', 'crawl', 'crazi', 'cream', 'creation', 'creatur', 'credit', 'creepi', 'cri', 'crimin', 'croatian', 'crop', 'cross', 'crown', 'crumb', 'cube', 'cue', 'cup', 'cure', 'cut', 'cute', 'cybernet', 'dad', 'daddi', 'damn', 'danc', 'dancer', 'danger', 'danver', 'dark', 'date', 'daughter', 'david', 'day', 'dc', 'de', 'dead', 'deal', 'dear', 'death', 'debat', 'debri', 'debt', 'decid', 'decis', 'decomp', 'decoy', 'decrypt', 'deep', 'deeper', 'defeat', 'defend', 'defens', 'definit', 'degener', 'deleg', 'deliv', 'delta', 'delusion', 'demi', 'demis', 'demolish', 'demonstr', 'densiti', 'deodor', 'deploy', 'descript', 'deserv', 'design', 'desk', 'desper', 'destini', 'destroy', 'destruct', 'deterr', 'deton', 'deutsch', 'develop', 'devic', 'dian', 'dice', 'dicey', 'dick', 'did', 'didn', 'die', 'differ', 'dig', 'dimens', 'dimension', 'diminish', 'dinner', 'direct', 'director', 'dirti', 'disadvantag', 'disagre', 'disappear', 'disband', 'discharg', 'disconnect', 'discuss', 'diseas', 'disengag', 'disguis', 'disgust', 'dish', 'dislodg', 'disori', 'distanc', 'distract', 'diva', 'diverg', 'divid', 'do', 'doc', 'doctor', 'does', 'doesn', 'dog', 'doing', 'don', 'done', 'doofus', 'door', 'dormant', 'dot', 'doth', 'doubl', 'doubt', 'douchebag', 'down', 'downer', 'dozen', 'dr', 'drag', 'dragonfang', 'drakov', 'drama', 'drape', 'draw', 'drax', 'dread', 'dream', 'dress', 'drew', 'dri', 'drift', 'drill', 'drink', 'drip', 'drive', 'drop', 'drum', 'drunk', 'dubai', 'duck', 'dude', 'due', 'dull', 'dumbass', 'dump', 'dungeon', 'during', 'dynamit', 'dysrhythmia', 'each', 'ear', 'earli', 'earth', 'eas', 'easi', 'easier', 'easili', 'east', 'eat', 'effect', 'effici', 'ego', 'eigenvalu', 'eight', 'eighteen', 'eighti', 'einstein', 'either', 'elder', 'electr', 'electromagnet', 'electron', 'eleg', 'elev', 'eleven', 'eleventh', 'elit', 'els', 'elv', 'em', 'email', 'embarrass', 'emerg', 'emit', 'employe', 'encount', 'end', 'enemi', 'energi', 'engag', 'engin', 'english', 'enjoy', 'enorm', 'enough', 'enslav', 'ensur', 'enter', 'entir', 'environ', 'epic', 'epr', 'equat', 'equip', 'erad', 'eras', 'erik', 'escap', 'etern', 'evacu', 'evalu', 'eve', 'even', 'event', 'ever', 'everi', 'everybodi', 'everyday', 'everyon', 'everyth', 'everywher', 'evil', 'evolv', 'ew', 'exact', 'exampl', 'exasper', 'excel', 'except', 'exchang', 'excit', 'excus', 'execut', 'exhaust', 'exil', 'exist', 'existenti', 'exit', 'exot', 'expand', 'expect', 'experi', 'expertis', 'explain', 'explod', 'explos', 'export', 'expos', 'exposur', 'extent', 'extra', 'extract', 'eye', 'eyebrow', 'eyelash', 'eyyy', 'face', 'fact', 'factor', 'fail', 'failur', 'fake', 'fall', 'fame', 'famili', 'familiar', 'famous', 'fan', 'fanci', 'fantast', 'far', 'fascin', 'fascist', 'fashion', 'fast', 'faster', 'fat', 'fate', 'father', 'fault', 'favor', 'favorit', 'fbi', 'fear', 'feel', 'feet', 'fella', 'fellow', 'felt', 'fetch', 'few', 'fewer', 'fiber', 'fiction', 'field', 'fife', 'fifteen', 'fifti', 'fight', 'figur', 'file', 'fill', 'fin', 'final', 'find', 'fine', 'finger', 'finish', 'fire', 'firework', 'first', 'fish', 'fisherpeopl', 'fit', 'five', 'fix', 'flame', 'flaunt', 'fleet', 'fli', 'flick', 'flight', 'flirt', 'float', 'flood', 'floor', 'floss', 'flower', 'fluctuat', 'fluke', 'flyer', 'focus', 'folk', 'follow', 'fond', 'food', 'fool', 'foolish', 'foot', 'footag', 'for', 'forc', 'forese', 'forev', 'forget', 'forgot', 'form', 'former', 'formid', 'fort', 'forti', 'fortress', 'forward', 'fought', 'found', 'four', 'fragil', 'freak', 'free', 'freedom', 'freez', 'fresh', 'frick', 'frickin', 'friday', 'friend', 'from', 'front', 'frost', 'frozen', 'fu', 'fuel', 'fugit', 'fulfil', 'full', 'fulli', 'fun', 'function', 'fund', 'funer', 'funki', 'funni', 'furi', 'furious', 'further', 'fuselag', 'fusion', 'fuss', 'futur', 'fuzzi', 'fyi', 'gain', 'galaga', 'galaxi', 'game', 'gamma', 'gamora', 'garag', 'garbag', 'garden', 'gate', 'gateway', 'gauntlet', 'gave', 'gear', 'general', 'generat', 'genet', 'genius', 'gentl', 'gentlemen', 'geodet', 'geometri', 'germani', 'get', 'gettin', 'giant', 'giddi', 'gift', 'gig', 'gigajoul', 'girl', 'give', 'given', 'glad', 'glass', 'global', 'glorious', 'glove', 'glow', 'go', 'goad', 'goal', 'god', 'goddess', 'goe', 'goggl', 'gold', 'golden', 'gone', 'gonna', 'good', 'goodby', 'gornad', 'got', 'gotta', 'govern', 'gps', 'grab', 'grandfath', 'grandmast', 'grape', 'gratuit', 'grave', 'greasi', 'great', 'greatest', 'green', 'greet', 'grid', 'groot', 'gross', 'ground', 'grovel', 'grow', 'grown', 'growth', 'grrr', 'gruesom', 'guarante', 'guard', 'guardian', 'guess', 'guest', 'guilt', 'gun', 'gush', 'guy', 'gypsi', 'habit', 'hack', 'had', 'hail', 'hair', 'hairbag', 'haircut', 'half', 'hall', 'hammer', 'han', 'hand', 'handl', 'hang', 'happen', 'happi', 'hard', 'hardest', 'harlem', 'harm', 'harokin', 'harsh', 'has', 'hasn', 'hasselhoff', 'hat', 'hatch', 'hate', 'have', 'haven', 'having', 'hawkey', 'he', 'head', 'hear', 'heard', 'heart', 'heartbreak', 'heat', 'heather', 'heaven', 'heavi', 'heck', 'heimdal', 'heist', 'hela', 'hell', 'hello', 'helmet', 'help', 'her', 'here', 'hero', 'hexahedron', 'hey', 'hi', 'hid', 'hide', 'hideous', 'high', 'higher', 'highlight', 'him', 'himself', 'hire', 'his', 'histor', 'histori', 'hit', 'hitler', 'hm', 'ho', 'hold', 'hole', 'holi', 'home', 'homer', 'homework', 'honest', 'honor', 'hook', 'hope', 'horribl', 'horror', 'horseshit', 'hospit', 'hot', 'hour', 'hous', 'how', 'howard', 'huddl', 'hudson', 'hug', 'huge', 'huh', 'hulk', 'hull', 'human', 'humbl', 'humi', 'humili', 'hundr', 'hunt', 'hurri', 'hurt', 'hydra', 'hypothalamus', 'ice', 'idea', 'ident', 'idiot', 'if', 'ii', 'ill', 'imagin', 'immedi', 'immort', 'impact', 'impenetr', 'imperfect', 'import', 'impos', 'imposs', 'impress', 'improvis', 'in', 'incid', 'includ', 'inclus', 'incom', 'inconsist', 'incorpor', 'incred', 'inde', 'independ', 'industri', 'infect', 'infin', 'info', 'inform', 'initi', 'innoc', 'inorgan', 'insecur', 'insid', 'inspir', 'instal', 'instead', 'int', 'intact', 'integr', 'intellig', 'intens', 'intent', 'inter', 'interest', 'interrog', 'interrupt', 'interview', 'intim', 'into', 'invad', 'invent', 'invert', 'investig', 'invit', 'involv', 'ion', 'iridium', 'iron', 'irrespons', 'is', 'isn', 'issu', 'it', 'its', 'itself', 'jab', 'jack', 'jacket', 'jackson', 'jam', 'jane', 'jarvi', 'jazz', 'jealous', 'jeez', 'jeopard', 'jericho', 'jerk', 'jet', 'jewel', 'jim', 'jimmi', 'job', 'join', 'joint', 'joke', 'jolli', 'jonah', 'journey', 'joy', 'judg', 'jump', 'juri', 'just', 'justic', 'kay', 'keep', 'kelvin', 'kept', 'key', 'kick', 'kickass', 'kid', 'kiddi', 'kill', 'killer', 'kind', 'kinda', 'king', 'kingdom', 'kirlian', 'kiss', 'kit', 'kneel', 'knew', 'knife', 'knight', 'knive', 'knock', 'know', 'known', 'korg', 'kraglin', 'kree', 'kronan', 'lab', 'laboratori', 'ladi', 'laguardia', 'lake', 'lame', 'land', 'lang', 'languag', 'laphroig', 'larg', 'larger', 'laser', 'last', 'late', 'later', 'laugh', 'launcher', 'laundri', 'lawless', 'lay', 'layman', 'lead', 'leader', 'leadership', 'leagu', 'learn', 'leas', 'least', 'leav', 'lebanon', 'lebowski', 'led', 'ledger', 'left', 'leg', 'legaci', 'legend', 'legola', 'lehigh', 'lengthi', 'less', 'lesson', 'lest', 'let', 'letter', 'level', 'lever', 'liar', 'licketi', 'lid', 'lie', 'life', 'lifesav', 'lift', 'light', 'lighten', 'lightn', 'like', 'likewis', 'limbic', 'line', 'list', 'listen', 'litani', 'liter', 'littl', 'live', 'll', 'load', 'lobbi', 'locat', 'lock', 'locklear', 'log', 'logic', 'logjam', 'loki', 'long', 'longer', 'look', 'loos', 'lord', 'lose', 'loser', 'lost', 'lot', 'loud', 'love', 'low', 'luck', 'lucki', 'ludicr', 'lunat', 'lunch', 'lure', 'ma', 'machin', 'mad', 'made', 'magic', 'magician', 'maglev', 'maguna', 'mail', 'main', 'mainfram', 'maintain', 'majesti', 'major', 'make', 'man', 'manag', 'maneuv', 'manhattan', 'mani', 'maniac', 'manifest', 'manipul', 'mankind', 'manti', 'manufactur', 'map', 'march', 'mari', 'marri', 'martini', 'mass', 'massacr', 'mast', 'master', 'masterpiec', 'materi', 'mathemat', 'matter', 'may', 'mayb', 'md', 'me', 'mean', 'meani', 'meaningless', 'meant', 'meantim', 'mechan', 'meddl', 'media', 'medic', 'meet', 'meh', 'mellow', 'melt', 'meltdown', 'memori', 'men', 'mention', 'mess', 'messag', 'met', 'metagalact', 'metal', 'meter', 'method', 'mettl', 'mewl', 'mhm', 'microsecond', 'middl', 'miek', 'might', 'mightiest', 'mild', 'mile', 'mileag', 'militari', 'million', 'mind', 'mindless', 'mine', 'miniatur', 'minor', 'minut', 'mirror', 'mischief', 'miss', 'missil', 'mission', 'missouri', 'mistak', 'mistaken', 'mister', 'mit', 'mixtur', 'mizzen', 'mjolnir', 'mo', 'mobius', 'mode', 'model', 'mom', 'moment', 'mommi', 'mon', 'money', 'monitor', 'monkey', 'monster', 'month', 'monument', 'mood', 'morag', 'moral', 'more', 'morgan', 'morn', 'moron', 'mortal', 'mortar', 'most', 'mother', 'motiv', 'mountain', 'mourn', 'mousetrap', 'mouth', 'move', 'mr', 'ms', 'much', 'mum', 'munch', 'murder', 'muscular', 'music', 'muss', 'must', 'muster', 'mutual', 'my', 'myocardi', 'myself', 'nada', 'naiv', 'nake', 'name', 'narrow', 'nasti', 'nat', 'natasha', 'nativ', 'natur', 'near', 'nearbi', 'nearest', 'necessari', 'neck', 'necklac', 'need', 'neither', 'nerv', 'nervous', 'netflix', 'neuron', 'neutron', 'never', 'new', 'news', 'next', 'nice', 'nicer', 'nick', 'night', 'nightcap', 'nightmar', 'nine', 'no', 'nobodi', 'none', 'noobmast', 'nope', 'nor', 'normal', 'north', 'nose', 'nostalg', 'not', 'note', 'noth', 'notic', 'now', 'nuclear', 'nuke', 'number', 'nut', 'nye', 'obadiah', 'obi', 'object', 'obsess', 'occas', 'occupi', 'ocean', 'odd', 'odin', 'odinson', 'of', 'off', 'offend', 'offens', 'offer', 'offic', 'offici', 'offlin', 'oh', 'ok', 'okay', 'okayyyi', 'old', 'older', 'oliv', 'on', 'once', 'one', 'onlin', 'only', 'onto', 'ooh', 'open', 'opinion', 'opportun', 'oprah', 'optim', 'option', 'or', 'order', 'organ', 'orgi', 'orloni', 'orphan', 'ostentati', 'other', 'otherwis', 'our', 'ours', 'ourselves', 'out', 'outcom', 'outer', 'outfit', 'outsid', 'over', 'overload', 'overreact', 'ow', 'owe', 'own', 'oxytocin', 'pac', 'pack', 'packag', 'packet', 'paid', 'pain', 'paint', 'pair', 'pal', 'palac', 'palladium', 'pan', 'panda', 'panel', 'panic', 'pant', 'paper', 'parad', 'paradox', 'pardon', 'parent', 'parentag', 'park', 'part', 'parti', 'particl', 'particular', 'pass', 'passag', 'past', 'patch', 'path', 'pathet', 'pattern', 'paulo', 'pay', 'peac', 'peanut', 'pearl', 'peed', 'peopl', 'pep', 'pepper', 'peptid', 'per', 'percent', 'percentag', 'perfect', 'perform', 'perhap', 'perimet', 'period', 'person', 'persuad', 'petti', 'phase', 'phd', 'phds', 'phil', 'philanthropist', 'philosophi', 'phone', 'photograph', 'physic', 'pick', 'pictur', 'piec', 'pilat', 'pillowcas', 'pilot', 'ping', 'pipe', 'piss', 'piti', 'pjs', 'place', 'plain', 'plan', 'planck', 'plane', 'planet', 'plasma', 'plasmic', 'plaster', 'play', 'playboy', 'pleas', 'plenti', 'plot', 'plug', 'plus', 'pod', 'poetic', 'point', 'pointi', 'poison', 'poke', 'polar', 'poleax', 'poll', 'pollock', 'pool', 'poppin', 'port', 'portal', 'portland', 'posit', 'possibl', 'post', 'potabl', 'potenti', 'pott', 'pound', 'powder', 'power', 'practic', 'prayer', 'pre', 'precious', 'precis', 'predict', 'prefer', 'prepar', 'present', 'presid', 'press', 'pressur', 'pretend', 'pretti', 'prettyp', 'prevent', 'preview', 'price', 'priceless', 'priestess', 'prioriti', 'prise', 'prison', 'privat', 'privileg', 'pro', 'probabl', 'problem', 'process', 'professor', 'program', 'project', 'promis', 'prompt', 'propan', 'proper', 'propheci', 'prophesi', 'proport', 'proposit', 'proprietari', 'prosper', 'protect', 'protector', 'protein', 'protocol', 'prototyp', 'proud', 'prove', 'public', 'pull', 'punch', 'puppi', 'purist', 'purpos', 'pus', 'push', 'put', 'px', 'pym', 'quail', 'qualifi', 'quantum', 'quarrel', 'quasi', 'queen', 'question', 'quick', 'quill', 'quim', 'quinjet', 'quit', 'quizz', 'quot', 'rabbit', 'raboon', 'raccoon', 'radar', 'radiat', 'rage', 'ragnarok', 'rais', 'ran', 'random', 'rapid', 'ratchet', 'rate', 'rather', 'ratio', 'ravag', 'raw', 'ray', 're', 'reach', 'reaction', 'reactor', 'read', 'readi', 'real', 'realiti', 'realiz', 'realli', 'realm', 'reap', 'rear', 'reason', 'reassembl', 'reboot', 'reborn', 'recalibr', 'recent', 'recognit', 'recommend', 'recompens', 'record', 'red', 'redecor', 'reel', 'refer', 'reflect', 'refriger', 'refus', 'regardless', 'regim', 'reindeer', 'rejoic', 'relat', 'relay', 'releas', 'reliev', 'reluct', 'rememb', 'remind', 'remov', 'rent', 'reocur', 'repeat', 'rephras', 'replic', 'report', 'repres', 'repuls', 'repulsor', 'reran', 'rescu', 'research', 'resent', 'reset', 'resign', 'resolut', 'resort', 'respect', 'respons', 'rest', 'restaur', 'restor', 'resum', 'retir', 'retriev', 'return', 'reunion', 'reunit', 'revel', 'reveng', 'revers', 'revolut', 'reward', 'rhodey', 'rid', 'ride', 'rider', 'ridicul', 'rifl', 'rig', 'right', 'rim', 'ring', 'rip', 'risk', 'rival', 'robot', 'rock', 'rocket', 'roger', 'roll', 'romanoff', 'roof', 'room', 'rope', 'rosen', 'rotor', 'rough', 'round', 'rout', 'ruin', 'rule', 'rumlow', 'run', 'rush', 'russian', 'sacrific', 'sad', 'sadist', 'safe', 'safeti', 'said', 'sakaar', 'sale', 'sam', 'same', 'sandwich', 'sao', 'sarcast', 'satan', 'satellit', 'satisfi', 'sauerkraut', 'savag', 'save', 'saver', 'savior', 'saw', 'say', 'scale', 'scali', 'scan', 'scare', 'scatter', 'scent', 'scepter', 'schedul', 'scheme', 'school', 'scienc', 'scientif', 'scientist', 'scott', 'scrambl', 'scrap', 'scratch', 'scream', 'screw', 'scrotum', 'sculleri', 'scuttl', 'sea', 'search', 'seat', 'seatbelt', 'sec', 'second', 'secret', 'secretari', 'sector', 'secur', 'seduct', 'see', 'seek', 'seem', 'seen', 'self', 'sell', 'selvig', 'send', 'sens', 'sensit', 'sent', 'sentenc', 'sentiment', 'separ', 'seraphim', 'serious', 'serum', 'servic', 'set', 'settl', 'seven', 'seventi', 'sever', 'shade', 'shadow', 'shaken', 'shakespear', 'shall', 'shame', 'shape', 'share', 'shave', 'shawarma', 'she', 'shell', 'shield', 'shini', 'ship', 'shipment', 'shirt', 'shit', 'shitbag', 'shmoopi', 'shoot', 'shop', 'short', 'shot', 'shotgun', 'should', 'shouldn', 'shove', 'show', 'shown', 'showtim', 'shrapnel', 'shred', 'shut', 'sick', 'sicl', 'side', 'sidelin', 'sidetrack', 'sidewalk', 'sideway', 'sight', 'sign', 'signal', 'signatur', 'sim', 'simpl', 'simpler', 'sinc', 'singer', 'singl', 'singular', 'sink', 'sir', 'sister', 'sit', 'site', 'situat', 'six', 'sixti', 'skeletor', 'skill', 'skin', 'skinni', 'skip', 'skull', 'sky', 'sled', 'sleep', 'sleepi', 'slept', 'slice', 'slight', 'slogan', 'slow', 'slowli', 'sludg', 'sluggish', 'small', 'smallest', 'smart', 'smash', 'smell', 'smelt', 'smile', 'smurfett', 'snafu', 'snake', 'snap', 'sneak', 'so', 'social', 'sock', 'socket', 'soft', 'sokovia', 'solder', 'soldier', 'solid', 'solohob', 'solv', 'some', 'somebodi', 'someday', 'someon', 'someth', 'sometim', 'somewher', 'son', 'soon', 'sooner', 'sorcer', 'sorri', 'sort', 'soul', 'sound', 'soup', 'sourc', 'sovereign', 'space', 'spacecraft', 'spaceship', 'spang', 'spare', 'spawn', 'speak', 'special', 'specif', 'spectacl', 'spectral', 'spectromet', 'specul', 'speed', 'spell', 'spent', 'spi', 'spice', 'spin', 'spine', 'spit', 'split', 'spoke', 'spoken', 'sport', 'spot', 'spri', 'spring', 'spun', 'squar', 'squeez', 'squish', 'squishi', 'stab', 'stabil', 'stall', 'stamp', 'stand', 'standbi', 'stane', 'star', 'stare', 'stark', 'start', 'starv', 'stash', 'state', 'statement', 'statu', 'status', 'stay', 'steadi', 'steal', 'stealth', 'steam', 'steer', 'step', 'steve', 'steven', 'stew', 'stick', 'still', 'stock', 'stole', 'stolen', 'stone', 'stood', 'stop', 'store', 'stori', 'straight', 'strain', 'strand', 'strang', 'stranger', 'strategi', 'stray', 'streak', 'street', 'stress', 'strip', 'stripe', 'stroke', 'strong', 'stronger', 'strongest', 'struck', 'strut', 'stuart', 'stubborn', 'stuck', 'stuff', 'stupid', 'stuttgart', 'style', 'subatom', 'subject', 'subjug', 'submarin', 'submerg', 'subscript', 'subtl', 'subway', 'succeed', 'such', 'suck', 'sudden', 'sugar', 'suggest', 'suicid', 'suit', 'sullivan', 'sun', 'super', 'supervillain', 'support', 'suppos', 'sure', 'surg', 'surpris', 'surround', 'surtur', 'surviv', 'suspect', 'suspend', 'sustain', 'swallow', 'swap', 'swear', 'sweati', 'sweep', 'sweet', 'swell', 'swing', 'swipe', 'switch', 'swoon', 'sword', 'sworn', 'system', 'tabl', 'tactic', 'tail', 'take', 'taken', 'tale', 'talk', 'tangibl', 'tap', 'tape', 'taser', 'taserfac', 'tast', 'tea', 'teach', 'team', 'tear', 'tearjerk', 'technic', 'technolog', 'teem', 'teeth', 'tell', 'temporari', 'ten', 'tend', 'tens', 'tension', 'teraflop', 'term', 'terribl', 'terrifi', 'territori', 'terror', 'tesla', 'tesseract', 'test', 'th', 'than', 'thank', 'thano', 'that', 'the', 'theatr', 'their', 'them', 'themselves', 'then', 'theori', 'there', 'these', 'they', 'thick', 'thiev', 'thimbl', 'thing', 'think', 'thirti', 'this', 'thor', 'those', 'though', 'thought', 'thousand', 'threat', 'threaten', 'three', 'threw', 'throat', 'throb', 'throne', 'throttl', 'through', 'throughout', 'throw', 'thru', 'thruster', 'thug', 'thumbelina', 'thunder', 'thursday', 'tiara', 'ticket', 'tide', 'tight', 'til', 'time', 'timelin', 'timer', 'timescap', 'tini', 'tip', 'tis', 'titanium', 'to', 'today', 'toe', 'togeth', 'told', 'tomorrow', 'ton', 'toni', 'tonight', 'too', 'took', 'tool', 'toothbrush', 'top', 'topic', 'topsail', 'tortur', 'toss', 'total', 'touch', 'tour', 'tourist', 'toward', 'tower', 'toy', 'trace', 'track', 'traction', 'trade', 'train', 'traitor', 'trampl', 'transcend', 'transduc', 'transform', 'transgress', 'translat', 'transmiss', 'transmitt', 'trap', 'trash', 'travel', 'treat', 'tree', 'tremor', 'tri', 'trick', 'trigger', 'trillion', 'trip', 'triton', 'troubl', 'trout', 'true', 'truism', 'truli', 'trump', 'trunk', 'trust', 'truth', 'tryin', 'tub', 'tube', 'tune', 'tunnel', 'turd', 'turn', 'tuskeege', 'tv', 'twelv', 'twenti', 'twice', 'twig', 'twin', 'twitchi', 'two', 'type', 'uav', 'ugli', 'ugrad', 'uh', 'uhh', 'ultron', 'um', 'unbeliev', 'unchart', 'uncomfort', 'uncool', 'undecid', 'under', 'understand', 'understood', 'undo', 'unfinish', 'unfortun', 'uniform', 'uniqu', 'unit', 'univers', 'unleash', 'unless', 'unlik', 'unlimit', 'unparallel', 'unquot', 'unselfish', 'unspoken', 'untest', 'until', 'untim', 'up', 'upfront', 'upgrad', 'upon', 'upstair', 'uptown', 'urgent', 'us', 'use', 'usual', 'vagu', 'valhalla', 'valkyri', 'valu', 'van', 'vari', 'variabl', 'vault', 've', 'vein', 'vener', 'vengeanc', 'venger', 'verbal', 'version', 'very', 'villag', 'vine', 'vintag', 'violenc', 'violent', 'virtuous', 'visit', 'visual', 'vodka', 'voic', 'void', 'volatil', 'vow', 'wager', 'wait', 'wake', 'walk', 'walkman', 'wallop', 'wallow', 'wander', 'wanna', 'want', 'war', 'warm', 'warn', 'warrior', 'warship', 'was', 'wash', 'wasn', 'wast', 'watch', 'water', 'way', 'we', 'weak', 'weapon', 'weaponri', 'wear', 'weari', 'weas', 'wed', 'weed', 'week', 'weekend', 'weep', 'weight', 'weird', 'welcom', 'weld', 'well', 'went', 'were', 'weren', 'wh', 'whale', 'what', 'whatev', 'whatsoev', 'wheel', 'when', 'where', 'whether', 'which', 'while', 'whistl', 'white', 'who', 'whoa', 'whoever', 'whole', 'wholesal', 'whose', 'why', 'wi', 'wide', 'wider', 'wield', 'wild', 'will', 'win', 'wind', 'window', 'wine', 'wing', 'winter', 'wipe', 'wire', 'wise', 'wish', 'witch', 'with', 'within', 'without', 'withstand', 'wizard', 'woke', 'woman', 'women', 'won', 'wonder', 'word', 'work', 'workmen', 'world', 'worldwid', 'wormhol', 'worri', 'wors', 'worst', 'worth', 'worthi', 'would', 'wouldn', 'wow', 'wrath', 'write', 'wrong', 'xandar', 'ya', 'yaaaay', 'yacht', 'yay', 'yeah', 'year', 'yell', 'yep', 'yes', 'yesterday', 'yet', 'yield', 'yinsen', 'yo', 'yoga', 'yondu', 'york', 'you', 'young', 'younger', 'your', 'yours', 'yourself', 'yourselves', 'youth', 'zagreb', 'zap', 'zero', 'zip', 'zone']\n"
     ]
    }
   ],
   "source": [
    "import nltk\n",
    "from nltk.corpus import stopwords\n",
    "from nltk.stem import SnowballStemmer\n",
    "\n",
    "class StemCountVectorizer(CountVectorizer):\n",
    "    def build_analyzer(self):\n",
    "        analyzer = super(StemCountVectorizer, self).build_analyzer()\n",
    "        \n",
    "        return lambda document: ([SnowballStemmer('english', ignore_stopwords=True).stem(word) for word in analyzer(document)])\n",
    "    \n",
    "    \n",
    "vectorizer = StemCountVectorizer()\n",
    "vectorizer.fit_transform(X)\n",
    "print(vectorizer.get_feature_names())"
   ]
  },
  {
   "cell_type": "code",
   "execution_count": 10,
   "metadata": {},
   "outputs": [
    {
     "name": "stdout",
     "output_type": "stream",
     "text": [
      "Fitting 5 folds for each of 216 candidates, totalling 1080 fits\n"
     ]
    },
    {
     "name": "stderr",
     "output_type": "stream",
     "text": [
      "[Parallel(n_jobs=-1)]: Using backend LokyBackend with 12 concurrent workers.\n",
      "[Parallel(n_jobs=-1)]: Done   8 tasks      | elapsed:   19.8s\n",
      "[Parallel(n_jobs=-1)]: Done 104 tasks      | elapsed:  3.2min\n",
      "[Parallel(n_jobs=-1)]: Done 264 tasks      | elapsed:  8.8min\n",
      "[Parallel(n_jobs=-1)]: Done 488 tasks      | elapsed: 16.0min\n",
      "[Parallel(n_jobs=-1)]: Done 776 tasks      | elapsed: 26.1min\n",
      "[Parallel(n_jobs=-1)]: Done 1080 out of 1080 | elapsed: 37.0min finished\n"
     ]
    },
    {
     "data": {
      "text/plain": [
       "{'clf__alpha': 0.1,\n",
       " 'clf__fit_prior': False,\n",
       " 'vect__binary': False,\n",
       " 'vect__ngram_range': (1, 1),\n",
       " 'vect__stop_words': None}"
      ]
     },
     "execution_count": 10,
     "metadata": {},
     "output_type": "execute_result"
    }
   ],
   "source": [
    "pipe3 = Pipeline([('vect', StemCountVectorizer()), \n",
    "                  ('clf', MultinomialNB())])\n",
    "\n",
    "parameters3 = {'vect__binary': [True, False],\n",
    "               'vect__stop_words': [None, 'english', stopwords.words('english')],\n",
    "              'vect__ngram_range': [(1,1), (1,2), (1,3)],\n",
    "              'clf__alpha': [10, 1, 1e-1, 1e-2, 1e-3, 1e-4],\n",
    "              'clf__fit_prior': [True, False]}\n",
    "\n",
    "grid3 = GridSearchCV(pipe3, parameters3, cv=cross_validator, scoring=score_method, n_jobs=-1, verbose=3)\n",
    "\n",
    "grid3.fit(X,y)\n",
    "\n",
    "grid3.best_params_"
   ]
  },
  {
   "cell_type": "code",
   "execution_count": 21,
   "metadata": {},
   "outputs": [],
   "source": [
    "model3 = Pipeline([('vect', StemCountVectorizer(binary=False, ngram_range=(1,1), stop_words=None)), \n",
    "                  ('clf', MultinomialNB(alpha=0.1, fit_prior=False))])"
   ]
  },
  {
   "cell_type": "markdown",
   "metadata": {},
   "source": [
    "### Model 4 (Stemming, better stop words, with TFIDF)"
   ]
  },
  {
   "cell_type": "code",
   "execution_count": 28,
   "metadata": {},
   "outputs": [
    {
     "name": "stdout",
     "output_type": "stream",
     "text": [
      "Fitting 5 folds for each of 864 candidates, totalling 4320 fits\n"
     ]
    },
    {
     "name": "stderr",
     "output_type": "stream",
     "text": [
      "[Parallel(n_jobs=-1)]: Using backend LokyBackend with 12 concurrent workers.\n",
      "[Parallel(n_jobs=-1)]: Done   8 tasks      | elapsed:   20.8s\n"
     ]
    },
    {
     "ename": "KeyboardInterrupt",
     "evalue": "",
     "output_type": "error",
     "traceback": [
      "\u001b[1;31m---------------------------------------------------------------------------\u001b[0m",
      "\u001b[1;31mKeyboardInterrupt\u001b[0m                         Traceback (most recent call last)",
      "\u001b[1;32m<ipython-input-28-343e94a5bc7c>\u001b[0m in \u001b[0;36m<module>\u001b[1;34m\u001b[0m\n\u001b[0;32m     13\u001b[0m \u001b[0mgrid4\u001b[0m \u001b[1;33m=\u001b[0m \u001b[0mGridSearchCV\u001b[0m\u001b[1;33m(\u001b[0m\u001b[0mpipe4\u001b[0m\u001b[1;33m,\u001b[0m \u001b[0mparameters4\u001b[0m\u001b[1;33m,\u001b[0m \u001b[0mcv\u001b[0m\u001b[1;33m=\u001b[0m\u001b[0mcross_validator\u001b[0m\u001b[1;33m,\u001b[0m \u001b[0mscoring\u001b[0m\u001b[1;33m=\u001b[0m\u001b[0mscore_method\u001b[0m\u001b[1;33m,\u001b[0m \u001b[0mn_jobs\u001b[0m\u001b[1;33m=\u001b[0m\u001b[1;33m-\u001b[0m\u001b[1;36m1\u001b[0m\u001b[1;33m,\u001b[0m \u001b[0mverbose\u001b[0m\u001b[1;33m=\u001b[0m\u001b[1;36m3\u001b[0m\u001b[1;33m)\u001b[0m\u001b[1;33m\u001b[0m\u001b[1;33m\u001b[0m\u001b[0m\n\u001b[0;32m     14\u001b[0m \u001b[1;33m\u001b[0m\u001b[0m\n\u001b[1;32m---> 15\u001b[1;33m \u001b[0mgrid4\u001b[0m\u001b[1;33m.\u001b[0m\u001b[0mfit\u001b[0m\u001b[1;33m(\u001b[0m\u001b[0mX\u001b[0m\u001b[1;33m,\u001b[0m\u001b[0my\u001b[0m\u001b[1;33m)\u001b[0m\u001b[1;33m\u001b[0m\u001b[1;33m\u001b[0m\u001b[0m\n\u001b[0m\u001b[0;32m     16\u001b[0m \u001b[1;33m\u001b[0m\u001b[0m\n\u001b[0;32m     17\u001b[0m \u001b[0mgrid4\u001b[0m\u001b[1;33m.\u001b[0m\u001b[0mbest_params_\u001b[0m\u001b[1;33m\u001b[0m\u001b[1;33m\u001b[0m\u001b[0m\n",
      "\u001b[1;32m~\\anaconda3\\lib\\site-packages\\sklearn\\utils\\validation.py\u001b[0m in \u001b[0;36minner_f\u001b[1;34m(*args, **kwargs)\u001b[0m\n\u001b[0;32m     71\u001b[0m                           FutureWarning)\n\u001b[0;32m     72\u001b[0m         \u001b[0mkwargs\u001b[0m\u001b[1;33m.\u001b[0m\u001b[0mupdate\u001b[0m\u001b[1;33m(\u001b[0m\u001b[1;33m{\u001b[0m\u001b[0mk\u001b[0m\u001b[1;33m:\u001b[0m \u001b[0marg\u001b[0m \u001b[1;32mfor\u001b[0m \u001b[0mk\u001b[0m\u001b[1;33m,\u001b[0m \u001b[0marg\u001b[0m \u001b[1;32min\u001b[0m \u001b[0mzip\u001b[0m\u001b[1;33m(\u001b[0m\u001b[0msig\u001b[0m\u001b[1;33m.\u001b[0m\u001b[0mparameters\u001b[0m\u001b[1;33m,\u001b[0m \u001b[0margs\u001b[0m\u001b[1;33m)\u001b[0m\u001b[1;33m}\u001b[0m\u001b[1;33m)\u001b[0m\u001b[1;33m\u001b[0m\u001b[1;33m\u001b[0m\u001b[0m\n\u001b[1;32m---> 73\u001b[1;33m         \u001b[1;32mreturn\u001b[0m \u001b[0mf\u001b[0m\u001b[1;33m(\u001b[0m\u001b[1;33m**\u001b[0m\u001b[0mkwargs\u001b[0m\u001b[1;33m)\u001b[0m\u001b[1;33m\u001b[0m\u001b[1;33m\u001b[0m\u001b[0m\n\u001b[0m\u001b[0;32m     74\u001b[0m     \u001b[1;32mreturn\u001b[0m \u001b[0minner_f\u001b[0m\u001b[1;33m\u001b[0m\u001b[1;33m\u001b[0m\u001b[0m\n\u001b[0;32m     75\u001b[0m \u001b[1;33m\u001b[0m\u001b[0m\n",
      "\u001b[1;32m~\\anaconda3\\lib\\site-packages\\sklearn\\model_selection\\_search.py\u001b[0m in \u001b[0;36mfit\u001b[1;34m(self, X, y, groups, **fit_params)\u001b[0m\n\u001b[0;32m    734\u001b[0m                 \u001b[1;32mreturn\u001b[0m \u001b[0mresults\u001b[0m\u001b[1;33m\u001b[0m\u001b[1;33m\u001b[0m\u001b[0m\n\u001b[0;32m    735\u001b[0m \u001b[1;33m\u001b[0m\u001b[0m\n\u001b[1;32m--> 736\u001b[1;33m             \u001b[0mself\u001b[0m\u001b[1;33m.\u001b[0m\u001b[0m_run_search\u001b[0m\u001b[1;33m(\u001b[0m\u001b[0mevaluate_candidates\u001b[0m\u001b[1;33m)\u001b[0m\u001b[1;33m\u001b[0m\u001b[1;33m\u001b[0m\u001b[0m\n\u001b[0m\u001b[0;32m    737\u001b[0m \u001b[1;33m\u001b[0m\u001b[0m\n\u001b[0;32m    738\u001b[0m         \u001b[1;31m# For multi-metric evaluation, store the best_index_, best_params_ and\u001b[0m\u001b[1;33m\u001b[0m\u001b[1;33m\u001b[0m\u001b[1;33m\u001b[0m\u001b[0m\n",
      "\u001b[1;32m~\\anaconda3\\lib\\site-packages\\sklearn\\model_selection\\_search.py\u001b[0m in \u001b[0;36m_run_search\u001b[1;34m(self, evaluate_candidates)\u001b[0m\n\u001b[0;32m   1186\u001b[0m     \u001b[1;32mdef\u001b[0m \u001b[0m_run_search\u001b[0m\u001b[1;33m(\u001b[0m\u001b[0mself\u001b[0m\u001b[1;33m,\u001b[0m \u001b[0mevaluate_candidates\u001b[0m\u001b[1;33m)\u001b[0m\u001b[1;33m:\u001b[0m\u001b[1;33m\u001b[0m\u001b[1;33m\u001b[0m\u001b[0m\n\u001b[0;32m   1187\u001b[0m         \u001b[1;34m\"\"\"Search all candidates in param_grid\"\"\"\u001b[0m\u001b[1;33m\u001b[0m\u001b[1;33m\u001b[0m\u001b[0m\n\u001b[1;32m-> 1188\u001b[1;33m         \u001b[0mevaluate_candidates\u001b[0m\u001b[1;33m(\u001b[0m\u001b[0mParameterGrid\u001b[0m\u001b[1;33m(\u001b[0m\u001b[0mself\u001b[0m\u001b[1;33m.\u001b[0m\u001b[0mparam_grid\u001b[0m\u001b[1;33m)\u001b[0m\u001b[1;33m)\u001b[0m\u001b[1;33m\u001b[0m\u001b[1;33m\u001b[0m\u001b[0m\n\u001b[0m\u001b[0;32m   1189\u001b[0m \u001b[1;33m\u001b[0m\u001b[0m\n\u001b[0;32m   1190\u001b[0m \u001b[1;33m\u001b[0m\u001b[0m\n",
      "\u001b[1;32m~\\anaconda3\\lib\\site-packages\\sklearn\\model_selection\\_search.py\u001b[0m in \u001b[0;36mevaluate_candidates\u001b[1;34m(candidate_params)\u001b[0m\n\u001b[0;32m    706\u001b[0m                               n_splits, n_candidates, n_candidates * n_splits))\n\u001b[0;32m    707\u001b[0m \u001b[1;33m\u001b[0m\u001b[0m\n\u001b[1;32m--> 708\u001b[1;33m                 out = parallel(delayed(_fit_and_score)(clone(base_estimator),\n\u001b[0m\u001b[0;32m    709\u001b[0m                                                        \u001b[0mX\u001b[0m\u001b[1;33m,\u001b[0m \u001b[0my\u001b[0m\u001b[1;33m,\u001b[0m\u001b[1;33m\u001b[0m\u001b[1;33m\u001b[0m\u001b[0m\n\u001b[0;32m    710\u001b[0m                                                        \u001b[0mtrain\u001b[0m\u001b[1;33m=\u001b[0m\u001b[0mtrain\u001b[0m\u001b[1;33m,\u001b[0m \u001b[0mtest\u001b[0m\u001b[1;33m=\u001b[0m\u001b[0mtest\u001b[0m\u001b[1;33m,\u001b[0m\u001b[1;33m\u001b[0m\u001b[1;33m\u001b[0m\u001b[0m\n",
      "\u001b[1;32m~\\anaconda3\\lib\\site-packages\\joblib\\parallel.py\u001b[0m in \u001b[0;36m__call__\u001b[1;34m(self, iterable)\u001b[0m\n\u001b[0;32m   1040\u001b[0m \u001b[1;33m\u001b[0m\u001b[0m\n\u001b[0;32m   1041\u001b[0m             \u001b[1;32mwith\u001b[0m \u001b[0mself\u001b[0m\u001b[1;33m.\u001b[0m\u001b[0m_backend\u001b[0m\u001b[1;33m.\u001b[0m\u001b[0mretrieval_context\u001b[0m\u001b[1;33m(\u001b[0m\u001b[1;33m)\u001b[0m\u001b[1;33m:\u001b[0m\u001b[1;33m\u001b[0m\u001b[1;33m\u001b[0m\u001b[0m\n\u001b[1;32m-> 1042\u001b[1;33m                 \u001b[0mself\u001b[0m\u001b[1;33m.\u001b[0m\u001b[0mretrieve\u001b[0m\u001b[1;33m(\u001b[0m\u001b[1;33m)\u001b[0m\u001b[1;33m\u001b[0m\u001b[1;33m\u001b[0m\u001b[0m\n\u001b[0m\u001b[0;32m   1043\u001b[0m             \u001b[1;31m# Make sure that we get a last message telling us we are done\u001b[0m\u001b[1;33m\u001b[0m\u001b[1;33m\u001b[0m\u001b[1;33m\u001b[0m\u001b[0m\n\u001b[0;32m   1044\u001b[0m             \u001b[0melapsed_time\u001b[0m \u001b[1;33m=\u001b[0m \u001b[0mtime\u001b[0m\u001b[1;33m.\u001b[0m\u001b[0mtime\u001b[0m\u001b[1;33m(\u001b[0m\u001b[1;33m)\u001b[0m \u001b[1;33m-\u001b[0m \u001b[0mself\u001b[0m\u001b[1;33m.\u001b[0m\u001b[0m_start_time\u001b[0m\u001b[1;33m\u001b[0m\u001b[1;33m\u001b[0m\u001b[0m\n",
      "\u001b[1;32m~\\anaconda3\\lib\\site-packages\\joblib\\parallel.py\u001b[0m in \u001b[0;36mretrieve\u001b[1;34m(self)\u001b[0m\n\u001b[0;32m    919\u001b[0m             \u001b[1;32mtry\u001b[0m\u001b[1;33m:\u001b[0m\u001b[1;33m\u001b[0m\u001b[1;33m\u001b[0m\u001b[0m\n\u001b[0;32m    920\u001b[0m                 \u001b[1;32mif\u001b[0m \u001b[0mgetattr\u001b[0m\u001b[1;33m(\u001b[0m\u001b[0mself\u001b[0m\u001b[1;33m.\u001b[0m\u001b[0m_backend\u001b[0m\u001b[1;33m,\u001b[0m \u001b[1;34m'supports_timeout'\u001b[0m\u001b[1;33m,\u001b[0m \u001b[1;32mFalse\u001b[0m\u001b[1;33m)\u001b[0m\u001b[1;33m:\u001b[0m\u001b[1;33m\u001b[0m\u001b[1;33m\u001b[0m\u001b[0m\n\u001b[1;32m--> 921\u001b[1;33m                     \u001b[0mself\u001b[0m\u001b[1;33m.\u001b[0m\u001b[0m_output\u001b[0m\u001b[1;33m.\u001b[0m\u001b[0mextend\u001b[0m\u001b[1;33m(\u001b[0m\u001b[0mjob\u001b[0m\u001b[1;33m.\u001b[0m\u001b[0mget\u001b[0m\u001b[1;33m(\u001b[0m\u001b[0mtimeout\u001b[0m\u001b[1;33m=\u001b[0m\u001b[0mself\u001b[0m\u001b[1;33m.\u001b[0m\u001b[0mtimeout\u001b[0m\u001b[1;33m)\u001b[0m\u001b[1;33m)\u001b[0m\u001b[1;33m\u001b[0m\u001b[1;33m\u001b[0m\u001b[0m\n\u001b[0m\u001b[0;32m    922\u001b[0m                 \u001b[1;32melse\u001b[0m\u001b[1;33m:\u001b[0m\u001b[1;33m\u001b[0m\u001b[1;33m\u001b[0m\u001b[0m\n\u001b[0;32m    923\u001b[0m                     \u001b[0mself\u001b[0m\u001b[1;33m.\u001b[0m\u001b[0m_output\u001b[0m\u001b[1;33m.\u001b[0m\u001b[0mextend\u001b[0m\u001b[1;33m(\u001b[0m\u001b[0mjob\u001b[0m\u001b[1;33m.\u001b[0m\u001b[0mget\u001b[0m\u001b[1;33m(\u001b[0m\u001b[1;33m)\u001b[0m\u001b[1;33m)\u001b[0m\u001b[1;33m\u001b[0m\u001b[1;33m\u001b[0m\u001b[0m\n",
      "\u001b[1;32m~\\anaconda3\\lib\\site-packages\\joblib\\_parallel_backends.py\u001b[0m in \u001b[0;36mwrap_future_result\u001b[1;34m(future, timeout)\u001b[0m\n\u001b[0;32m    540\u001b[0m         AsyncResults.get from multiprocessing.\"\"\"\n\u001b[0;32m    541\u001b[0m         \u001b[1;32mtry\u001b[0m\u001b[1;33m:\u001b[0m\u001b[1;33m\u001b[0m\u001b[1;33m\u001b[0m\u001b[0m\n\u001b[1;32m--> 542\u001b[1;33m             \u001b[1;32mreturn\u001b[0m \u001b[0mfuture\u001b[0m\u001b[1;33m.\u001b[0m\u001b[0mresult\u001b[0m\u001b[1;33m(\u001b[0m\u001b[0mtimeout\u001b[0m\u001b[1;33m=\u001b[0m\u001b[0mtimeout\u001b[0m\u001b[1;33m)\u001b[0m\u001b[1;33m\u001b[0m\u001b[1;33m\u001b[0m\u001b[0m\n\u001b[0m\u001b[0;32m    543\u001b[0m         \u001b[1;32mexcept\u001b[0m \u001b[0mCfTimeoutError\u001b[0m \u001b[1;32mas\u001b[0m \u001b[0me\u001b[0m\u001b[1;33m:\u001b[0m\u001b[1;33m\u001b[0m\u001b[1;33m\u001b[0m\u001b[0m\n\u001b[0;32m    544\u001b[0m             \u001b[1;32mraise\u001b[0m \u001b[0mTimeoutError\u001b[0m \u001b[1;32mfrom\u001b[0m \u001b[0me\u001b[0m\u001b[1;33m\u001b[0m\u001b[1;33m\u001b[0m\u001b[0m\n",
      "\u001b[1;32m~\\anaconda3\\lib\\concurrent\\futures\\_base.py\u001b[0m in \u001b[0;36mresult\u001b[1;34m(self, timeout)\u001b[0m\n\u001b[0;32m    432\u001b[0m                 \u001b[1;32mreturn\u001b[0m \u001b[0mself\u001b[0m\u001b[1;33m.\u001b[0m\u001b[0m__get_result\u001b[0m\u001b[1;33m(\u001b[0m\u001b[1;33m)\u001b[0m\u001b[1;33m\u001b[0m\u001b[1;33m\u001b[0m\u001b[0m\n\u001b[0;32m    433\u001b[0m \u001b[1;33m\u001b[0m\u001b[0m\n\u001b[1;32m--> 434\u001b[1;33m             \u001b[0mself\u001b[0m\u001b[1;33m.\u001b[0m\u001b[0m_condition\u001b[0m\u001b[1;33m.\u001b[0m\u001b[0mwait\u001b[0m\u001b[1;33m(\u001b[0m\u001b[0mtimeout\u001b[0m\u001b[1;33m)\u001b[0m\u001b[1;33m\u001b[0m\u001b[1;33m\u001b[0m\u001b[0m\n\u001b[0m\u001b[0;32m    435\u001b[0m \u001b[1;33m\u001b[0m\u001b[0m\n\u001b[0;32m    436\u001b[0m             \u001b[1;32mif\u001b[0m \u001b[0mself\u001b[0m\u001b[1;33m.\u001b[0m\u001b[0m_state\u001b[0m \u001b[1;32min\u001b[0m \u001b[1;33m[\u001b[0m\u001b[0mCANCELLED\u001b[0m\u001b[1;33m,\u001b[0m \u001b[0mCANCELLED_AND_NOTIFIED\u001b[0m\u001b[1;33m]\u001b[0m\u001b[1;33m:\u001b[0m\u001b[1;33m\u001b[0m\u001b[1;33m\u001b[0m\u001b[0m\n",
      "\u001b[1;32m~\\anaconda3\\lib\\threading.py\u001b[0m in \u001b[0;36mwait\u001b[1;34m(self, timeout)\u001b[0m\n\u001b[0;32m    300\u001b[0m         \u001b[1;32mtry\u001b[0m\u001b[1;33m:\u001b[0m    \u001b[1;31m# restore state no matter what (e.g., KeyboardInterrupt)\u001b[0m\u001b[1;33m\u001b[0m\u001b[1;33m\u001b[0m\u001b[0m\n\u001b[0;32m    301\u001b[0m             \u001b[1;32mif\u001b[0m \u001b[0mtimeout\u001b[0m \u001b[1;32mis\u001b[0m \u001b[1;32mNone\u001b[0m\u001b[1;33m:\u001b[0m\u001b[1;33m\u001b[0m\u001b[1;33m\u001b[0m\u001b[0m\n\u001b[1;32m--> 302\u001b[1;33m                 \u001b[0mwaiter\u001b[0m\u001b[1;33m.\u001b[0m\u001b[0macquire\u001b[0m\u001b[1;33m(\u001b[0m\u001b[1;33m)\u001b[0m\u001b[1;33m\u001b[0m\u001b[1;33m\u001b[0m\u001b[0m\n\u001b[0m\u001b[0;32m    303\u001b[0m                 \u001b[0mgotit\u001b[0m \u001b[1;33m=\u001b[0m \u001b[1;32mTrue\u001b[0m\u001b[1;33m\u001b[0m\u001b[1;33m\u001b[0m\u001b[0m\n\u001b[0;32m    304\u001b[0m             \u001b[1;32melse\u001b[0m\u001b[1;33m:\u001b[0m\u001b[1;33m\u001b[0m\u001b[1;33m\u001b[0m\u001b[0m\n",
      "\u001b[1;31mKeyboardInterrupt\u001b[0m: "
     ]
    }
   ],
   "source": [
    "pipe4 = Pipeline([('vect', StemCountVectorizer()),\n",
    "                  ('tfidf', TfidfTransformer()),\n",
    "                  ('clf', MultinomialNB())])\n",
    "\n",
    "parameters4 = {'vect__binary': [True, False],\n",
    "               'vect__stop_words': [None, 'english', stopwords.words('english')],\n",
    "              'vect__ngram_range': [(1,1), (1,2), (1,3)],\n",
    "              'tfidf__norm': ['l1', 'l2'],\n",
    "              'tfidf__use_idf': [True, False],\n",
    "              'clf__alpha': [10, 1, 1e-1, 1e-2, 1e-3, 1e-4],\n",
    "              'clf__fit_prior': [True, False]}\n",
    "\n",
    "grid4 = GridSearchCV(pipe4, parameters4, cv=cross_validator, scoring=score_method, n_jobs=-1, verbose=3)\n",
    "\n",
    "grid4.fit(X,y)\n",
    "\n",
    "grid4.best_params_"
   ]
  },
  {
   "cell_type": "code",
   "execution_count": null,
   "metadata": {},
   "outputs": [],
   "source": [
    "model4 = "
   ]
  },
  {
   "cell_type": "markdown",
   "metadata": {},
   "source": [
    "# Results"
   ]
  },
  {
   "cell_type": "code",
   "execution_count": 22,
   "metadata": {},
   "outputs": [
    {
     "data": {
      "text/html": [
       "<div>\n",
       "<style scoped>\n",
       "    .dataframe tbody tr th:only-of-type {\n",
       "        vertical-align: middle;\n",
       "    }\n",
       "\n",
       "    .dataframe tbody tr th {\n",
       "        vertical-align: top;\n",
       "    }\n",
       "\n",
       "    .dataframe thead th {\n",
       "        text-align: right;\n",
       "    }\n",
       "</style>\n",
       "<table border=\"1\" class=\"dataframe\">\n",
       "  <thead>\n",
       "    <tr style=\"text-align: right;\">\n",
       "      <th></th>\n",
       "      <th>model 1</th>\n",
       "      <th>model 2</th>\n",
       "      <th>model 3</th>\n",
       "    </tr>\n",
       "    <tr>\n",
       "      <th>fold</th>\n",
       "      <th></th>\n",
       "      <th></th>\n",
       "      <th></th>\n",
       "    </tr>\n",
       "  </thead>\n",
       "  <tbody>\n",
       "    <tr>\n",
       "      <th>0</th>\n",
       "      <td>0.279091</td>\n",
       "      <td>0.292272</td>\n",
       "      <td>0.279967</td>\n",
       "    </tr>\n",
       "    <tr>\n",
       "      <th>1</th>\n",
       "      <td>0.243664</td>\n",
       "      <td>0.246281</td>\n",
       "      <td>0.267587</td>\n",
       "    </tr>\n",
       "    <tr>\n",
       "      <th>2</th>\n",
       "      <td>0.249391</td>\n",
       "      <td>0.247448</td>\n",
       "      <td>0.260520</td>\n",
       "    </tr>\n",
       "    <tr>\n",
       "      <th>3</th>\n",
       "      <td>0.254287</td>\n",
       "      <td>0.273953</td>\n",
       "      <td>0.290900</td>\n",
       "    </tr>\n",
       "    <tr>\n",
       "      <th>4</th>\n",
       "      <td>0.269068</td>\n",
       "      <td>0.279468</td>\n",
       "      <td>0.234098</td>\n",
       "    </tr>\n",
       "    <tr>\n",
       "      <th>mean</th>\n",
       "      <td>0.259100</td>\n",
       "      <td>0.267884</td>\n",
       "      <td>0.266614</td>\n",
       "    </tr>\n",
       "    <tr>\n",
       "      <th>std</th>\n",
       "      <td>0.013074</td>\n",
       "      <td>0.018167</td>\n",
       "      <td>0.019306</td>\n",
       "    </tr>\n",
       "    <tr>\n",
       "      <th>max</th>\n",
       "      <td>0.279091</td>\n",
       "      <td>0.292272</td>\n",
       "      <td>0.290900</td>\n",
       "    </tr>\n",
       "  </tbody>\n",
       "</table>\n",
       "</div>"
      ],
      "text/plain": [
       "       model 1   model 2   model 3\n",
       "fold                              \n",
       "0     0.279091  0.292272  0.279967\n",
       "1     0.243664  0.246281  0.267587\n",
       "2     0.249391  0.247448  0.260520\n",
       "3     0.254287  0.273953  0.290900\n",
       "4     0.269068  0.279468  0.234098\n",
       "mean  0.259100  0.267884  0.266614\n",
       "std   0.013074  0.018167  0.019306\n",
       "max   0.279091  0.292272  0.290900"
      ]
     },
     "execution_count": 22,
     "metadata": {},
     "output_type": "execute_result"
    }
   ],
   "source": [
    "results1 = cross_val_score(model1, X, y, cv=cross_validator, scoring=score_method, n_jobs=-1)\n",
    "results2 = cross_val_score(model2, X, y, cv=cross_validator, scoring=score_method, n_jobs=-1)\n",
    "results3 = cross_val_score(model3, X, y, cv=cross_validator, scoring=score_method, n_jobs=-1)\n",
    "results4 = cross_val_score(model4, X, y, cv=cross_validator, scoring=score_method, n_jobs=-1)\n",
    "\n",
    "table = pd.DataFrame({\"model 1\": results1, \"model 2\": results2, \"model 3\": results3, \"model 4\": results4})\n",
    "table.index.name = \"fold\"\n",
    "table.loc[\"mean\"] = table.mean()\n",
    "table.loc[\"std\"] = table.std()\n",
    "table.loc[\"max\"] = table.max()\n",
    "\n",
    "table"
   ]
  },
  {
   "cell_type": "markdown",
   "metadata": {},
   "source": [
    "Looks like model 3 performed better on average.  Let's see it's confusion matrix on a random train / test split of the data in case there are any obvious patterns."
   ]
  },
  {
   "cell_type": "code",
   "execution_count": 23,
   "metadata": {},
   "outputs": [
    {
     "name": "stdout",
     "output_type": "stream",
     "text": [
      "balanced_accuracy: 0.275393076972253\n"
     ]
    },
    {
     "data": {
      "image/png": "[encoded data removed]",
      "text/plain": [
       "<Figure size 432x288 with 2 Axes>"
      ]
     },
     "metadata": {
      "needs_background": "light"
     },
     "output_type": "display_data"
    }
   ],
   "source": [
    "from sklearn.model_selection import train_test_split\n",
    "\n",
    "X_train, X_test, y_train, y_test = train_test_split(X, y, test_size=0.2, random_state=RANDOM_SEED)\n",
    "\n",
    "model3.fit(X_train,y_train)\n",
    "yhat = model3.predict(X_test)\n",
    "\n",
    "print(\"balanced_accuracy:\", metrics.balanced_accuracy_score(y_test, yhat))\n",
    "\n",
    "plot = metrics.plot_confusion_matrix(model3, X_test, y_test,\n",
    "                             values_format = 'd',\n",
    "                             cmap=plt.cm.Blues)"
   ]
  },
  {
   "cell_type": "markdown",
   "metadata": {},
   "source": [
    "## Learning Curve"
   ]
  },
  {
   "cell_type": "markdown",
   "metadata": {},
   "source": [
    "Do we have enough training examples?  Let's find out."
   ]
  },
  {
   "cell_type": "code",
   "execution_count": 24,
   "metadata": {},
   "outputs": [],
   "source": [
    "def plot_learning_curve(estimator, title, X, y, axes=None, cv=None,\n",
    "                        n_jobs=-1, train_sizes=np.linspace(.1, 1.0, 5)):\n",
    "    \n",
    "    plt.title(title)\n",
    "    plt.xlabel(\"Training examples\")\n",
    "    plt.ylabel(\"Score\")\n",
    "\n",
    "    train_sizes, train_scores, test_scores = \\\n",
    "        learning_curve(estimator, X, y, cv=cv, n_jobs=n_jobs,\n",
    "                       train_sizes=train_sizes, verbose=3)\n",
    "    train_scores_mean = np.mean(train_scores, axis=1)\n",
    "    train_scores_std = np.std(train_scores, axis=1)\n",
    "    test_scores_mean = np.mean(test_scores, axis=1)\n",
    "    test_scores_std = np.std(test_scores, axis=1)\n",
    "\n",
    "    # Plot learning curve\n",
    "    plt.grid()\n",
    "    plt.fill_between(train_sizes, train_scores_mean - train_scores_std,\n",
    "                         train_scores_mean + train_scores_std, alpha=0.1,\n",
    "                         color=\"r\")\n",
    "    plt.fill_between(train_sizes, test_scores_mean - test_scores_std,\n",
    "                         test_scores_mean + test_scores_std, alpha=0.1,\n",
    "                         color=\"g\")\n",
    "    plt.plot(train_sizes, train_scores_mean, 'o-', color=\"r\",\n",
    "                 label=\"Training score\")\n",
    "    plt.plot(train_sizes, test_scores_mean, 'o-', color=\"g\",\n",
    "                 label=\"Cross-validation score\")\n",
    "    plt.legend(loc=\"best\")\n",
    "\n",
    "    return plot"
   ]
  },
  {
   "cell_type": "code",
   "execution_count": 25,
   "metadata": {},
   "outputs": [
    {
     "name": "stdout",
     "output_type": "stream",
     "text": [
      "[learning_curve] Training set sizes: [ 206  671 1136 1601 2066]\n"
     ]
    },
    {
     "name": "stderr",
     "output_type": "stream",
     "text": [
      "[Parallel(n_jobs=-1)]: Using backend LokyBackend with 12 concurrent workers.\n",
      "[Parallel(n_jobs=-1)]: Done   8 out of  25 | elapsed:   19.9s remaining:   42.4s\n",
      "[Parallel(n_jobs=-1)]: Done  17 out of  25 | elapsed:   34.2s remaining:   16.0s\n",
      "[Parallel(n_jobs=-1)]: Done  25 out of  25 | elapsed:   45.7s finished\n"
     ]
    },
    {
     "data": {
      "text/plain": [
       "<sklearn.metrics._plot.confusion_matrix.ConfusionMatrixDisplay at 0x2a6764c8ee0>"
      ]
     },
     "execution_count": 25,
     "metadata": {},
     "output_type": "execute_result"
    },
    {
     "data": {
      "image/png": "[encoded data removed]",
      "text/plain": [
       "<Figure size 432x288 with 1 Axes>"
      ]
     },
     "metadata": {
      "needs_background": "light"
     },
     "output_type": "display_data"
    }
   ],
   "source": [
    "from sklearn.model_selection import learning_curve\n",
    "\n",
    "title = \"Learning Curves (Naive Bayes with Stemming)\"\n",
    "\n",
    "plot_learning_curve(model3, title, X, y, cv=cross_validator)"
   ]
  },
  {
   "cell_type": "markdown",
   "metadata": {},
   "source": [
    "## Conclusions"
   ]
  },
  {
   "cell_type": "markdown",
   "metadata": {},
   "source": [
    "It appears to me that these scores in the learning curve have not converged, which suggests that more training examples might yield better performance on this model.  Each character has relatively few words spoken compared to other problems Naive Bayes (NB) might be good at.  For example, Tony Stark only speaks 7600 words in the whole dataset.  Is this too few to train and test on? Also, the balanced accuracy shown in the tables above show very poor performance.  I'm willing to bet this could be because of how little data I have.  However, there is a chance that NB just doesn't work well on this dataset.  In general, movie characters will be discussing similar topics (the plot of the movie), which might make it hard to distinguish character using a bag of words model like NB.\n",
    "\n",
    "I'm going to try a different model first (most likely SVM or Random Forest), and then, if needed, I'll add more movies to the dataset and retry Naive Bayes."
   ]
  }
 ],
 "metadata": {
  "kernelspec": {
   "display_name": "Python 3",
   "language": "python",
   "name": "python3"
  },
  "language_info": {
   "codemirror_mode": {
    "name": "ipython",
    "version": 3
   },
   "file_extension": ".py",
   "mimetype": "text/x-python",
   "name": "python",
   "nbconvert_exporter": "python",
   "pygments_lexer": "ipython3",
   "version": "3.8.3"
  }
 },
 "nbformat": 4,
 "nbformat_minor": 4
}
