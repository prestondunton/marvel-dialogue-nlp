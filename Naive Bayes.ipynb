{
 "cells": [
  {
   "cell_type": "code",
   "execution_count": 250,
   "metadata": {},
   "outputs": [],
   "source": [
    "import pandas as pd\n",
    "import numpy as np\n",
    "pd.set_option('display.max_rows', None)\n",
    "pd.set_option('display.max_colwidth', None)"
   ]
  },
  {
   "cell_type": "markdown",
   "metadata": {},
   "source": [
    "## Import Data"
   ]
  },
  {
   "cell_type": "code",
   "execution_count": 265,
   "metadata": {},
   "outputs": [
    {
     "data": {
      "text/plain": [
       "(array(['Good sport.  Have fun?',\n",
       "        'This thing on?  Hey, Ms. Potts. Pep.  If you find this recording, don’t post it on social media. It’s going to be a real tearjerker.',\n",
       "        'I don’t know if you’re ever going to see these.  I don’t even know if you’re still...God, I hope so. Today’s day twenty-one, no...twenty- two.',\n",
       "        ...,\n",
       "        'What’s boring is when you roll your eyes like that at me and make an exasperated sound like I’m an old, boring, stupid idiot.',\n",
       "        'Now I know how Yondu felt.', 'Yondu.'], dtype='<U606'),\n",
       " array(['TONY STARK', 'TONY STARK', 'TONY STARK', ..., 'PETER QUILL',\n",
       "        'PETER QUILL', 'PETER QUILL'], dtype='<U12'))"
      ]
     },
     "execution_count": 265,
     "metadata": {},
     "output_type": "execute_result"
    }
   ],
   "source": [
    "mcu = pd.read_csv(\"./data/mcu.csv\")\n",
    "\n",
    "min_line_count = 150\n",
    "\n",
    "is_main_character = mcu[\"character\"].value_counts() > min_line_count\n",
    "is_main_character = is_main_character.rename(\"is main character\", axis=0)\n",
    "\n",
    "main_character_rows = is_main_character[mcu[\"character\"]]\n",
    "main_character_rows = main_character_rows.reset_index(drop=True)\n",
    "\n",
    "mcu = mcu[main_character_rows]\n",
    "\n",
    "y = mcu[\"character\"].to_numpy().astype(str)\n",
    "X = mcu[\"line\"].to_numpy().astype(str)\n",
    "\n",
    "X, y"
   ]
  },
  {
   "cell_type": "markdown",
   "metadata": {},
   "source": [
    "## Train Test Split"
   ]
  },
  {
   "cell_type": "code",
   "execution_count": 266,
   "metadata": {},
   "outputs": [
    {
     "data": {
      "text/html": [
       "<div>\n",
       "<style scoped>\n",
       "    .dataframe tbody tr th:only-of-type {\n",
       "        vertical-align: middle;\n",
       "    }\n",
       "\n",
       "    .dataframe tbody tr th {\n",
       "        vertical-align: top;\n",
       "    }\n",
       "\n",
       "    .dataframe thead th {\n",
       "        text-align: right;\n",
       "    }\n",
       "</style>\n",
       "<table border=\"1\" class=\"dataframe\">\n",
       "  <thead>\n",
       "    <tr style=\"text-align: right;\">\n",
       "      <th></th>\n",
       "      <th>Training Examples</th>\n",
       "      <th>Testing Examples</th>\n",
       "      <th>total</th>\n",
       "    </tr>\n",
       "  </thead>\n",
       "  <tbody>\n",
       "    <tr>\n",
       "      <th>total</th>\n",
       "      <td>2066</td>\n",
       "      <td>517</td>\n",
       "      <td>2583</td>\n",
       "    </tr>\n",
       "    <tr>\n",
       "      <th>TONY STARK</th>\n",
       "      <td>513</td>\n",
       "      <td>132</td>\n",
       "      <td>645</td>\n",
       "    </tr>\n",
       "    <tr>\n",
       "      <th>THOR</th>\n",
       "      <td>371</td>\n",
       "      <td>108</td>\n",
       "      <td>479</td>\n",
       "    </tr>\n",
       "    <tr>\n",
       "      <th>STEVE ROGERS</th>\n",
       "      <td>210</td>\n",
       "      <td>50</td>\n",
       "      <td>260</td>\n",
       "    </tr>\n",
       "    <tr>\n",
       "      <th>BRUCE BANNER</th>\n",
       "      <td>203</td>\n",
       "      <td>55</td>\n",
       "      <td>258</td>\n",
       "    </tr>\n",
       "    <tr>\n",
       "      <th>PETER QUILL</th>\n",
       "      <td>185</td>\n",
       "      <td>43</td>\n",
       "      <td>228</td>\n",
       "    </tr>\n",
       "    <tr>\n",
       "      <th>ROCKET</th>\n",
       "      <td>160</td>\n",
       "      <td>38</td>\n",
       "      <td>198</td>\n",
       "    </tr>\n",
       "    <tr>\n",
       "      <th>NATASHA</th>\n",
       "      <td>144</td>\n",
       "      <td>35</td>\n",
       "      <td>179</td>\n",
       "    </tr>\n",
       "    <tr>\n",
       "      <th>PEPPER POTTS</th>\n",
       "      <td>142</td>\n",
       "      <td>30</td>\n",
       "      <td>172</td>\n",
       "    </tr>\n",
       "    <tr>\n",
       "      <th>LOKI</th>\n",
       "      <td>138</td>\n",
       "      <td>26</td>\n",
       "      <td>164</td>\n",
       "    </tr>\n",
       "  </tbody>\n",
       "</table>\n",
       "</div>"
      ],
      "text/plain": [
       "              Training Examples  Testing Examples  total\n",
       "total                      2066               517   2583\n",
       "TONY STARK                  513               132    645\n",
       "THOR                        371               108    479\n",
       "STEVE ROGERS                210                50    260\n",
       "BRUCE BANNER                203                55    258\n",
       "PETER QUILL                 185                43    228\n",
       "ROCKET                      160                38    198\n",
       "NATASHA                     144                35    179\n",
       "PEPPER POTTS                142                30    172\n",
       "LOKI                        138                26    164"
      ]
     },
     "execution_count": 266,
     "metadata": {},
     "output_type": "execute_result"
    }
   ],
   "source": [
    "from sklearn.model_selection import train_test_split\n",
    "\n",
    "X_train, X_test, y_train, y_test = train_test_split(X, y, test_size=0.2, random_state=42)\n",
    "\n",
    "train_examples_by_class = pd.DataFrame(y_train)[0].value_counts()\n",
    "test_examples_by_class = pd.DataFrame(y_test)[0].value_counts()\n",
    "\n",
    "table = pd.DataFrame({\"Training Examples\": train_examples_by_class, \n",
    "                      \"Testing Examples\": test_examples_by_class})\n",
    "table['total'] = table.sum(axis=1)\n",
    "table.loc['total'] = table.sum()\n",
    "\n",
    "table.fillna(0, inplace=True)\n",
    "table = table.astype('int64')\n",
    "table = table.sort_values(by='total', ascending=False)\n",
    "\n",
    "table"
   ]
  },
  {
   "cell_type": "markdown",
   "metadata": {},
   "source": [
    "## Model"
   ]
  },
  {
   "cell_type": "code",
   "execution_count": 267,
   "metadata": {},
   "outputs": [
    {
     "name": "stdout",
     "output_type": "stream",
     "text": [
      "accuracy:  0.31721470019342357\n",
      "{'clf__alpha': 0.1, 'tfidf__use_idf': False, 'vect__binary': False, 'vect__ngram_range': (1, 1), 'vect__stop_words': None}\n"
     ]
    }
   ],
   "source": [
    "from sklearn.pipeline import Pipeline\n",
    "from sklearn.model_selection import GridSearchCV\n",
    "\n",
    "from sklearn.naive_bayes import MultinomialNB\n",
    "from sklearn.naive_bayes import BernoulliNB\n",
    "from sklearn.feature_extraction.text import CountVectorizer\n",
    "from sklearn.feature_extraction.text import TfidfTransformer\n",
    "\n",
    "from sklearn import metrics\n",
    "import matplotlib.pyplot as plt\n",
    "\n",
    "model = Pipeline([('vect', CountVectorizer()), \n",
    "                  ('tfidf', TfidfTransformer()), \n",
    "                  ('clf', MultinomialNB())])\n",
    "\n",
    "parameters = {'vect__ngram_range': [(1, 1), (1, 2)],\n",
    "              'vect__binary': [True, False],\n",
    "              'vect__stop_words': [None, 'english'],\n",
    "              'tfidf__use_idf': [True, False],\n",
    "              'clf__alpha': [10,1,1e-1, 1e-2, 1e-3, 1e-4]}\n",
    "\n",
    "gs_clf = GridSearchCV(model, parameters, n_jobs=-1)\n",
    "gs_clf = gs_clf.fit(X_train, y_train)\n",
    "\n",
    "yhat = gs_clf.predict(X_test)\n",
    "\n",
    "print('accuracy: ', np.sum(yhat==y_test) / len(yhat))\n",
    "print(gs_clf.best_params_)"
   ]
  },
  {
   "cell_type": "code",
   "execution_count": 268,
   "metadata": {},
   "outputs": [
    {
     "data": {
      "image/png": "[encoded data removed]",
      "text/plain": [
       "<Figure size 432x288 with 2 Axes>"
      ]
     },
     "metadata": {
      "needs_background": "light"
     },
     "output_type": "display_data"
    }
   ],
   "source": [
    "from sklearn.metrics import plot_confusion_matrix\n",
    "plot = plot_confusion_matrix(gs_clf, X_test, y_test,\n",
    "                             values_format = 'd',\n",
    "                             cmap=plt.cm.Blues)"
   ]
  }
 ],
 "metadata": {
  "kernelspec": {
   "display_name": "Python 3",
   "language": "python",
   "name": "python3"
  },
  "language_info": {
   "codemirror_mode": {
    "name": "ipython",
    "version": 3
   },
   "file_extension": ".py",
   "mimetype": "text/x-python",
   "name": "python",
   "nbconvert_exporter": "python",
   "pygments_lexer": "ipython3",
   "version": "3.8.3"
  }
 },
 "nbformat": 4,
 "nbformat_minor": 4
}
